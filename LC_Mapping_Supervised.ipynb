{
  "nbformat": 4,
  "nbformat_minor": 0,
  "metadata": {
    "colab": {
      "provenance": []
    },
    "kernelspec": {
      "name": "python3",
      "display_name": "Python 3"
    },
    "language_info": {
      "name": "python"
    },
    "widgets": {
      "application/vnd.jupyter.widget-state+json": {
        "1f02f707819e4e75a5e6fcdf0c4e0a11": {
          "model_module": "jupyter-leaflet",
          "model_name": "LeafletMapModel",
          "model_module_version": "^0.18",
          "state": {
            "_dom_classes": [],
            "_model_module": "jupyter-leaflet",
            "_model_module_version": "^0.18",
            "_model_name": "LeafletMapModel",
            "_view_count": null,
            "_view_module": "jupyter-leaflet",
            "_view_module_version": "^0.18",
            "_view_name": "LeafletMapView",
            "bottom": 2002896,
            "bounce_at_zoom_limits": true,
            "box_zoom": true,
            "center": [
              8.088800988047689,
              98.80871777384421
            ],
            "close_popup_on_click": true,
            "controls": [
              "IPY_MODEL_12cb8e9c237147a7bacd90e4c605eda6",
              "IPY_MODEL_0c727f137bdd494494fbc1c9f41b1e8d",
              "IPY_MODEL_46a90890cafc498e8798f12fa198f9e2",
              "IPY_MODEL_0509b1c38e794fe1aecc8c4159c7df75",
              "IPY_MODEL_a41a7ce45a9646f0907be0e4bd93bf8f",
              "IPY_MODEL_d982edbbeca641be90f8584168ea6efc",
              "IPY_MODEL_01ce1ada958444418b20f60c34322356",
              "IPY_MODEL_a350cd37fbcf4cb8bb0bb543cc16b723"
            ],
            "crs": {
              "name": "EPSG3857",
              "custom": false
            },
            "default_style": "IPY_MODEL_aeb44e054fd848ba802b88d6c65ccc8a",
            "double_click_zoom": true,
            "dragging": true,
            "dragging_style": "IPY_MODEL_9e99015597e943a1a41ed28776067474",
            "east": 98.85240554809572,
            "fullscreen": false,
            "inertia": true,
            "inertia_deceleration": 3000,
            "inertia_max_speed": 1500,
            "interpolation": "bilinear",
            "keyboard": true,
            "keyboard_pan_offset": 80,
            "keyboard_zoom_offset": 1,
            "layers": [
              "IPY_MODEL_0db03516ad784e93894490b0743b7618",
              "IPY_MODEL_a607473e476c48cc8af121828ad219ff"
            ],
            "layout": "IPY_MODEL_518ab3832a824cbc8060f16a84e8f9c4",
            "left": 3247848,
            "max_zoom": 24,
            "min_zoom": null,
            "modisdate": "2024-04-04",
            "north": 8.11429485320612,
            "options": [
              "bounce_at_zoom_limits",
              "box_zoom",
              "center",
              "close_popup_on_click",
              "double_click_zoom",
              "dragging",
              "fullscreen",
              "inertia",
              "inertia_deceleration",
              "inertia_max_speed",
              "interpolation",
              "keyboard",
              "keyboard_pan_offset",
              "keyboard_zoom_offset",
              "max_zoom",
              "min_zoom",
              "prefer_canvas",
              "scroll_wheel_zoom",
              "tap",
              "tap_tolerance",
              "touch_zoom",
              "world_copy_jump",
              "zoom",
              "zoom_animation_threshold",
              "zoom_delta",
              "zoom_snap"
            ],
            "panes": {},
            "prefer_canvas": false,
            "right": 3248866,
            "scroll_wheel_zoom": true,
            "south": 8.063308790453608,
            "style": "IPY_MODEL_aeb44e054fd848ba802b88d6c65ccc8a",
            "tap": true,
            "tap_tolerance": 15,
            "top": 2002296,
            "touch_zoom": true,
            "west": 98.76502990722658,
            "window_url": "https://drgyj0z61t-496ff2e9c6d22116-0-colab.googleusercontent.com/outputframe.html?vrz=colab_20240403-060136_RC00_621473488",
            "world_copy_jump": false,
            "zoom": 14,
            "zoom_animation_threshold": 4,
            "zoom_delta": 1,
            "zoom_snap": 1
          }
        },
        "12cb8e9c237147a7bacd90e4c605eda6": {
          "model_module": "jupyter-leaflet",
          "model_name": "LeafletWidgetControlModel",
          "model_module_version": "^0.18",
          "state": {
            "_model_module": "jupyter-leaflet",
            "_model_module_version": "^0.18",
            "_model_name": "LeafletWidgetControlModel",
            "_view_count": null,
            "_view_module": "jupyter-leaflet",
            "_view_module_version": "^0.18",
            "_view_name": "LeafletWidgetControlView",
            "max_height": null,
            "max_width": null,
            "min_height": null,
            "min_width": null,
            "options": [
              "position",
              "transparent_bg"
            ],
            "position": "topleft",
            "transparent_bg": false,
            "widget": "IPY_MODEL_d09a73a83dad4b37ac08c7c0f4755771"
          }
        },
        "0c727f137bdd494494fbc1c9f41b1e8d": {
          "model_module": "jupyter-leaflet",
          "model_name": "LeafletZoomControlModel",
          "model_module_version": "^0.18",
          "state": {
            "_model_module": "jupyter-leaflet",
            "_model_module_version": "^0.18",
            "_model_name": "LeafletZoomControlModel",
            "_view_count": null,
            "_view_module": "jupyter-leaflet",
            "_view_module_version": "^0.18",
            "_view_name": "LeafletZoomControlView",
            "options": [
              "position",
              "zoom_in_text",
              "zoom_in_title",
              "zoom_out_text",
              "zoom_out_title"
            ],
            "position": "topleft",
            "zoom_in_text": "+",
            "zoom_in_title": "Zoom in",
            "zoom_out_text": "-",
            "zoom_out_title": "Zoom out"
          }
        },
        "46a90890cafc498e8798f12fa198f9e2": {
          "model_module": "jupyter-leaflet",
          "model_name": "LeafletFullScreenControlModel",
          "model_module_version": "^0.18",
          "state": {
            "_model_module": "jupyter-leaflet",
            "_model_module_version": "^0.18",
            "_model_name": "LeafletFullScreenControlModel",
            "_view_count": null,
            "_view_module": "jupyter-leaflet",
            "_view_module_version": "^0.18",
            "_view_name": "LeafletFullScreenControlView",
            "options": [
              "position"
            ],
            "position": "topleft"
          }
        },
        "0509b1c38e794fe1aecc8c4159c7df75": {
          "model_module": "jupyter-leaflet",
          "model_name": "LeafletDrawControlModel",
          "model_module_version": "^0.18",
          "state": {
            "_model_module": "jupyter-leaflet",
            "_model_module_version": "^0.18",
            "_model_name": "LeafletDrawControlModel",
            "_view_count": null,
            "_view_module": "jupyter-leaflet",
            "_view_module_version": "^0.18",
            "_view_name": "LeafletDrawControlView",
            "circle": {},
            "circlemarker": {},
            "data": [],
            "edit": true,
            "marker": {
              "shapeOptions": {
                "color": "#3388ff"
              }
            },
            "options": [
              "position"
            ],
            "polygon": {
              "shapeOptions": {}
            },
            "polyline": {
              "shapeOptions": {}
            },
            "position": "topleft",
            "rectangle": {
              "shapeOptions": {
                "color": "#3388ff"
              }
            },
            "remove": true
          }
        },
        "a41a7ce45a9646f0907be0e4bd93bf8f": {
          "model_module": "jupyter-leaflet",
          "model_name": "LeafletScaleControlModel",
          "model_module_version": "^0.18",
          "state": {
            "_model_module": "jupyter-leaflet",
            "_model_module_version": "^0.18",
            "_model_name": "LeafletScaleControlModel",
            "_view_count": null,
            "_view_module": "jupyter-leaflet",
            "_view_module_version": "^0.18",
            "_view_name": "LeafletScaleControlView",
            "imperial": true,
            "max_width": 100,
            "metric": true,
            "options": [
              "imperial",
              "max_width",
              "metric",
              "position",
              "update_when_idle"
            ],
            "position": "bottomleft",
            "update_when_idle": false
          }
        },
        "d982edbbeca641be90f8584168ea6efc": {
          "model_module": "jupyter-leaflet",
          "model_name": "LeafletMeasureControlModel",
          "model_module_version": "^0.18",
          "state": {
            "_custom_units": {},
            "_model_module": "jupyter-leaflet",
            "_model_module_version": "^0.18",
            "_model_name": "LeafletMeasureControlModel",
            "_view_count": null,
            "_view_module": "jupyter-leaflet",
            "_view_module_version": "^0.18",
            "_view_name": "LeafletMeasureControlView",
            "active_color": "orange",
            "capture_z_index": 10000,
            "completed_color": "#C8F2BE",
            "options": [
              "active_color",
              "capture_z_index",
              "completed_color",
              "popup_options",
              "position",
              "primary_area_unit",
              "primary_length_unit",
              "secondary_area_unit",
              "secondary_length_unit"
            ],
            "popup_options": {
              "className": "leaflet-measure-resultpopup",
              "autoPanPadding": [
                10,
                10
              ]
            },
            "position": "bottomleft",
            "primary_area_unit": "acres",
            "primary_length_unit": "kilometers",
            "secondary_area_unit": null,
            "secondary_length_unit": null
          }
        },
        "01ce1ada958444418b20f60c34322356": {
          "model_module": "jupyter-leaflet",
          "model_name": "LeafletWidgetControlModel",
          "model_module_version": "^0.18",
          "state": {
            "_model_module": "jupyter-leaflet",
            "_model_module_version": "^0.18",
            "_model_name": "LeafletWidgetControlModel",
            "_view_count": null,
            "_view_module": "jupyter-leaflet",
            "_view_module_version": "^0.18",
            "_view_name": "LeafletWidgetControlView",
            "max_height": null,
            "max_width": null,
            "min_height": null,
            "min_width": null,
            "options": [
              "position",
              "transparent_bg"
            ],
            "position": "topright",
            "transparent_bg": false,
            "widget": "IPY_MODEL_d54e0c8010fc41e999df820566284b0d"
          }
        },
        "a350cd37fbcf4cb8bb0bb543cc16b723": {
          "model_module": "jupyter-leaflet",
          "model_name": "LeafletAttributionControlModel",
          "model_module_version": "^0.18",
          "state": {
            "_model_module": "jupyter-leaflet",
            "_model_module_version": "^0.18",
            "_model_name": "LeafletAttributionControlModel",
            "_view_count": null,
            "_view_module": "jupyter-leaflet",
            "_view_module_version": "^0.18",
            "_view_name": "LeafletAttributionControlView",
            "options": [
              "position",
              "prefix"
            ],
            "position": "bottomright",
            "prefix": "ipyleaflet"
          }
        },
        "aeb44e054fd848ba802b88d6c65ccc8a": {
          "model_module": "jupyter-leaflet",
          "model_name": "LeafletMapStyleModel",
          "model_module_version": "^0.18",
          "state": {
            "_model_module": "jupyter-leaflet",
            "_model_module_version": "^0.18",
            "_model_name": "LeafletMapStyleModel",
            "_view_count": null,
            "_view_module": "@jupyter-widgets/base",
            "_view_module_version": "1.2.0",
            "_view_name": "StyleView",
            "cursor": "grab"
          }
        },
        "9e99015597e943a1a41ed28776067474": {
          "model_module": "jupyter-leaflet",
          "model_name": "LeafletMapStyleModel",
          "model_module_version": "^0.18",
          "state": {
            "_model_module": "jupyter-leaflet",
            "_model_module_version": "^0.18",
            "_model_name": "LeafletMapStyleModel",
            "_view_count": null,
            "_view_module": "@jupyter-widgets/base",
            "_view_module_version": "1.2.0",
            "_view_name": "StyleView",
            "cursor": "move"
          }
        },
        "0db03516ad784e93894490b0743b7618": {
          "model_module": "jupyter-leaflet",
          "model_name": "LeafletTileLayerModel",
          "model_module_version": "^0.18",
          "state": {
            "_model_module": "jupyter-leaflet",
            "_model_module_version": "^0.18",
            "_model_name": "LeafletTileLayerModel",
            "_view_count": null,
            "_view_module": "jupyter-leaflet",
            "_view_module_version": "^0.18",
            "_view_name": "LeafletTileLayerView",
            "attribution": "&copy; <a href=\"https://www.openstreetmap.org/copyright\">OpenStreetMap</a> contributors",
            "base": true,
            "bottom": true,
            "bounds": null,
            "detect_retina": false,
            "loading": false,
            "max_native_zoom": null,
            "max_zoom": 19,
            "min_native_zoom": null,
            "min_zoom": 1,
            "name": "OpenStreetMap.Mapnik",
            "no_wrap": false,
            "opacity": 1,
            "options": [
              "attribution",
              "bounds",
              "detect_retina",
              "max_native_zoom",
              "max_zoom",
              "min_native_zoom",
              "min_zoom",
              "no_wrap",
              "tile_size",
              "tms",
              "zoom_offset"
            ],
            "pane": "",
            "popup": null,
            "popup_max_height": null,
            "popup_max_width": 300,
            "popup_min_width": 50,
            "show_loading": false,
            "subitems": [],
            "tile_size": 256,
            "tms": false,
            "url": "https://tile.openstreetmap.org/{z}/{x}/{y}.png",
            "visible": true,
            "zoom_offset": 0
          }
        },
        "a607473e476c48cc8af121828ad219ff": {
          "model_module": "jupyter-leaflet",
          "model_name": "LeafletTileLayerModel",
          "model_module_version": "^0.18",
          "state": {
            "_model_module": "jupyter-leaflet",
            "_model_module_version": "^0.18",
            "_model_name": "LeafletTileLayerModel",
            "_view_count": null,
            "_view_module": "jupyter-leaflet",
            "_view_module_version": "^0.18",
            "_view_name": "LeafletTileLayerView",
            "attribution": "Google Earth Engine",
            "base": false,
            "bottom": true,
            "bounds": null,
            "detect_retina": false,
            "loading": false,
            "max_native_zoom": null,
            "max_zoom": 24,
            "min_native_zoom": null,
            "min_zoom": 0,
            "name": "Krabi RGB Image",
            "no_wrap": false,
            "opacity": 1,
            "options": [
              "attribution",
              "bounds",
              "detect_retina",
              "max_native_zoom",
              "max_zoom",
              "min_native_zoom",
              "min_zoom",
              "no_wrap",
              "tile_size",
              "tms",
              "zoom_offset"
            ],
            "pane": "",
            "popup": null,
            "popup_max_height": null,
            "popup_max_width": 300,
            "popup_min_width": 50,
            "show_loading": false,
            "subitems": [],
            "tile_size": 256,
            "tms": false,
            "url": "https://earthengine.googleapis.com/v1/projects/ee-testgee/maps/ed7a0209963e4b65ed03291c1fe8ffb1-90d4b75d9f08fe30df0d99eb8b7a355a/tiles/{z}/{x}/{y}",
            "visible": true,
            "zoom_offset": 0
          }
        },
        "518ab3832a824cbc8060f16a84e8f9c4": {
          "model_module": "@jupyter-widgets/base",
          "model_name": "LayoutModel",
          "model_module_version": "1.2.0",
          "state": {
            "_model_module": "@jupyter-widgets/base",
            "_model_module_version": "1.2.0",
            "_model_name": "LayoutModel",
            "_view_count": null,
            "_view_module": "@jupyter-widgets/base",
            "_view_module_version": "1.2.0",
            "_view_name": "LayoutView",
            "align_content": null,
            "align_items": null,
            "align_self": null,
            "border": null,
            "bottom": null,
            "display": null,
            "flex": null,
            "flex_flow": null,
            "grid_area": null,
            "grid_auto_columns": null,
            "grid_auto_flow": null,
            "grid_auto_rows": null,
            "grid_column": null,
            "grid_gap": null,
            "grid_row": null,
            "grid_template_areas": null,
            "grid_template_columns": null,
            "grid_template_rows": null,
            "height": "600px",
            "justify_content": null,
            "justify_items": null,
            "left": null,
            "margin": null,
            "max_height": null,
            "max_width": null,
            "min_height": null,
            "min_width": null,
            "object_fit": null,
            "object_position": null,
            "order": null,
            "overflow": null,
            "overflow_x": null,
            "overflow_y": null,
            "padding": null,
            "right": null,
            "top": null,
            "visibility": null,
            "width": null
          }
        },
        "dedb6b62389c4965b7d05a57deca64b9": {
          "model_module": "jupyter-leaflet",
          "model_name": "LeafletMapStyleModel",
          "model_module_version": "^0.18",
          "state": {
            "_model_module": "jupyter-leaflet",
            "_model_module_version": "^0.18",
            "_model_name": "LeafletMapStyleModel",
            "_view_count": null,
            "_view_module": "@jupyter-widgets/base",
            "_view_module_version": "1.2.0",
            "_view_name": "StyleView",
            "cursor": "grab"
          }
        },
        "d09a73a83dad4b37ac08c7c0f4755771": {
          "model_module": "@jupyter-widgets/controls",
          "model_name": "HBoxModel",
          "model_module_version": "1.5.0",
          "state": {
            "_dom_classes": [
              "geemap-colab"
            ],
            "_model_module": "@jupyter-widgets/controls",
            "_model_module_version": "1.5.0",
            "_model_name": "HBoxModel",
            "_view_count": null,
            "_view_module": "@jupyter-widgets/controls",
            "_view_module_version": "1.5.0",
            "_view_name": "HBoxView",
            "box_style": "",
            "children": [
              "IPY_MODEL_b6203eb50ed6424081fa2ca009b0ebf4"
            ],
            "layout": "IPY_MODEL_d3950d6907f447ce90f940a775fc0b92"
          }
        },
        "d54e0c8010fc41e999df820566284b0d": {
          "model_module": "@jupyter-widgets/controls",
          "model_name": "VBoxModel",
          "model_module_version": "1.5.0",
          "state": {
            "_dom_classes": [
              "geemap-colab"
            ],
            "_model_module": "@jupyter-widgets/controls",
            "_model_module_version": "1.5.0",
            "_model_name": "VBoxModel",
            "_view_count": null,
            "_view_module": "@jupyter-widgets/controls",
            "_view_module_version": "1.5.0",
            "_view_name": "VBoxView",
            "box_style": "",
            "children": [
              "IPY_MODEL_de374c04f6e541438d480087ceb06572"
            ],
            "layout": "IPY_MODEL_9d5a8b0565804d688d8db52272736c4c"
          }
        },
        "b6203eb50ed6424081fa2ca009b0ebf4": {
          "model_module": "@jupyter-widgets/controls",
          "model_name": "ToggleButtonModel",
          "model_module_version": "1.5.0",
          "state": {
            "_dom_classes": [],
            "_model_module": "@jupyter-widgets/controls",
            "_model_module_version": "1.5.0",
            "_model_name": "ToggleButtonModel",
            "_view_count": null,
            "_view_module": "@jupyter-widgets/controls",
            "_view_module_version": "1.5.0",
            "_view_name": "ToggleButtonView",
            "button_style": "",
            "description": "",
            "description_tooltip": null,
            "disabled": false,
            "icon": "globe",
            "layout": "IPY_MODEL_c9e778de3f21440d936fbfd7d531463e",
            "style": "IPY_MODEL_0e144f4605be4382b44553471e951636",
            "tooltip": "Search location/data",
            "value": false
          }
        },
        "d3950d6907f447ce90f940a775fc0b92": {
          "model_module": "@jupyter-widgets/base",
          "model_name": "LayoutModel",
          "model_module_version": "1.2.0",
          "state": {
            "_model_module": "@jupyter-widgets/base",
            "_model_module_version": "1.2.0",
            "_model_name": "LayoutModel",
            "_view_count": null,
            "_view_module": "@jupyter-widgets/base",
            "_view_module_version": "1.2.0",
            "_view_name": "LayoutView",
            "align_content": null,
            "align_items": null,
            "align_self": null,
            "border": null,
            "bottom": null,
            "display": null,
            "flex": null,
            "flex_flow": null,
            "grid_area": null,
            "grid_auto_columns": null,
            "grid_auto_flow": null,
            "grid_auto_rows": null,
            "grid_column": null,
            "grid_gap": null,
            "grid_row": null,
            "grid_template_areas": null,
            "grid_template_columns": null,
            "grid_template_rows": null,
            "height": null,
            "justify_content": null,
            "justify_items": null,
            "left": null,
            "margin": null,
            "max_height": null,
            "max_width": null,
            "min_height": null,
            "min_width": null,
            "object_fit": null,
            "object_position": null,
            "order": null,
            "overflow": null,
            "overflow_x": null,
            "overflow_y": null,
            "padding": null,
            "right": null,
            "top": null,
            "visibility": null,
            "width": null
          }
        },
        "de374c04f6e541438d480087ceb06572": {
          "model_module": "@jupyter-widgets/controls",
          "model_name": "ToggleButtonModel",
          "model_module_version": "1.5.0",
          "state": {
            "_dom_classes": [],
            "_model_module": "@jupyter-widgets/controls",
            "_model_module_version": "1.5.0",
            "_model_name": "ToggleButtonModel",
            "_view_count": null,
            "_view_module": "@jupyter-widgets/controls",
            "_view_module_version": "1.5.0",
            "_view_name": "ToggleButtonView",
            "button_style": "",
            "description": "",
            "description_tooltip": null,
            "disabled": false,
            "icon": "wrench",
            "layout": "IPY_MODEL_17bb28fb0b5c468884d442461e207add",
            "style": "IPY_MODEL_76ffbbb52228494985b277cb490d10e8",
            "tooltip": "Toolbar",
            "value": false
          }
        },
        "9d5a8b0565804d688d8db52272736c4c": {
          "model_module": "@jupyter-widgets/base",
          "model_name": "LayoutModel",
          "model_module_version": "1.2.0",
          "state": {
            "_model_module": "@jupyter-widgets/base",
            "_model_module_version": "1.2.0",
            "_model_name": "LayoutModel",
            "_view_count": null,
            "_view_module": "@jupyter-widgets/base",
            "_view_module_version": "1.2.0",
            "_view_name": "LayoutView",
            "align_content": null,
            "align_items": null,
            "align_self": null,
            "border": null,
            "bottom": null,
            "display": null,
            "flex": null,
            "flex_flow": null,
            "grid_area": null,
            "grid_auto_columns": null,
            "grid_auto_flow": null,
            "grid_auto_rows": null,
            "grid_column": null,
            "grid_gap": null,
            "grid_row": null,
            "grid_template_areas": null,
            "grid_template_columns": null,
            "grid_template_rows": null,
            "height": null,
            "justify_content": null,
            "justify_items": null,
            "left": null,
            "margin": null,
            "max_height": null,
            "max_width": null,
            "min_height": null,
            "min_width": null,
            "object_fit": null,
            "object_position": null,
            "order": null,
            "overflow": null,
            "overflow_x": null,
            "overflow_y": null,
            "padding": null,
            "right": null,
            "top": null,
            "visibility": null,
            "width": null
          }
        },
        "c9e778de3f21440d936fbfd7d531463e": {
          "model_module": "@jupyter-widgets/base",
          "model_name": "LayoutModel",
          "model_module_version": "1.2.0",
          "state": {
            "_model_module": "@jupyter-widgets/base",
            "_model_module_version": "1.2.0",
            "_model_name": "LayoutModel",
            "_view_count": null,
            "_view_module": "@jupyter-widgets/base",
            "_view_module_version": "1.2.0",
            "_view_name": "LayoutView",
            "align_content": null,
            "align_items": null,
            "align_self": null,
            "border": null,
            "bottom": null,
            "display": null,
            "flex": null,
            "flex_flow": null,
            "grid_area": null,
            "grid_auto_columns": null,
            "grid_auto_flow": null,
            "grid_auto_rows": null,
            "grid_column": null,
            "grid_gap": null,
            "grid_row": null,
            "grid_template_areas": null,
            "grid_template_columns": null,
            "grid_template_rows": null,
            "height": "28px",
            "justify_content": null,
            "justify_items": null,
            "left": null,
            "margin": null,
            "max_height": null,
            "max_width": null,
            "min_height": null,
            "min_width": null,
            "object_fit": null,
            "object_position": null,
            "order": null,
            "overflow": null,
            "overflow_x": null,
            "overflow_y": null,
            "padding": "0px 0px 0px 4px",
            "right": null,
            "top": null,
            "visibility": null,
            "width": "28px"
          }
        },
        "0e144f4605be4382b44553471e951636": {
          "model_module": "@jupyter-widgets/controls",
          "model_name": "DescriptionStyleModel",
          "model_module_version": "1.5.0",
          "state": {
            "_model_module": "@jupyter-widgets/controls",
            "_model_module_version": "1.5.0",
            "_model_name": "DescriptionStyleModel",
            "_view_count": null,
            "_view_module": "@jupyter-widgets/base",
            "_view_module_version": "1.2.0",
            "_view_name": "StyleView",
            "description_width": ""
          }
        },
        "17bb28fb0b5c468884d442461e207add": {
          "model_module": "@jupyter-widgets/base",
          "model_name": "LayoutModel",
          "model_module_version": "1.2.0",
          "state": {
            "_model_module": "@jupyter-widgets/base",
            "_model_module_version": "1.2.0",
            "_model_name": "LayoutModel",
            "_view_count": null,
            "_view_module": "@jupyter-widgets/base",
            "_view_module_version": "1.2.0",
            "_view_name": "LayoutView",
            "align_content": null,
            "align_items": null,
            "align_self": null,
            "border": null,
            "bottom": null,
            "display": null,
            "flex": null,
            "flex_flow": null,
            "grid_area": null,
            "grid_auto_columns": null,
            "grid_auto_flow": null,
            "grid_auto_rows": null,
            "grid_column": null,
            "grid_gap": null,
            "grid_row": null,
            "grid_template_areas": null,
            "grid_template_columns": null,
            "grid_template_rows": null,
            "height": "28px",
            "justify_content": null,
            "justify_items": null,
            "left": null,
            "margin": null,
            "max_height": null,
            "max_width": null,
            "min_height": null,
            "min_width": null,
            "object_fit": null,
            "object_position": null,
            "order": null,
            "overflow": null,
            "overflow_x": null,
            "overflow_y": null,
            "padding": "0px 0px 0px 4px",
            "right": null,
            "top": null,
            "visibility": null,
            "width": "28px"
          }
        },
        "76ffbbb52228494985b277cb490d10e8": {
          "model_module": "@jupyter-widgets/controls",
          "model_name": "DescriptionStyleModel",
          "model_module_version": "1.5.0",
          "state": {
            "_model_module": "@jupyter-widgets/controls",
            "_model_module_version": "1.5.0",
            "_model_name": "DescriptionStyleModel",
            "_view_count": null,
            "_view_module": "@jupyter-widgets/base",
            "_view_module_version": "1.2.0",
            "_view_name": "StyleView",
            "description_width": ""
          }
        },
        "0dd74d1bedb24a10ae3b531109f9d734": {
          "model_module": "jupyter-leaflet",
          "model_name": "LeafletMapModel",
          "model_module_version": "^0.18",
          "state": {
            "_dom_classes": [],
            "_model_module": "jupyter-leaflet",
            "_model_module_version": "^0.18",
            "_model_name": "LeafletMapModel",
            "_view_count": null,
            "_view_module": "jupyter-leaflet",
            "_view_module_version": "^0.18",
            "_view_name": "LeafletMapView",
            "bottom": 500970.99999145506,
            "bounce_at_zoom_limits": true,
            "box_zoom": true,
            "center": [
              8.08132460531781,
              98.93910417027962
            ],
            "close_popup_on_click": true,
            "controls": [
              "IPY_MODEL_43679a4f84314502ad96baf9198d15e3",
              "IPY_MODEL_54348dd9e0b443498df82e2fa64c8150",
              "IPY_MODEL_b94d4b563cff4d1098538a09e09f39fa",
              "IPY_MODEL_b0316ce6fe434219af1372793bb42df8",
              "IPY_MODEL_3d451c18ff584c819f3eb45951c1a941",
              "IPY_MODEL_b903b740d5fb4a43934f76244ec19fd4",
              "IPY_MODEL_617d16b6dce648d6831732a7ed0006d0",
              "IPY_MODEL_a4d27dbb5c64477983785b461266230d"
            ],
            "crs": {
              "name": "EPSG3857",
              "custom": false
            },
            "default_style": "IPY_MODEL_3d601ddfb63047e4be008ef68372b4ce",
            "double_click_zoom": true,
            "dragging": true,
            "dragging_style": "IPY_MODEL_375ce65f8e3342cebc6bf43e16897f39",
            "east": 99.1138554520179,
            "fullscreen": false,
            "inertia": true,
            "inertia_deceleration": 3000,
            "inertia_max_speed": 1500,
            "interpolation": "bilinear",
            "keyboard": true,
            "keyboard_pan_offset": 80,
            "keyboard_zoom_offset": 1,
            "layers": [
              "IPY_MODEL_1e4c51cc3a9c41b896060ffea66116a5",
              "IPY_MODEL_87f612eb9e254b91895521471c35c9e0"
            ],
            "layout": "IPY_MODEL_e6faac5346c348f1a8f8c06cfb5b98ce",
            "left": 811960.0280401531,
            "max_zoom": 24,
            "min_zoom": null,
            "modisdate": "2024-04-04",
            "north": 8.18328568715454,
            "options": [
              "bounce_at_zoom_limits",
              "box_zoom",
              "center",
              "close_popup_on_click",
              "double_click_zoom",
              "dragging",
              "fullscreen",
              "inertia",
              "inertia_deceleration",
              "inertia_max_speed",
              "interpolation",
              "keyboard",
              "keyboard_pan_offset",
              "keyboard_zoom_offset",
              "max_zoom",
              "min_zoom",
              "prefer_canvas",
              "scroll_wheel_zoom",
              "tap",
              "tap_tolerance",
              "touch_zoom",
              "world_copy_jump",
              "zoom",
              "zoom_animation_threshold",
              "zoom_delta",
              "zoom_snap"
            ],
            "panes": {},
            "prefer_canvas": false,
            "right": 812978.0280401531,
            "scroll_wheel_zoom": true,
            "south": 7.979337753792413,
            "style": "IPY_MODEL_3d601ddfb63047e4be008ef68372b4ce",
            "tap": true,
            "tap_tolerance": 15,
            "top": 500370.99999145506,
            "touch_zoom": true,
            "west": 98.76435288854134,
            "window_url": "https://drgyj0z61t-496ff2e9c6d22116-0-colab.googleusercontent.com/outputframe.html?vrz=colab_20240403-060136_RC00_621473488",
            "world_copy_jump": false,
            "zoom": 12,
            "zoom_animation_threshold": 4,
            "zoom_delta": 1,
            "zoom_snap": 1
          }
        },
        "43679a4f84314502ad96baf9198d15e3": {
          "model_module": "jupyter-leaflet",
          "model_name": "LeafletWidgetControlModel",
          "model_module_version": "^0.18",
          "state": {
            "_model_module": "jupyter-leaflet",
            "_model_module_version": "^0.18",
            "_model_name": "LeafletWidgetControlModel",
            "_view_count": null,
            "_view_module": "jupyter-leaflet",
            "_view_module_version": "^0.18",
            "_view_name": "LeafletWidgetControlView",
            "max_height": null,
            "max_width": null,
            "min_height": null,
            "min_width": null,
            "options": [
              "position",
              "transparent_bg"
            ],
            "position": "topleft",
            "transparent_bg": false,
            "widget": "IPY_MODEL_c2d98997cee74f93b1a233cdd265685a"
          }
        },
        "54348dd9e0b443498df82e2fa64c8150": {
          "model_module": "jupyter-leaflet",
          "model_name": "LeafletZoomControlModel",
          "model_module_version": "^0.18",
          "state": {
            "_model_module": "jupyter-leaflet",
            "_model_module_version": "^0.18",
            "_model_name": "LeafletZoomControlModel",
            "_view_count": null,
            "_view_module": "jupyter-leaflet",
            "_view_module_version": "^0.18",
            "_view_name": "LeafletZoomControlView",
            "options": [
              "position",
              "zoom_in_text",
              "zoom_in_title",
              "zoom_out_text",
              "zoom_out_title"
            ],
            "position": "topleft",
            "zoom_in_text": "+",
            "zoom_in_title": "Zoom in",
            "zoom_out_text": "-",
            "zoom_out_title": "Zoom out"
          }
        },
        "b94d4b563cff4d1098538a09e09f39fa": {
          "model_module": "jupyter-leaflet",
          "model_name": "LeafletFullScreenControlModel",
          "model_module_version": "^0.18",
          "state": {
            "_model_module": "jupyter-leaflet",
            "_model_module_version": "^0.18",
            "_model_name": "LeafletFullScreenControlModel",
            "_view_count": null,
            "_view_module": "jupyter-leaflet",
            "_view_module_version": "^0.18",
            "_view_name": "LeafletFullScreenControlView",
            "options": [
              "position"
            ],
            "position": "topleft"
          }
        },
        "b0316ce6fe434219af1372793bb42df8": {
          "model_module": "jupyter-leaflet",
          "model_name": "LeafletDrawControlModel",
          "model_module_version": "^0.18",
          "state": {
            "_model_module": "jupyter-leaflet",
            "_model_module_version": "^0.18",
            "_model_name": "LeafletDrawControlModel",
            "_view_count": null,
            "_view_module": "jupyter-leaflet",
            "_view_module_version": "^0.18",
            "_view_name": "LeafletDrawControlView",
            "circle": {},
            "circlemarker": {},
            "data": [],
            "edit": true,
            "marker": {
              "shapeOptions": {
                "color": "#3388ff"
              }
            },
            "options": [
              "position"
            ],
            "polygon": {
              "shapeOptions": {}
            },
            "polyline": {
              "shapeOptions": {}
            },
            "position": "topleft",
            "rectangle": {
              "shapeOptions": {
                "color": "#3388ff"
              }
            },
            "remove": true
          }
        },
        "3d451c18ff584c819f3eb45951c1a941": {
          "model_module": "jupyter-leaflet",
          "model_name": "LeafletScaleControlModel",
          "model_module_version": "^0.18",
          "state": {
            "_model_module": "jupyter-leaflet",
            "_model_module_version": "^0.18",
            "_model_name": "LeafletScaleControlModel",
            "_view_count": null,
            "_view_module": "jupyter-leaflet",
            "_view_module_version": "^0.18",
            "_view_name": "LeafletScaleControlView",
            "imperial": true,
            "max_width": 100,
            "metric": true,
            "options": [
              "imperial",
              "max_width",
              "metric",
              "position",
              "update_when_idle"
            ],
            "position": "bottomleft",
            "update_when_idle": false
          }
        },
        "b903b740d5fb4a43934f76244ec19fd4": {
          "model_module": "jupyter-leaflet",
          "model_name": "LeafletMeasureControlModel",
          "model_module_version": "^0.18",
          "state": {
            "_custom_units": {},
            "_model_module": "jupyter-leaflet",
            "_model_module_version": "^0.18",
            "_model_name": "LeafletMeasureControlModel",
            "_view_count": null,
            "_view_module": "jupyter-leaflet",
            "_view_module_version": "^0.18",
            "_view_name": "LeafletMeasureControlView",
            "active_color": "orange",
            "capture_z_index": 10000,
            "completed_color": "#C8F2BE",
            "options": [
              "active_color",
              "capture_z_index",
              "completed_color",
              "popup_options",
              "position",
              "primary_area_unit",
              "primary_length_unit",
              "secondary_area_unit",
              "secondary_length_unit"
            ],
            "popup_options": {
              "className": "leaflet-measure-resultpopup",
              "autoPanPadding": [
                10,
                10
              ]
            },
            "position": "bottomleft",
            "primary_area_unit": "acres",
            "primary_length_unit": "kilometers",
            "secondary_area_unit": null,
            "secondary_length_unit": null
          }
        },
        "617d16b6dce648d6831732a7ed0006d0": {
          "model_module": "jupyter-leaflet",
          "model_name": "LeafletWidgetControlModel",
          "model_module_version": "^0.18",
          "state": {
            "_model_module": "jupyter-leaflet",
            "_model_module_version": "^0.18",
            "_model_name": "LeafletWidgetControlModel",
            "_view_count": null,
            "_view_module": "jupyter-leaflet",
            "_view_module_version": "^0.18",
            "_view_name": "LeafletWidgetControlView",
            "max_height": null,
            "max_width": null,
            "min_height": null,
            "min_width": null,
            "options": [
              "position",
              "transparent_bg"
            ],
            "position": "topright",
            "transparent_bg": false,
            "widget": "IPY_MODEL_a47de3da7a344b58b216510fe5c0ef87"
          }
        },
        "a4d27dbb5c64477983785b461266230d": {
          "model_module": "jupyter-leaflet",
          "model_name": "LeafletAttributionControlModel",
          "model_module_version": "^0.18",
          "state": {
            "_model_module": "jupyter-leaflet",
            "_model_module_version": "^0.18",
            "_model_name": "LeafletAttributionControlModel",
            "_view_count": null,
            "_view_module": "jupyter-leaflet",
            "_view_module_version": "^0.18",
            "_view_name": "LeafletAttributionControlView",
            "options": [
              "position",
              "prefix"
            ],
            "position": "bottomright",
            "prefix": "ipyleaflet"
          }
        },
        "3d601ddfb63047e4be008ef68372b4ce": {
          "model_module": "jupyter-leaflet",
          "model_name": "LeafletMapStyleModel",
          "model_module_version": "^0.18",
          "state": {
            "_model_module": "jupyter-leaflet",
            "_model_module_version": "^0.18",
            "_model_name": "LeafletMapStyleModel",
            "_view_count": null,
            "_view_module": "@jupyter-widgets/base",
            "_view_module_version": "1.2.0",
            "_view_name": "StyleView",
            "cursor": "grab"
          }
        },
        "375ce65f8e3342cebc6bf43e16897f39": {
          "model_module": "jupyter-leaflet",
          "model_name": "LeafletMapStyleModel",
          "model_module_version": "^0.18",
          "state": {
            "_model_module": "jupyter-leaflet",
            "_model_module_version": "^0.18",
            "_model_name": "LeafletMapStyleModel",
            "_view_count": null,
            "_view_module": "@jupyter-widgets/base",
            "_view_module_version": "1.2.0",
            "_view_name": "StyleView",
            "cursor": "move"
          }
        },
        "1e4c51cc3a9c41b896060ffea66116a5": {
          "model_module": "jupyter-leaflet",
          "model_name": "LeafletTileLayerModel",
          "model_module_version": "^0.18",
          "state": {
            "_model_module": "jupyter-leaflet",
            "_model_module_version": "^0.18",
            "_model_name": "LeafletTileLayerModel",
            "_view_count": null,
            "_view_module": "jupyter-leaflet",
            "_view_module_version": "^0.18",
            "_view_name": "LeafletTileLayerView",
            "attribution": "&copy; <a href=\"https://www.openstreetmap.org/copyright\">OpenStreetMap</a> contributors",
            "base": true,
            "bottom": true,
            "bounds": null,
            "detect_retina": false,
            "loading": false,
            "max_native_zoom": null,
            "max_zoom": 19,
            "min_native_zoom": null,
            "min_zoom": 1,
            "name": "OpenStreetMap.Mapnik",
            "no_wrap": false,
            "opacity": 1,
            "options": [
              "attribution",
              "bounds",
              "detect_retina",
              "max_native_zoom",
              "max_zoom",
              "min_native_zoom",
              "min_zoom",
              "no_wrap",
              "tile_size",
              "tms",
              "zoom_offset"
            ],
            "pane": "",
            "popup": null,
            "popup_max_height": null,
            "popup_max_width": 300,
            "popup_min_width": 50,
            "show_loading": false,
            "subitems": [],
            "tile_size": 256,
            "tms": false,
            "url": "https://tile.openstreetmap.org/{z}/{x}/{y}.png",
            "visible": true,
            "zoom_offset": 0
          }
        },
        "87f612eb9e254b91895521471c35c9e0": {
          "model_module": "jupyter-leaflet",
          "model_name": "LeafletTileLayerModel",
          "model_module_version": "^0.18",
          "state": {
            "_model_module": "jupyter-leaflet",
            "_model_module_version": "^0.18",
            "_model_name": "LeafletTileLayerModel",
            "_view_count": null,
            "_view_module": "jupyter-leaflet",
            "_view_module_version": "^0.18",
            "_view_name": "LeafletTileLayerView",
            "attribution": "Google Earth Engine",
            "base": false,
            "bottom": true,
            "bounds": null,
            "detect_retina": false,
            "loading": true,
            "max_native_zoom": null,
            "max_zoom": 24,
            "min_native_zoom": null,
            "min_zoom": 0,
            "name": "Krabi - Landcover",
            "no_wrap": false,
            "opacity": 1,
            "options": [
              "attribution",
              "bounds",
              "detect_retina",
              "max_native_zoom",
              "max_zoom",
              "min_native_zoom",
              "min_zoom",
              "no_wrap",
              "tile_size",
              "tms",
              "zoom_offset"
            ],
            "pane": "",
            "popup": null,
            "popup_max_height": null,
            "popup_max_width": 300,
            "popup_min_width": 50,
            "show_loading": false,
            "subitems": [],
            "tile_size": 256,
            "tms": false,
            "url": "https://earthengine.googleapis.com/v1/projects/ee-testgee/maps/95c272d0eac53204320003bbc3de1675-e6a0c629960c3f1563411d02c41ed477/tiles/{z}/{x}/{y}",
            "visible": true,
            "zoom_offset": 0
          }
        },
        "e6faac5346c348f1a8f8c06cfb5b98ce": {
          "model_module": "@jupyter-widgets/base",
          "model_name": "LayoutModel",
          "model_module_version": "1.2.0",
          "state": {
            "_model_module": "@jupyter-widgets/base",
            "_model_module_version": "1.2.0",
            "_model_name": "LayoutModel",
            "_view_count": null,
            "_view_module": "@jupyter-widgets/base",
            "_view_module_version": "1.2.0",
            "_view_name": "LayoutView",
            "align_content": null,
            "align_items": null,
            "align_self": null,
            "border": null,
            "bottom": null,
            "display": null,
            "flex": null,
            "flex_flow": null,
            "grid_area": null,
            "grid_auto_columns": null,
            "grid_auto_flow": null,
            "grid_auto_rows": null,
            "grid_column": null,
            "grid_gap": null,
            "grid_row": null,
            "grid_template_areas": null,
            "grid_template_columns": null,
            "grid_template_rows": null,
            "height": "600px",
            "justify_content": null,
            "justify_items": null,
            "left": null,
            "margin": null,
            "max_height": null,
            "max_width": null,
            "min_height": null,
            "min_width": null,
            "object_fit": null,
            "object_position": null,
            "order": null,
            "overflow": null,
            "overflow_x": null,
            "overflow_y": null,
            "padding": null,
            "right": null,
            "top": null,
            "visibility": null,
            "width": null
          }
        },
        "215ae01c74594f2cbcfd81b6197e9fbb": {
          "model_module": "jupyter-leaflet",
          "model_name": "LeafletMapStyleModel",
          "model_module_version": "^0.18",
          "state": {
            "_model_module": "jupyter-leaflet",
            "_model_module_version": "^0.18",
            "_model_name": "LeafletMapStyleModel",
            "_view_count": null,
            "_view_module": "@jupyter-widgets/base",
            "_view_module_version": "1.2.0",
            "_view_name": "StyleView",
            "cursor": "grab"
          }
        },
        "c2d98997cee74f93b1a233cdd265685a": {
          "model_module": "@jupyter-widgets/controls",
          "model_name": "HBoxModel",
          "model_module_version": "1.5.0",
          "state": {
            "_dom_classes": [
              "geemap-colab"
            ],
            "_model_module": "@jupyter-widgets/controls",
            "_model_module_version": "1.5.0",
            "_model_name": "HBoxModel",
            "_view_count": null,
            "_view_module": "@jupyter-widgets/controls",
            "_view_module_version": "1.5.0",
            "_view_name": "HBoxView",
            "box_style": "",
            "children": [
              "IPY_MODEL_85a9584eab1a4dd998da3e0822a90177"
            ],
            "layout": "IPY_MODEL_d352cccbf43548c4bc77c0ef25d14d32"
          }
        },
        "a47de3da7a344b58b216510fe5c0ef87": {
          "model_module": "@jupyter-widgets/controls",
          "model_name": "VBoxModel",
          "model_module_version": "1.5.0",
          "state": {
            "_dom_classes": [
              "geemap-colab"
            ],
            "_model_module": "@jupyter-widgets/controls",
            "_model_module_version": "1.5.0",
            "_model_name": "VBoxModel",
            "_view_count": null,
            "_view_module": "@jupyter-widgets/controls",
            "_view_module_version": "1.5.0",
            "_view_name": "VBoxView",
            "box_style": "",
            "children": [
              "IPY_MODEL_b7ea80c200ff43b7af9c73463055605d"
            ],
            "layout": "IPY_MODEL_00ce13f94a824d7b8c25ea6ecf56b88a"
          }
        },
        "85a9584eab1a4dd998da3e0822a90177": {
          "model_module": "@jupyter-widgets/controls",
          "model_name": "ToggleButtonModel",
          "model_module_version": "1.5.0",
          "state": {
            "_dom_classes": [],
            "_model_module": "@jupyter-widgets/controls",
            "_model_module_version": "1.5.0",
            "_model_name": "ToggleButtonModel",
            "_view_count": null,
            "_view_module": "@jupyter-widgets/controls",
            "_view_module_version": "1.5.0",
            "_view_name": "ToggleButtonView",
            "button_style": "",
            "description": "",
            "description_tooltip": null,
            "disabled": false,
            "icon": "globe",
            "layout": "IPY_MODEL_91f77eb68a1a4e36a77e9520489b87ea",
            "style": "IPY_MODEL_fa8c42f0ddff4c259954bcb3b51716e9",
            "tooltip": "Search location/data",
            "value": false
          }
        },
        "d352cccbf43548c4bc77c0ef25d14d32": {
          "model_module": "@jupyter-widgets/base",
          "model_name": "LayoutModel",
          "model_module_version": "1.2.0",
          "state": {
            "_model_module": "@jupyter-widgets/base",
            "_model_module_version": "1.2.0",
            "_model_name": "LayoutModel",
            "_view_count": null,
            "_view_module": "@jupyter-widgets/base",
            "_view_module_version": "1.2.0",
            "_view_name": "LayoutView",
            "align_content": null,
            "align_items": null,
            "align_self": null,
            "border": null,
            "bottom": null,
            "display": null,
            "flex": null,
            "flex_flow": null,
            "grid_area": null,
            "grid_auto_columns": null,
            "grid_auto_flow": null,
            "grid_auto_rows": null,
            "grid_column": null,
            "grid_gap": null,
            "grid_row": null,
            "grid_template_areas": null,
            "grid_template_columns": null,
            "grid_template_rows": null,
            "height": null,
            "justify_content": null,
            "justify_items": null,
            "left": null,
            "margin": null,
            "max_height": null,
            "max_width": null,
            "min_height": null,
            "min_width": null,
            "object_fit": null,
            "object_position": null,
            "order": null,
            "overflow": null,
            "overflow_x": null,
            "overflow_y": null,
            "padding": null,
            "right": null,
            "top": null,
            "visibility": null,
            "width": null
          }
        },
        "b7ea80c200ff43b7af9c73463055605d": {
          "model_module": "@jupyter-widgets/controls",
          "model_name": "ToggleButtonModel",
          "model_module_version": "1.5.0",
          "state": {
            "_dom_classes": [],
            "_model_module": "@jupyter-widgets/controls",
            "_model_module_version": "1.5.0",
            "_model_name": "ToggleButtonModel",
            "_view_count": null,
            "_view_module": "@jupyter-widgets/controls",
            "_view_module_version": "1.5.0",
            "_view_name": "ToggleButtonView",
            "button_style": "",
            "description": "",
            "description_tooltip": null,
            "disabled": false,
            "icon": "wrench",
            "layout": "IPY_MODEL_ad675c87c26b41e9bdf9a96e19ddbf1c",
            "style": "IPY_MODEL_09c885e154c742eb9bad6fe266ecaa69",
            "tooltip": "Toolbar",
            "value": false
          }
        },
        "00ce13f94a824d7b8c25ea6ecf56b88a": {
          "model_module": "@jupyter-widgets/base",
          "model_name": "LayoutModel",
          "model_module_version": "1.2.0",
          "state": {
            "_model_module": "@jupyter-widgets/base",
            "_model_module_version": "1.2.0",
            "_model_name": "LayoutModel",
            "_view_count": null,
            "_view_module": "@jupyter-widgets/base",
            "_view_module_version": "1.2.0",
            "_view_name": "LayoutView",
            "align_content": null,
            "align_items": null,
            "align_self": null,
            "border": null,
            "bottom": null,
            "display": null,
            "flex": null,
            "flex_flow": null,
            "grid_area": null,
            "grid_auto_columns": null,
            "grid_auto_flow": null,
            "grid_auto_rows": null,
            "grid_column": null,
            "grid_gap": null,
            "grid_row": null,
            "grid_template_areas": null,
            "grid_template_columns": null,
            "grid_template_rows": null,
            "height": null,
            "justify_content": null,
            "justify_items": null,
            "left": null,
            "margin": null,
            "max_height": null,
            "max_width": null,
            "min_height": null,
            "min_width": null,
            "object_fit": null,
            "object_position": null,
            "order": null,
            "overflow": null,
            "overflow_x": null,
            "overflow_y": null,
            "padding": null,
            "right": null,
            "top": null,
            "visibility": null,
            "width": null
          }
        },
        "91f77eb68a1a4e36a77e9520489b87ea": {
          "model_module": "@jupyter-widgets/base",
          "model_name": "LayoutModel",
          "model_module_version": "1.2.0",
          "state": {
            "_model_module": "@jupyter-widgets/base",
            "_model_module_version": "1.2.0",
            "_model_name": "LayoutModel",
            "_view_count": null,
            "_view_module": "@jupyter-widgets/base",
            "_view_module_version": "1.2.0",
            "_view_name": "LayoutView",
            "align_content": null,
            "align_items": null,
            "align_self": null,
            "border": null,
            "bottom": null,
            "display": null,
            "flex": null,
            "flex_flow": null,
            "grid_area": null,
            "grid_auto_columns": null,
            "grid_auto_flow": null,
            "grid_auto_rows": null,
            "grid_column": null,
            "grid_gap": null,
            "grid_row": null,
            "grid_template_areas": null,
            "grid_template_columns": null,
            "grid_template_rows": null,
            "height": "28px",
            "justify_content": null,
            "justify_items": null,
            "left": null,
            "margin": null,
            "max_height": null,
            "max_width": null,
            "min_height": null,
            "min_width": null,
            "object_fit": null,
            "object_position": null,
            "order": null,
            "overflow": null,
            "overflow_x": null,
            "overflow_y": null,
            "padding": "0px 0px 0px 4px",
            "right": null,
            "top": null,
            "visibility": null,
            "width": "28px"
          }
        },
        "fa8c42f0ddff4c259954bcb3b51716e9": {
          "model_module": "@jupyter-widgets/controls",
          "model_name": "DescriptionStyleModel",
          "model_module_version": "1.5.0",
          "state": {
            "_model_module": "@jupyter-widgets/controls",
            "_model_module_version": "1.5.0",
            "_model_name": "DescriptionStyleModel",
            "_view_count": null,
            "_view_module": "@jupyter-widgets/base",
            "_view_module_version": "1.2.0",
            "_view_name": "StyleView",
            "description_width": ""
          }
        },
        "ad675c87c26b41e9bdf9a96e19ddbf1c": {
          "model_module": "@jupyter-widgets/base",
          "model_name": "LayoutModel",
          "model_module_version": "1.2.0",
          "state": {
            "_model_module": "@jupyter-widgets/base",
            "_model_module_version": "1.2.0",
            "_model_name": "LayoutModel",
            "_view_count": null,
            "_view_module": "@jupyter-widgets/base",
            "_view_module_version": "1.2.0",
            "_view_name": "LayoutView",
            "align_content": null,
            "align_items": null,
            "align_self": null,
            "border": null,
            "bottom": null,
            "display": null,
            "flex": null,
            "flex_flow": null,
            "grid_area": null,
            "grid_auto_columns": null,
            "grid_auto_flow": null,
            "grid_auto_rows": null,
            "grid_column": null,
            "grid_gap": null,
            "grid_row": null,
            "grid_template_areas": null,
            "grid_template_columns": null,
            "grid_template_rows": null,
            "height": "28px",
            "justify_content": null,
            "justify_items": null,
            "left": null,
            "margin": null,
            "max_height": null,
            "max_width": null,
            "min_height": null,
            "min_width": null,
            "object_fit": null,
            "object_position": null,
            "order": null,
            "overflow": null,
            "overflow_x": null,
            "overflow_y": null,
            "padding": "0px 0px 0px 4px",
            "right": null,
            "top": null,
            "visibility": null,
            "width": "28px"
          }
        },
        "09c885e154c742eb9bad6fe266ecaa69": {
          "model_module": "@jupyter-widgets/controls",
          "model_name": "DescriptionStyleModel",
          "model_module_version": "1.5.0",
          "state": {
            "_model_module": "@jupyter-widgets/controls",
            "_model_module_version": "1.5.0",
            "_model_name": "DescriptionStyleModel",
            "_view_count": null,
            "_view_module": "@jupyter-widgets/base",
            "_view_module_version": "1.2.0",
            "_view_name": "StyleView",
            "description_width": ""
          }
        },
        "aa4fdf17dc214b278a1e510a76f88feb": {
          "model_module": "jupyter-leaflet",
          "model_name": "LeafletMapModel",
          "model_module_version": "^0.18",
          "state": {
            "_dom_classes": [],
            "_model_module": "jupyter-leaflet",
            "_model_module_version": "^0.18",
            "_model_name": "LeafletMapModel",
            "_view_count": null,
            "_view_module": "jupyter-leaflet",
            "_view_module_version": "^0.18",
            "_view_name": "LeafletMapView",
            "bottom": 2002319,
            "bounce_at_zoom_limits": true,
            "box_zoom": true,
            "center": [
              8.137826323434428,
              98.78881012110985
            ],
            "close_popup_on_click": true,
            "controls": [
              "IPY_MODEL_21c2990216674fc6acef7b30fc5b1685",
              "IPY_MODEL_88e9141ffc4f484d940c8c1aa31dcb58",
              "IPY_MODEL_b1b2ae153b1d40a39ae53c358cfa26c2",
              "IPY_MODEL_fdbada265fd142cdacb2c3fe3bc47bb0",
              "IPY_MODEL_a32bd4b230914c4f8d8e07f9017c8a09",
              "IPY_MODEL_6c5a7ec250024e8f8871afdc85d0ffdc",
              "IPY_MODEL_3adc0bd5b33b4235b297f299dde9efac",
              "IPY_MODEL_275bbe2adb6541ce996a8bf4832272d6"
            ],
            "crs": {
              "name": "EPSG3857",
              "custom": false
            },
            "default_style": "IPY_MODEL_0d7e26635f214b17af72d28428fc31c3",
            "double_click_zoom": true,
            "dragging": true,
            "dragging_style": "IPY_MODEL_a2099d8dc60a4a8dac0222c8eb4e8e94",
            "east": 98.83249282836914,
            "fullscreen": false,
            "inertia": true,
            "inertia_deceleration": 3000,
            "inertia_max_speed": 1500,
            "interpolation": "bilinear",
            "keyboard": true,
            "keyboard_pan_offset": 80,
            "keyboard_zoom_offset": 1,
            "layers": [
              "IPY_MODEL_21058b300b9b4e7d847a6ea5d58a8beb",
              "IPY_MODEL_da08cc11a3c2421aab1c56dc3e0c5472"
            ],
            "layout": "IPY_MODEL_01748c95878c45978599c2b00675c940",
            "left": 3247616,
            "max_zoom": 24,
            "min_zoom": null,
            "modisdate": "2024-04-04",
            "north": 8.163320349847364,
            "options": [
              "bounce_at_zoom_limits",
              "box_zoom",
              "center",
              "close_popup_on_click",
              "double_click_zoom",
              "dragging",
              "fullscreen",
              "inertia",
              "inertia_deceleration",
              "inertia_max_speed",
              "interpolation",
              "keyboard",
              "keyboard_pan_offset",
              "keyboard_zoom_offset",
              "max_zoom",
              "min_zoom",
              "prefer_canvas",
              "scroll_wheel_zoom",
              "tap",
              "tap_tolerance",
              "touch_zoom",
              "world_copy_jump",
              "zoom",
              "zoom_animation_threshold",
              "zoom_delta",
              "zoom_snap"
            ],
            "panes": {},
            "prefer_canvas": false,
            "right": 3248634,
            "scroll_wheel_zoom": true,
            "south": 8.112340506432936,
            "style": "IPY_MODEL_0d7e26635f214b17af72d28428fc31c3",
            "tap": true,
            "tap_tolerance": 15,
            "top": 2001719,
            "touch_zoom": true,
            "west": 98.74511718750001,
            "window_url": "https://drgyj0z61t-496ff2e9c6d22116-0-colab.googleusercontent.com/outputframe.html?vrz=colab_20240403-060136_RC00_621473488",
            "world_copy_jump": false,
            "zoom": 14,
            "zoom_animation_threshold": 4,
            "zoom_delta": 1,
            "zoom_snap": 1
          }
        },
        "21c2990216674fc6acef7b30fc5b1685": {
          "model_module": "jupyter-leaflet",
          "model_name": "LeafletWidgetControlModel",
          "model_module_version": "^0.18",
          "state": {
            "_model_module": "jupyter-leaflet",
            "_model_module_version": "^0.18",
            "_model_name": "LeafletWidgetControlModel",
            "_view_count": null,
            "_view_module": "jupyter-leaflet",
            "_view_module_version": "^0.18",
            "_view_name": "LeafletWidgetControlView",
            "max_height": null,
            "max_width": null,
            "min_height": null,
            "min_width": null,
            "options": [
              "position",
              "transparent_bg"
            ],
            "position": "topleft",
            "transparent_bg": false,
            "widget": "IPY_MODEL_85089aecfce54db3b5aef5deeeeef623"
          }
        },
        "88e9141ffc4f484d940c8c1aa31dcb58": {
          "model_module": "jupyter-leaflet",
          "model_name": "LeafletZoomControlModel",
          "model_module_version": "^0.18",
          "state": {
            "_model_module": "jupyter-leaflet",
            "_model_module_version": "^0.18",
            "_model_name": "LeafletZoomControlModel",
            "_view_count": null,
            "_view_module": "jupyter-leaflet",
            "_view_module_version": "^0.18",
            "_view_name": "LeafletZoomControlView",
            "options": [
              "position",
              "zoom_in_text",
              "zoom_in_title",
              "zoom_out_text",
              "zoom_out_title"
            ],
            "position": "topleft",
            "zoom_in_text": "+",
            "zoom_in_title": "Zoom in",
            "zoom_out_text": "-",
            "zoom_out_title": "Zoom out"
          }
        },
        "b1b2ae153b1d40a39ae53c358cfa26c2": {
          "model_module": "jupyter-leaflet",
          "model_name": "LeafletFullScreenControlModel",
          "model_module_version": "^0.18",
          "state": {
            "_model_module": "jupyter-leaflet",
            "_model_module_version": "^0.18",
            "_model_name": "LeafletFullScreenControlModel",
            "_view_count": null,
            "_view_module": "jupyter-leaflet",
            "_view_module_version": "^0.18",
            "_view_name": "LeafletFullScreenControlView",
            "options": [
              "position"
            ],
            "position": "topleft"
          }
        },
        "fdbada265fd142cdacb2c3fe3bc47bb0": {
          "model_module": "jupyter-leaflet",
          "model_name": "LeafletDrawControlModel",
          "model_module_version": "^0.18",
          "state": {
            "_model_module": "jupyter-leaflet",
            "_model_module_version": "^0.18",
            "_model_name": "LeafletDrawControlModel",
            "_view_count": null,
            "_view_module": "jupyter-leaflet",
            "_view_module_version": "^0.18",
            "_view_name": "LeafletDrawControlView",
            "circle": {},
            "circlemarker": {},
            "data": [],
            "edit": true,
            "marker": {
              "shapeOptions": {
                "color": "#3388ff"
              }
            },
            "options": [
              "position"
            ],
            "polygon": {
              "shapeOptions": {}
            },
            "polyline": {
              "shapeOptions": {}
            },
            "position": "topleft",
            "rectangle": {
              "shapeOptions": {
                "color": "#3388ff"
              }
            },
            "remove": true
          }
        },
        "a32bd4b230914c4f8d8e07f9017c8a09": {
          "model_module": "jupyter-leaflet",
          "model_name": "LeafletScaleControlModel",
          "model_module_version": "^0.18",
          "state": {
            "_model_module": "jupyter-leaflet",
            "_model_module_version": "^0.18",
            "_model_name": "LeafletScaleControlModel",
            "_view_count": null,
            "_view_module": "jupyter-leaflet",
            "_view_module_version": "^0.18",
            "_view_name": "LeafletScaleControlView",
            "imperial": true,
            "max_width": 100,
            "metric": true,
            "options": [
              "imperial",
              "max_width",
              "metric",
              "position",
              "update_when_idle"
            ],
            "position": "bottomleft",
            "update_when_idle": false
          }
        },
        "6c5a7ec250024e8f8871afdc85d0ffdc": {
          "model_module": "jupyter-leaflet",
          "model_name": "LeafletMeasureControlModel",
          "model_module_version": "^0.18",
          "state": {
            "_custom_units": {},
            "_model_module": "jupyter-leaflet",
            "_model_module_version": "^0.18",
            "_model_name": "LeafletMeasureControlModel",
            "_view_count": null,
            "_view_module": "jupyter-leaflet",
            "_view_module_version": "^0.18",
            "_view_name": "LeafletMeasureControlView",
            "active_color": "orange",
            "capture_z_index": 10000,
            "completed_color": "#C8F2BE",
            "options": [
              "active_color",
              "capture_z_index",
              "completed_color",
              "popup_options",
              "position",
              "primary_area_unit",
              "primary_length_unit",
              "secondary_area_unit",
              "secondary_length_unit"
            ],
            "popup_options": {
              "className": "leaflet-measure-resultpopup",
              "autoPanPadding": [
                10,
                10
              ]
            },
            "position": "bottomleft",
            "primary_area_unit": "acres",
            "primary_length_unit": "kilometers",
            "secondary_area_unit": null,
            "secondary_length_unit": null
          }
        },
        "3adc0bd5b33b4235b297f299dde9efac": {
          "model_module": "jupyter-leaflet",
          "model_name": "LeafletWidgetControlModel",
          "model_module_version": "^0.18",
          "state": {
            "_model_module": "jupyter-leaflet",
            "_model_module_version": "^0.18",
            "_model_name": "LeafletWidgetControlModel",
            "_view_count": null,
            "_view_module": "jupyter-leaflet",
            "_view_module_version": "^0.18",
            "_view_name": "LeafletWidgetControlView",
            "max_height": null,
            "max_width": null,
            "min_height": null,
            "min_width": null,
            "options": [
              "position",
              "transparent_bg"
            ],
            "position": "topright",
            "transparent_bg": false,
            "widget": "IPY_MODEL_5f24ae40c3564fff9cc157ed890bf764"
          }
        },
        "275bbe2adb6541ce996a8bf4832272d6": {
          "model_module": "jupyter-leaflet",
          "model_name": "LeafletAttributionControlModel",
          "model_module_version": "^0.18",
          "state": {
            "_model_module": "jupyter-leaflet",
            "_model_module_version": "^0.18",
            "_model_name": "LeafletAttributionControlModel",
            "_view_count": null,
            "_view_module": "jupyter-leaflet",
            "_view_module_version": "^0.18",
            "_view_name": "LeafletAttributionControlView",
            "options": [
              "position",
              "prefix"
            ],
            "position": "bottomright",
            "prefix": "ipyleaflet"
          }
        },
        "0d7e26635f214b17af72d28428fc31c3": {
          "model_module": "jupyter-leaflet",
          "model_name": "LeafletMapStyleModel",
          "model_module_version": "^0.18",
          "state": {
            "_model_module": "jupyter-leaflet",
            "_model_module_version": "^0.18",
            "_model_name": "LeafletMapStyleModel",
            "_view_count": null,
            "_view_module": "@jupyter-widgets/base",
            "_view_module_version": "1.2.0",
            "_view_name": "StyleView",
            "cursor": "grab"
          }
        },
        "a2099d8dc60a4a8dac0222c8eb4e8e94": {
          "model_module": "jupyter-leaflet",
          "model_name": "LeafletMapStyleModel",
          "model_module_version": "^0.18",
          "state": {
            "_model_module": "jupyter-leaflet",
            "_model_module_version": "^0.18",
            "_model_name": "LeafletMapStyleModel",
            "_view_count": null,
            "_view_module": "@jupyter-widgets/base",
            "_view_module_version": "1.2.0",
            "_view_name": "StyleView",
            "cursor": "move"
          }
        },
        "21058b300b9b4e7d847a6ea5d58a8beb": {
          "model_module": "jupyter-leaflet",
          "model_name": "LeafletTileLayerModel",
          "model_module_version": "^0.18",
          "state": {
            "_model_module": "jupyter-leaflet",
            "_model_module_version": "^0.18",
            "_model_name": "LeafletTileLayerModel",
            "_view_count": null,
            "_view_module": "jupyter-leaflet",
            "_view_module_version": "^0.18",
            "_view_name": "LeafletTileLayerView",
            "attribution": "&copy; <a href=\"https://www.openstreetmap.org/copyright\">OpenStreetMap</a> contributors",
            "base": true,
            "bottom": true,
            "bounds": null,
            "detect_retina": false,
            "loading": false,
            "max_native_zoom": null,
            "max_zoom": 19,
            "min_native_zoom": null,
            "min_zoom": 1,
            "name": "OpenStreetMap.Mapnik",
            "no_wrap": false,
            "opacity": 1,
            "options": [
              "attribution",
              "bounds",
              "detect_retina",
              "max_native_zoom",
              "max_zoom",
              "min_native_zoom",
              "min_zoom",
              "no_wrap",
              "tile_size",
              "tms",
              "zoom_offset"
            ],
            "pane": "",
            "popup": null,
            "popup_max_height": null,
            "popup_max_width": 300,
            "popup_min_width": 50,
            "show_loading": false,
            "subitems": [],
            "tile_size": 256,
            "tms": false,
            "url": "https://tile.openstreetmap.org/{z}/{x}/{y}.png",
            "visible": true,
            "zoom_offset": 0
          }
        },
        "da08cc11a3c2421aab1c56dc3e0c5472": {
          "model_module": "jupyter-leaflet",
          "model_name": "LeafletTileLayerModel",
          "model_module_version": "^0.18",
          "state": {
            "_model_module": "jupyter-leaflet",
            "_model_module_version": "^0.18",
            "_model_name": "LeafletTileLayerModel",
            "_view_count": null,
            "_view_module": "jupyter-leaflet",
            "_view_module_version": "^0.18",
            "_view_name": "LeafletTileLayerView",
            "attribution": "Google Earth Engine",
            "base": false,
            "bottom": true,
            "bounds": null,
            "detect_retina": false,
            "loading": false,
            "max_native_zoom": null,
            "max_zoom": 24,
            "min_native_zoom": null,
            "min_zoom": 0,
            "name": "Krabi - Landcover",
            "no_wrap": false,
            "opacity": 1,
            "options": [
              "attribution",
              "bounds",
              "detect_retina",
              "max_native_zoom",
              "max_zoom",
              "min_native_zoom",
              "min_zoom",
              "no_wrap",
              "tile_size",
              "tms",
              "zoom_offset"
            ],
            "pane": "",
            "popup": null,
            "popup_max_height": null,
            "popup_max_width": 300,
            "popup_min_width": 50,
            "show_loading": false,
            "subitems": [],
            "tile_size": 256,
            "tms": false,
            "url": "https://earthengine.googleapis.com/v1/projects/ee-testgee/maps/a1539f770e517498cf2bd93e7c9b9f7c-dca97eb8ef4b72c89eaddd1829ec77b0/tiles/{z}/{x}/{y}",
            "visible": true,
            "zoom_offset": 0
          }
        },
        "01748c95878c45978599c2b00675c940": {
          "model_module": "@jupyter-widgets/base",
          "model_name": "LayoutModel",
          "model_module_version": "1.2.0",
          "state": {
            "_model_module": "@jupyter-widgets/base",
            "_model_module_version": "1.2.0",
            "_model_name": "LayoutModel",
            "_view_count": null,
            "_view_module": "@jupyter-widgets/base",
            "_view_module_version": "1.2.0",
            "_view_name": "LayoutView",
            "align_content": null,
            "align_items": null,
            "align_self": null,
            "border": null,
            "bottom": null,
            "display": null,
            "flex": null,
            "flex_flow": null,
            "grid_area": null,
            "grid_auto_columns": null,
            "grid_auto_flow": null,
            "grid_auto_rows": null,
            "grid_column": null,
            "grid_gap": null,
            "grid_row": null,
            "grid_template_areas": null,
            "grid_template_columns": null,
            "grid_template_rows": null,
            "height": "600px",
            "justify_content": null,
            "justify_items": null,
            "left": null,
            "margin": null,
            "max_height": null,
            "max_width": null,
            "min_height": null,
            "min_width": null,
            "object_fit": null,
            "object_position": null,
            "order": null,
            "overflow": null,
            "overflow_x": null,
            "overflow_y": null,
            "padding": null,
            "right": null,
            "top": null,
            "visibility": null,
            "width": null
          }
        },
        "878f475b86e34f379c3838da5bf2c6d0": {
          "model_module": "jupyter-leaflet",
          "model_name": "LeafletMapStyleModel",
          "model_module_version": "^0.18",
          "state": {
            "_model_module": "jupyter-leaflet",
            "_model_module_version": "^0.18",
            "_model_name": "LeafletMapStyleModel",
            "_view_count": null,
            "_view_module": "@jupyter-widgets/base",
            "_view_module_version": "1.2.0",
            "_view_name": "StyleView",
            "cursor": "grab"
          }
        },
        "85089aecfce54db3b5aef5deeeeef623": {
          "model_module": "@jupyter-widgets/controls",
          "model_name": "HBoxModel",
          "model_module_version": "1.5.0",
          "state": {
            "_dom_classes": [
              "geemap-colab"
            ],
            "_model_module": "@jupyter-widgets/controls",
            "_model_module_version": "1.5.0",
            "_model_name": "HBoxModel",
            "_view_count": null,
            "_view_module": "@jupyter-widgets/controls",
            "_view_module_version": "1.5.0",
            "_view_name": "HBoxView",
            "box_style": "",
            "children": [
              "IPY_MODEL_8d2c9dbfe8274fba820ac8c13b870700"
            ],
            "layout": "IPY_MODEL_506f610ab4b84cbb8dabc7576491df51"
          }
        },
        "5f24ae40c3564fff9cc157ed890bf764": {
          "model_module": "@jupyter-widgets/controls",
          "model_name": "VBoxModel",
          "model_module_version": "1.5.0",
          "state": {
            "_dom_classes": [
              "geemap-colab"
            ],
            "_model_module": "@jupyter-widgets/controls",
            "_model_module_version": "1.5.0",
            "_model_name": "VBoxModel",
            "_view_count": null,
            "_view_module": "@jupyter-widgets/controls",
            "_view_module_version": "1.5.0",
            "_view_name": "VBoxView",
            "box_style": "",
            "children": [
              "IPY_MODEL_f7c3e3544aeb48628967292d68154f3f"
            ],
            "layout": "IPY_MODEL_c1df71ef81ed4a11a5ad8fa52bafc1a5"
          }
        },
        "8d2c9dbfe8274fba820ac8c13b870700": {
          "model_module": "@jupyter-widgets/controls",
          "model_name": "ToggleButtonModel",
          "model_module_version": "1.5.0",
          "state": {
            "_dom_classes": [],
            "_model_module": "@jupyter-widgets/controls",
            "_model_module_version": "1.5.0",
            "_model_name": "ToggleButtonModel",
            "_view_count": null,
            "_view_module": "@jupyter-widgets/controls",
            "_view_module_version": "1.5.0",
            "_view_name": "ToggleButtonView",
            "button_style": "",
            "description": "",
            "description_tooltip": null,
            "disabled": false,
            "icon": "globe",
            "layout": "IPY_MODEL_3397394703f44c58aa8bd620d1732246",
            "style": "IPY_MODEL_5b9071b8bf1a4f3b94923ae8d21fdd99",
            "tooltip": "Search location/data",
            "value": false
          }
        },
        "506f610ab4b84cbb8dabc7576491df51": {
          "model_module": "@jupyter-widgets/base",
          "model_name": "LayoutModel",
          "model_module_version": "1.2.0",
          "state": {
            "_model_module": "@jupyter-widgets/base",
            "_model_module_version": "1.2.0",
            "_model_name": "LayoutModel",
            "_view_count": null,
            "_view_module": "@jupyter-widgets/base",
            "_view_module_version": "1.2.0",
            "_view_name": "LayoutView",
            "align_content": null,
            "align_items": null,
            "align_self": null,
            "border": null,
            "bottom": null,
            "display": null,
            "flex": null,
            "flex_flow": null,
            "grid_area": null,
            "grid_auto_columns": null,
            "grid_auto_flow": null,
            "grid_auto_rows": null,
            "grid_column": null,
            "grid_gap": null,
            "grid_row": null,
            "grid_template_areas": null,
            "grid_template_columns": null,
            "grid_template_rows": null,
            "height": null,
            "justify_content": null,
            "justify_items": null,
            "left": null,
            "margin": null,
            "max_height": null,
            "max_width": null,
            "min_height": null,
            "min_width": null,
            "object_fit": null,
            "object_position": null,
            "order": null,
            "overflow": null,
            "overflow_x": null,
            "overflow_y": null,
            "padding": null,
            "right": null,
            "top": null,
            "visibility": null,
            "width": null
          }
        },
        "f7c3e3544aeb48628967292d68154f3f": {
          "model_module": "@jupyter-widgets/controls",
          "model_name": "ToggleButtonModel",
          "model_module_version": "1.5.0",
          "state": {
            "_dom_classes": [],
            "_model_module": "@jupyter-widgets/controls",
            "_model_module_version": "1.5.0",
            "_model_name": "ToggleButtonModel",
            "_view_count": null,
            "_view_module": "@jupyter-widgets/controls",
            "_view_module_version": "1.5.0",
            "_view_name": "ToggleButtonView",
            "button_style": "",
            "description": "",
            "description_tooltip": null,
            "disabled": false,
            "icon": "wrench",
            "layout": "IPY_MODEL_68467bdaced74b8a88bd016f9bdc9b3e",
            "style": "IPY_MODEL_bfa1eb9f192248e397d53d1b01c5bc6d",
            "tooltip": "Toolbar",
            "value": false
          }
        },
        "c1df71ef81ed4a11a5ad8fa52bafc1a5": {
          "model_module": "@jupyter-widgets/base",
          "model_name": "LayoutModel",
          "model_module_version": "1.2.0",
          "state": {
            "_model_module": "@jupyter-widgets/base",
            "_model_module_version": "1.2.0",
            "_model_name": "LayoutModel",
            "_view_count": null,
            "_view_module": "@jupyter-widgets/base",
            "_view_module_version": "1.2.0",
            "_view_name": "LayoutView",
            "align_content": null,
            "align_items": null,
            "align_self": null,
            "border": null,
            "bottom": null,
            "display": null,
            "flex": null,
            "flex_flow": null,
            "grid_area": null,
            "grid_auto_columns": null,
            "grid_auto_flow": null,
            "grid_auto_rows": null,
            "grid_column": null,
            "grid_gap": null,
            "grid_row": null,
            "grid_template_areas": null,
            "grid_template_columns": null,
            "grid_template_rows": null,
            "height": null,
            "justify_content": null,
            "justify_items": null,
            "left": null,
            "margin": null,
            "max_height": null,
            "max_width": null,
            "min_height": null,
            "min_width": null,
            "object_fit": null,
            "object_position": null,
            "order": null,
            "overflow": null,
            "overflow_x": null,
            "overflow_y": null,
            "padding": null,
            "right": null,
            "top": null,
            "visibility": null,
            "width": null
          }
        },
        "3397394703f44c58aa8bd620d1732246": {
          "model_module": "@jupyter-widgets/base",
          "model_name": "LayoutModel",
          "model_module_version": "1.2.0",
          "state": {
            "_model_module": "@jupyter-widgets/base",
            "_model_module_version": "1.2.0",
            "_model_name": "LayoutModel",
            "_view_count": null,
            "_view_module": "@jupyter-widgets/base",
            "_view_module_version": "1.2.0",
            "_view_name": "LayoutView",
            "align_content": null,
            "align_items": null,
            "align_self": null,
            "border": null,
            "bottom": null,
            "display": null,
            "flex": null,
            "flex_flow": null,
            "grid_area": null,
            "grid_auto_columns": null,
            "grid_auto_flow": null,
            "grid_auto_rows": null,
            "grid_column": null,
            "grid_gap": null,
            "grid_row": null,
            "grid_template_areas": null,
            "grid_template_columns": null,
            "grid_template_rows": null,
            "height": "28px",
            "justify_content": null,
            "justify_items": null,
            "left": null,
            "margin": null,
            "max_height": null,
            "max_width": null,
            "min_height": null,
            "min_width": null,
            "object_fit": null,
            "object_position": null,
            "order": null,
            "overflow": null,
            "overflow_x": null,
            "overflow_y": null,
            "padding": "0px 0px 0px 4px",
            "right": null,
            "top": null,
            "visibility": null,
            "width": "28px"
          }
        },
        "5b9071b8bf1a4f3b94923ae8d21fdd99": {
          "model_module": "@jupyter-widgets/controls",
          "model_name": "DescriptionStyleModel",
          "model_module_version": "1.5.0",
          "state": {
            "_model_module": "@jupyter-widgets/controls",
            "_model_module_version": "1.5.0",
            "_model_name": "DescriptionStyleModel",
            "_view_count": null,
            "_view_module": "@jupyter-widgets/base",
            "_view_module_version": "1.2.0",
            "_view_name": "StyleView",
            "description_width": ""
          }
        },
        "68467bdaced74b8a88bd016f9bdc9b3e": {
          "model_module": "@jupyter-widgets/base",
          "model_name": "LayoutModel",
          "model_module_version": "1.2.0",
          "state": {
            "_model_module": "@jupyter-widgets/base",
            "_model_module_version": "1.2.0",
            "_model_name": "LayoutModel",
            "_view_count": null,
            "_view_module": "@jupyter-widgets/base",
            "_view_module_version": "1.2.0",
            "_view_name": "LayoutView",
            "align_content": null,
            "align_items": null,
            "align_self": null,
            "border": null,
            "bottom": null,
            "display": null,
            "flex": null,
            "flex_flow": null,
            "grid_area": null,
            "grid_auto_columns": null,
            "grid_auto_flow": null,
            "grid_auto_rows": null,
            "grid_column": null,
            "grid_gap": null,
            "grid_row": null,
            "grid_template_areas": null,
            "grid_template_columns": null,
            "grid_template_rows": null,
            "height": "28px",
            "justify_content": null,
            "justify_items": null,
            "left": null,
            "margin": null,
            "max_height": null,
            "max_width": null,
            "min_height": null,
            "min_width": null,
            "object_fit": null,
            "object_position": null,
            "order": null,
            "overflow": null,
            "overflow_x": null,
            "overflow_y": null,
            "padding": "0px 0px 0px 4px",
            "right": null,
            "top": null,
            "visibility": null,
            "width": "28px"
          }
        },
        "bfa1eb9f192248e397d53d1b01c5bc6d": {
          "model_module": "@jupyter-widgets/controls",
          "model_name": "DescriptionStyleModel",
          "model_module_version": "1.5.0",
          "state": {
            "_model_module": "@jupyter-widgets/controls",
            "_model_module_version": "1.5.0",
            "_model_name": "DescriptionStyleModel",
            "_view_count": null,
            "_view_module": "@jupyter-widgets/base",
            "_view_module_version": "1.2.0",
            "_view_name": "StyleView",
            "description_width": ""
          }
        }
      }
    }
  },
  "cells": [
    {
      "cell_type": "code",
      "execution_count": 1,
      "metadata": {
        "id": "eMj2oOPUZK54"
      },
      "outputs": [],
      "source": [
        "!pip install geemap >> /dev/null\n",
        "!pip install pycrs >> /dev/null"
      ]
    },
    {
      "cell_type": "code",
      "source": [
        "import numpy as np\n",
        "import matplotlib.pyplot as plt\n",
        "import pandas as pd\n",
        "import ee\n",
        "import geemap"
      ],
      "metadata": {
        "id": "z9ca_tIAZ1Ld"
      },
      "execution_count": 2,
      "outputs": []
    },
    {
      "cell_type": "code",
      "source": [
        "ee.Authenticate()\n",
        "ee.Initialize(project='ee-testgee')"
      ],
      "metadata": {
        "colab": {
          "base_uri": "https://localhost:8080/",
          "height": 17
        },
        "id": "DgZazHcLZ4Ml",
        "outputId": "82332f80-2a16-40c0-eb2f-85b227e3d444"
      },
      "execution_count": 3,
      "outputs": [
        {
          "output_type": "display_data",
          "data": {
            "text/plain": [
              "<IPython.core.display.HTML object>"
            ],
            "text/html": [
              "\n",
              "            <style>\n",
              "                .geemap-dark {\n",
              "                    --jp-widgets-color: white;\n",
              "                    --jp-widgets-label-color: white;\n",
              "                    --jp-ui-font-color1: white;\n",
              "                    --jp-layout-color2: #454545;\n",
              "                    background-color: #383838;\n",
              "                }\n",
              "\n",
              "                .geemap-dark .jupyter-button {\n",
              "                    --jp-layout-color3: #383838;\n",
              "                }\n",
              "\n",
              "                .geemap-colab {\n",
              "                    background-color: var(--colab-primary-surface-color, white);\n",
              "                }\n",
              "\n",
              "                .geemap-colab .jupyter-button {\n",
              "                    --jp-layout-color3: var(--colab-primary-surface-color, white);\n",
              "                }\n",
              "            </style>\n",
              "            "
            ]
          },
          "metadata": {}
        }
      ]
    },
    {
      "cell_type": "code",
      "source": [
        "studyArea = ee.Geometry.Rectangle(98.82, 7.98, 99.02, 8.18)\n",
        "KrabiCol = ee.ImageCollection('COPERNICUS/S2_SR').filterDate('2020-01-01','2020-04-30').filterBounds(studyArea)\n",
        "KrabiImg = KrabiCol.median().clip(studyArea).select(['B4','B3','B2', 'B8'])\n",
        "Map = geemap.Map(center = [8.08,98.92], zoom = 12)\n",
        "vis_Para = {'min': 0.0, 'max': 1000, 'bands':['B4','B3','B2']}\n",
        "Map.addLayer(KrabiImg, vis_Para, name=\"Krabi RGB Image\")\n",
        "Map"
      ],
      "metadata": {
        "colab": {
          "base_uri": "https://localhost:8080/",
          "height": 621,
          "referenced_widgets": [
            "1f02f707819e4e75a5e6fcdf0c4e0a11",
            "12cb8e9c237147a7bacd90e4c605eda6",
            "0c727f137bdd494494fbc1c9f41b1e8d",
            "46a90890cafc498e8798f12fa198f9e2",
            "0509b1c38e794fe1aecc8c4159c7df75",
            "a41a7ce45a9646f0907be0e4bd93bf8f",
            "d982edbbeca641be90f8584168ea6efc",
            "01ce1ada958444418b20f60c34322356",
            "a350cd37fbcf4cb8bb0bb543cc16b723",
            "aeb44e054fd848ba802b88d6c65ccc8a",
            "9e99015597e943a1a41ed28776067474",
            "0db03516ad784e93894490b0743b7618",
            "a607473e476c48cc8af121828ad219ff",
            "518ab3832a824cbc8060f16a84e8f9c4",
            "dedb6b62389c4965b7d05a57deca64b9",
            "d09a73a83dad4b37ac08c7c0f4755771",
            "d54e0c8010fc41e999df820566284b0d",
            "b6203eb50ed6424081fa2ca009b0ebf4",
            "d3950d6907f447ce90f940a775fc0b92",
            "de374c04f6e541438d480087ceb06572",
            "9d5a8b0565804d688d8db52272736c4c",
            "c9e778de3f21440d936fbfd7d531463e",
            "0e144f4605be4382b44553471e951636",
            "17bb28fb0b5c468884d442461e207add",
            "76ffbbb52228494985b277cb490d10e8"
          ]
        },
        "id": "dc3v7FhIabUJ",
        "outputId": "0cdbd808-8bd6-40cd-ecec-f079aa668aaf"
      },
      "execution_count": 4,
      "outputs": [
        {
          "output_type": "display_data",
          "data": {
            "text/plain": [
              "<IPython.core.display.HTML object>"
            ],
            "text/html": [
              "\n",
              "            <style>\n",
              "                .geemap-dark {\n",
              "                    --jp-widgets-color: white;\n",
              "                    --jp-widgets-label-color: white;\n",
              "                    --jp-ui-font-color1: white;\n",
              "                    --jp-layout-color2: #454545;\n",
              "                    background-color: #383838;\n",
              "                }\n",
              "\n",
              "                .geemap-dark .jupyter-button {\n",
              "                    --jp-layout-color3: #383838;\n",
              "                }\n",
              "\n",
              "                .geemap-colab {\n",
              "                    background-color: var(--colab-primary-surface-color, white);\n",
              "                }\n",
              "\n",
              "                .geemap-colab .jupyter-button {\n",
              "                    --jp-layout-color3: var(--colab-primary-surface-color, white);\n",
              "                }\n",
              "            </style>\n",
              "            "
            ]
          },
          "metadata": {}
        },
        {
          "output_type": "display_data",
          "data": {
            "text/plain": [
              "Map(center=[8.08, 98.92], controls=(WidgetControl(options=['position', 'transparent_bg'], widget=SearchDataGUI…"
            ],
            "application/vnd.jupyter.widget-view+json": {
              "version_major": 2,
              "version_minor": 0,
              "model_id": "1f02f707819e4e75a5e6fcdf0c4e0a11"
            }
          },
          "metadata": {
            "application/vnd.jupyter.widget-view+json": {
              "colab": {
                "custom_widget_manager": {
                  "url": "https://ssl.gstatic.com/colaboratory-static/widgets/colab-cdn-widget-manager/2b70e893a8ba7c0f/manager.min.js"
                }
              }
            }
          }
        }
      ]
    },
    {
      "cell_type": "code",
      "source": [
        "lc_gt_train = geemap.shp_to_ee('/content/krabi_gt_train.shp')\n",
        "example_pnts = KrabiImg.sampleRegions(lc_gt_train, scale=30) #get band values for points from raster"
      ],
      "metadata": {
        "colab": {
          "base_uri": "https://localhost:8080/",
          "height": 17
        },
        "id": "-Q8Kon90bF21",
        "outputId": "f7183405-df73-4249-d544-405e82ff30f5"
      },
      "execution_count": 6,
      "outputs": [
        {
          "output_type": "display_data",
          "data": {
            "text/plain": [
              "<IPython.core.display.HTML object>"
            ],
            "text/html": [
              "\n",
              "            <style>\n",
              "                .geemap-dark {\n",
              "                    --jp-widgets-color: white;\n",
              "                    --jp-widgets-label-color: white;\n",
              "                    --jp-ui-font-color1: white;\n",
              "                    --jp-layout-color2: #454545;\n",
              "                    background-color: #383838;\n",
              "                }\n",
              "\n",
              "                .geemap-dark .jupyter-button {\n",
              "                    --jp-layout-color3: #383838;\n",
              "                }\n",
              "\n",
              "                .geemap-colab {\n",
              "                    background-color: var(--colab-primary-surface-color, white);\n",
              "                }\n",
              "\n",
              "                .geemap-colab .jupyter-button {\n",
              "                    --jp-layout-color3: var(--colab-primary-surface-color, white);\n",
              "                }\n",
              "            </style>\n",
              "            "
            ]
          },
          "metadata": {}
        }
      ]
    },
    {
      "cell_type": "code",
      "source": [
        "example_pnts\n"
      ],
      "metadata": {
        "colab": {
          "base_uri": "https://localhost:8080/",
          "height": 68
        },
        "id": "u_0H1MYkc7bY",
        "outputId": "4ea4fe83-b380-48a7-fe94-d7bfb42dbebc"
      },
      "execution_count": 7,
      "outputs": [
        {
          "output_type": "display_data",
          "data": {
            "text/plain": [
              "<IPython.core.display.HTML object>"
            ],
            "text/html": [
              "\n",
              "            <style>\n",
              "                .geemap-dark {\n",
              "                    --jp-widgets-color: white;\n",
              "                    --jp-widgets-label-color: white;\n",
              "                    --jp-ui-font-color1: white;\n",
              "                    --jp-layout-color2: #454545;\n",
              "                    background-color: #383838;\n",
              "                }\n",
              "\n",
              "                .geemap-dark .jupyter-button {\n",
              "                    --jp-layout-color3: #383838;\n",
              "                }\n",
              "\n",
              "                .geemap-colab {\n",
              "                    background-color: var(--colab-primary-surface-color, white);\n",
              "                }\n",
              "\n",
              "                .geemap-colab .jupyter-button {\n",
              "                    --jp-layout-color3: var(--colab-primary-surface-color, white);\n",
              "                }\n",
              "            </style>\n",
              "            "
            ]
          },
          "metadata": {}
        },
        {
          "output_type": "execute_result",
          "data": {
            "text/plain": [
              "<ee.featurecollection.FeatureCollection at 0x794836de9870>"
            ],
            "text/html": [
              "<div><style>:root {\n",
              "  --font-color-primary: var(--jp-content-font-color0, rgba(0, 0, 0, 1));\n",
              "  --font-color-secondary: var(--jp-content-font-color2, rgba(0, 0, 0, 0.6));\n",
              "  --font-color-accent: rgba(123, 31, 162, 1);\n",
              "  --border-color: var(--jp-border-color2, #e0e0e0);\n",
              "  --background-color: var(--jp-layout-color0, white);\n",
              "  --background-color-row-even: var(--jp-layout-color1, white);\n",
              "  --background-color-row-odd: var(--jp-layout-color2, #eeeeee);\n",
              "}\n",
              "\n",
              "html[theme=\"dark\"],\n",
              "body[data-theme=\"dark\"],\n",
              "body.vscode-dark {\n",
              "  --font-color-primary: rgba(255, 255, 255, 1);\n",
              "  --font-color-secondary: rgba(255, 255, 255, 0.6);\n",
              "  --font-color-accent: rgb(173, 132, 190);\n",
              "  --border-color: #2e2e2e;\n",
              "  --background-color: #111111;\n",
              "  --background-color-row-even: #111111;\n",
              "  --background-color-row-odd: #313131;\n",
              "}\n",
              "\n",
              ".ee {\n",
              "  padding: 1em;\n",
              "  line-height: 1.5em;\n",
              "  min-width: 300px;\n",
              "  max-width: 1200px;\n",
              "  overflow-y: scroll;\n",
              "  max-height: 600px;\n",
              "  border: 1px solid var(--border-color);\n",
              "  font-family: monospace;\n",
              "}\n",
              "\n",
              ".ee li {\n",
              "  list-style-type: none;\n",
              "}\n",
              "\n",
              ".ee ul {\n",
              "  padding-left: 1.5em !important;\n",
              "  margin: 0;\n",
              "}\n",
              "\n",
              ".ee > ul {\n",
              "  padding-left: 0 !important;\n",
              "}\n",
              "\n",
              ".ee-open,\n",
              ".ee-shut {\n",
              "  color: var(--font-color-secondary);\n",
              "  cursor: pointer;\n",
              "  margin: 0;\n",
              "}\n",
              "\n",
              ".ee-open:hover,\n",
              ".ee-shut:hover {\n",
              "  color: var(--font-color-primary);\n",
              "}\n",
              "\n",
              ".ee-k {\n",
              "  color: var(--font-color-accent);\n",
              "  margin-right: 6px;\n",
              "}\n",
              "\n",
              ".ee-v {\n",
              "  color: var(--font-color-primary);\n",
              "}\n",
              "\n",
              ".ee-toggle {\n",
              "  display: none;\n",
              "}\n",
              "\n",
              ".ee-shut + ul {\n",
              "  display: none;\n",
              "}\n",
              "\n",
              ".ee-open + ul {\n",
              "  display: block;\n",
              "}\n",
              "\n",
              ".ee-shut::before {\n",
              "  display: inline-block;\n",
              "  content: \"▼\";\n",
              "  margin-right: 6px;\n",
              "  transform: rotate(-90deg);\n",
              "  transition: transform 0.2s;\n",
              "}\n",
              "\n",
              ".ee-open::before {\n",
              "  transform: rotate(0deg);\n",
              "  display: inline-block;\n",
              "  content: \"▼\";\n",
              "  margin-right: 6px;\n",
              "  transition: transform 0.2s;\n",
              "}\n",
              "</style><div class='ee'><ul><li><label class='ee-shut'>FeatureCollection (285 elements, 0 columns)<input type='checkbox' class='ee-toggle'></label><ul><li><span class='ee-k'>type:</span><span class='ee-v'>FeatureCollection</span></li><li><label class='ee-shut'>columns: Object (0 properties)<input type='checkbox' class='ee-toggle'></label><ul></ul></li><li><label class='ee-shut'>properties: Object (1 property)<input type='checkbox' class='ee-toggle'></label><ul><li><label class='ee-shut'>band_order: ['B4', 'B3', 'B2', 'B8']<input type='checkbox' class='ee-toggle'></label><ul><li><span class='ee-k'>0:</span><span class='ee-v'>B4</span></li><li><span class='ee-k'>1:</span><span class='ee-v'>B3</span></li><li><span class='ee-k'>2:</span><span class='ee-v'>B2</span></li><li><span class='ee-k'>3:</span><span class='ee-v'>B8</span></li></ul></li></ul></li><li><label class='ee-shut'>features: List (285 elements)<input type='checkbox' class='ee-toggle'></label><ul><li><label class='ee-shut'>0: Feature (5 properties)<input type='checkbox' class='ee-toggle'></label><ul><li><span class='ee-k'>type:</span><span class='ee-v'>Feature</span></li><li><span class='ee-k'>id:</span><span class='ee-v'>0_0</span></li><li><span class='ee-k'>geometry:</span><span class='ee-v'>None</span></li><li><label class='ee-shut'>properties: Object (5 properties)<input type='checkbox' class='ee-toggle'></label><ul><li><span class='ee-k'>id:</span><span class='ee-v'>1</span></li><li><span class='ee-k'>B2:</span><span class='ee-v'>300</span></li><li><span class='ee-k'>B3:</span><span class='ee-v'>480</span></li><li><span class='ee-k'>B4:</span><span class='ee-v'>257</span></li><li><span class='ee-k'>B8:</span><span class='ee-v'>3110.5</span></li></ul></li></ul></li><li><label class='ee-shut'>1: Feature (5 properties)<input type='checkbox' class='ee-toggle'></label><ul><li><span class='ee-k'>type:</span><span class='ee-v'>Feature</span></li><li><span class='ee-k'>id:</span><span class='ee-v'>1_0</span></li><li><span class='ee-k'>geometry:</span><span class='ee-v'>None</span></li><li><label class='ee-shut'>properties: Object (5 properties)<input type='checkbox' class='ee-toggle'></label><ul><li><span class='ee-k'>id:</span><span class='ee-v'>1</span></li><li><span class='ee-k'>B2:</span><span class='ee-v'>351</span></li><li><span class='ee-k'>B3:</span><span class='ee-v'>555.5</span></li><li><span class='ee-k'>B4:</span><span class='ee-v'>304</span></li><li><span class='ee-k'>B8:</span><span class='ee-v'>2939.5</span></li></ul></li></ul></li><li><label class='ee-shut'>2: Feature (5 properties)<input type='checkbox' class='ee-toggle'></label><ul><li><span class='ee-k'>type:</span><span class='ee-v'>Feature</span></li><li><span class='ee-k'>id:</span><span class='ee-v'>2_0</span></li><li><span class='ee-k'>geometry:</span><span class='ee-v'>None</span></li><li><label class='ee-shut'>properties: Object (5 properties)<input type='checkbox' class='ee-toggle'></label><ul><li><span class='ee-k'>id:</span><span class='ee-v'>1</span></li><li><span class='ee-k'>B2:</span><span class='ee-v'>304.5</span></li><li><span class='ee-k'>B3:</span><span class='ee-v'>464.5</span></li><li><span class='ee-k'>B4:</span><span class='ee-v'>253.5</span></li><li><span class='ee-k'>B8:</span><span class='ee-v'>3337</span></li></ul></li></ul></li><li><label class='ee-shut'>3: Feature (5 properties)<input type='checkbox' class='ee-toggle'></label><ul><li><span class='ee-k'>type:</span><span class='ee-v'>Feature</span></li><li><span class='ee-k'>id:</span><span class='ee-v'>3_0</span></li><li><span class='ee-k'>geometry:</span><span class='ee-v'>None</span></li><li><label class='ee-shut'>properties: Object (5 properties)<input type='checkbox' class='ee-toggle'></label><ul><li><span class='ee-k'>id:</span><span class='ee-v'>1</span></li><li><span class='ee-k'>B2:</span><span class='ee-v'>247</span></li><li><span class='ee-k'>B3:</span><span class='ee-v'>391</span></li><li><span class='ee-k'>B4:</span><span class='ee-v'>206</span></li><li><span class='ee-k'>B8:</span><span class='ee-v'>3200.5</span></li></ul></li></ul></li><li><label class='ee-shut'>4: Feature (5 properties)<input type='checkbox' class='ee-toggle'></label><ul><li><span class='ee-k'>type:</span><span class='ee-v'>Feature</span></li><li><span class='ee-k'>id:</span><span class='ee-v'>4_0</span></li><li><span class='ee-k'>geometry:</span><span class='ee-v'>None</span></li><li><label class='ee-shut'>properties: Object (5 properties)<input type='checkbox' class='ee-toggle'></label><ul><li><span class='ee-k'>id:</span><span class='ee-v'>1</span></li><li><span class='ee-k'>B2:</span><span class='ee-v'>343</span></li><li><span class='ee-k'>B3:</span><span class='ee-v'>523</span></li><li><span class='ee-k'>B4:</span><span class='ee-v'>314.5</span></li><li><span class='ee-k'>B8:</span><span class='ee-v'>2553</span></li></ul></li></ul></li><li><label class='ee-shut'>5: Feature (5 properties)<input type='checkbox' class='ee-toggle'></label><ul><li><span class='ee-k'>type:</span><span class='ee-v'>Feature</span></li><li><span class='ee-k'>id:</span><span class='ee-v'>5_0</span></li><li><span class='ee-k'>geometry:</span><span class='ee-v'>None</span></li><li><label class='ee-shut'>properties: Object (5 properties)<input type='checkbox' class='ee-toggle'></label><ul><li><span class='ee-k'>id:</span><span class='ee-v'>1</span></li><li><span class='ee-k'>B2:</span><span class='ee-v'>331</span></li><li><span class='ee-k'>B3:</span><span class='ee-v'>558.5</span></li><li><span class='ee-k'>B4:</span><span class='ee-v'>296</span></li><li><span class='ee-k'>B8:</span><span class='ee-v'>3180.5</span></li></ul></li></ul></li><li><label class='ee-shut'>6: Feature (5 properties)<input type='checkbox' class='ee-toggle'></label><ul><li><span class='ee-k'>type:</span><span class='ee-v'>Feature</span></li><li><span class='ee-k'>id:</span><span class='ee-v'>6_0</span></li><li><span class='ee-k'>geometry:</span><span class='ee-v'>None</span></li><li><label class='ee-shut'>properties: Object (5 properties)<input type='checkbox' class='ee-toggle'></label><ul><li><span class='ee-k'>id:</span><span class='ee-v'>1</span></li><li><span class='ee-k'>B2:</span><span class='ee-v'>313</span></li><li><span class='ee-k'>B3:</span><span class='ee-v'>506.5</span></li><li><span class='ee-k'>B4:</span><span class='ee-v'>282.5</span></li><li><span class='ee-k'>B8:</span><span class='ee-v'>3164.5</span></li></ul></li></ul></li><li><label class='ee-shut'>7: Feature (5 properties)<input type='checkbox' class='ee-toggle'></label><ul><li><span class='ee-k'>type:</span><span class='ee-v'>Feature</span></li><li><span class='ee-k'>id:</span><span class='ee-v'>7_0</span></li><li><span class='ee-k'>geometry:</span><span class='ee-v'>None</span></li><li><label class='ee-shut'>properties: Object (5 properties)<input type='checkbox' class='ee-toggle'></label><ul><li><span class='ee-k'>id:</span><span class='ee-v'>1</span></li><li><span class='ee-k'>B2:</span><span class='ee-v'>287.5</span></li><li><span class='ee-k'>B3:</span><span class='ee-v'>515</span></li><li><span class='ee-k'>B4:</span><span class='ee-v'>307</span></li><li><span class='ee-k'>B8:</span><span class='ee-v'>2671</span></li></ul></li></ul></li><li><label class='ee-shut'>8: Feature (5 properties)<input type='checkbox' class='ee-toggle'></label><ul><li><span class='ee-k'>type:</span><span class='ee-v'>Feature</span></li><li><span class='ee-k'>id:</span><span class='ee-v'>8_0</span></li><li><span class='ee-k'>geometry:</span><span class='ee-v'>None</span></li><li><label class='ee-shut'>properties: Object (5 properties)<input type='checkbox' class='ee-toggle'></label><ul><li><span class='ee-k'>id:</span><span class='ee-v'>1</span></li><li><span class='ee-k'>B2:</span><span class='ee-v'>323.5</span></li><li><span class='ee-k'>B3:</span><span class='ee-v'>478.5</span></li><li><span class='ee-k'>B4:</span><span class='ee-v'>281.5</span></li><li><span class='ee-k'>B8:</span><span class='ee-v'>3109</span></li></ul></li></ul></li><li><label class='ee-shut'>9: Feature (5 properties)<input type='checkbox' class='ee-toggle'></label><ul><li><span class='ee-k'>type:</span><span class='ee-v'>Feature</span></li><li><span class='ee-k'>id:</span><span class='ee-v'>9_0</span></li><li><span class='ee-k'>geometry:</span><span class='ee-v'>None</span></li><li><label class='ee-shut'>properties: Object (5 properties)<input type='checkbox' class='ee-toggle'></label><ul><li><span class='ee-k'>id:</span><span class='ee-v'>1</span></li><li><span class='ee-k'>B2:</span><span class='ee-v'>268.5</span></li><li><span class='ee-k'>B3:</span><span class='ee-v'>413</span></li><li><span class='ee-k'>B4:</span><span class='ee-v'>242</span></li><li><span class='ee-k'>B8:</span><span class='ee-v'>2845</span></li></ul></li></ul></li><li><label class='ee-shut'>10: Feature (5 properties)<input type='checkbox' class='ee-toggle'></label><ul><li><span class='ee-k'>type:</span><span class='ee-v'>Feature</span></li><li><span class='ee-k'>id:</span><span class='ee-v'>10_0</span></li><li><span class='ee-k'>geometry:</span><span class='ee-v'>None</span></li><li><label class='ee-shut'>properties: Object (5 properties)<input type='checkbox' class='ee-toggle'></label><ul><li><span class='ee-k'>id:</span><span class='ee-v'>1</span></li><li><span class='ee-k'>B2:</span><span class='ee-v'>370</span></li><li><span class='ee-k'>B3:</span><span class='ee-v'>606</span></li><li><span class='ee-k'>B4:</span><span class='ee-v'>379.5</span></li><li><span class='ee-k'>B8:</span><span class='ee-v'>3161</span></li></ul></li></ul></li><li><label class='ee-shut'>11: Feature (5 properties)<input type='checkbox' class='ee-toggle'></label><ul><li><span class='ee-k'>type:</span><span class='ee-v'>Feature</span></li><li><span class='ee-k'>id:</span><span class='ee-v'>11_0</span></li><li><span class='ee-k'>geometry:</span><span class='ee-v'>None</span></li><li><label class='ee-shut'>properties: Object (5 properties)<input type='checkbox' class='ee-toggle'></label><ul><li><span class='ee-k'>id:</span><span class='ee-v'>1</span></li><li><span class='ee-k'>B2:</span><span class='ee-v'>279.5</span></li><li><span class='ee-k'>B3:</span><span class='ee-v'>457.5</span></li><li><span class='ee-k'>B4:</span><span class='ee-v'>247</span></li><li><span class='ee-k'>B8:</span><span class='ee-v'>3316.5</span></li></ul></li></ul></li><li><label class='ee-shut'>12: Feature (5 properties)<input type='checkbox' class='ee-toggle'></label><ul><li><span class='ee-k'>type:</span><span class='ee-v'>Feature</span></li><li><span class='ee-k'>id:</span><span class='ee-v'>12_0</span></li><li><span class='ee-k'>geometry:</span><span class='ee-v'>None</span></li><li><label class='ee-shut'>properties: Object (5 properties)<input type='checkbox' class='ee-toggle'></label><ul><li><span class='ee-k'>id:</span><span class='ee-v'>1</span></li><li><span class='ee-k'>B2:</span><span class='ee-v'>452.5</span></li><li><span class='ee-k'>B3:</span><span class='ee-v'>725</span></li><li><span class='ee-k'>B4:</span><span class='ee-v'>455</span></li><li><span class='ee-k'>B8:</span><span class='ee-v'>3390</span></li></ul></li></ul></li><li><label class='ee-shut'>13: Feature (5 properties)<input type='checkbox' class='ee-toggle'></label><ul><li><span class='ee-k'>type:</span><span class='ee-v'>Feature</span></li><li><span class='ee-k'>id:</span><span class='ee-v'>13_0</span></li><li><span class='ee-k'>geometry:</span><span class='ee-v'>None</span></li><li><label class='ee-shut'>properties: Object (5 properties)<input type='checkbox' class='ee-toggle'></label><ul><li><span class='ee-k'>id:</span><span class='ee-v'>1</span></li><li><span class='ee-k'>B2:</span><span class='ee-v'>409.5</span></li><li><span class='ee-k'>B3:</span><span class='ee-v'>667.5</span></li><li><span class='ee-k'>B4:</span><span class='ee-v'>396.5</span></li><li><span class='ee-k'>B8:</span><span class='ee-v'>3371.5</span></li></ul></li></ul></li><li><label class='ee-shut'>14: Feature (5 properties)<input type='checkbox' class='ee-toggle'></label><ul><li><span class='ee-k'>type:</span><span class='ee-v'>Feature</span></li><li><span class='ee-k'>id:</span><span class='ee-v'>14_0</span></li><li><span class='ee-k'>geometry:</span><span class='ee-v'>None</span></li><li><label class='ee-shut'>properties: Object (5 properties)<input type='checkbox' class='ee-toggle'></label><ul><li><span class='ee-k'>id:</span><span class='ee-v'>1</span></li><li><span class='ee-k'>B2:</span><span class='ee-v'>295.5</span></li><li><span class='ee-k'>B3:</span><span class='ee-v'>464</span></li><li><span class='ee-k'>B4:</span><span class='ee-v'>289.5</span></li><li><span class='ee-k'>B8:</span><span class='ee-v'>3008.5</span></li></ul></li></ul></li><li><label class='ee-shut'>15: Feature (5 properties)<input type='checkbox' class='ee-toggle'></label><ul><li><span class='ee-k'>type:</span><span class='ee-v'>Feature</span></li><li><span class='ee-k'>id:</span><span class='ee-v'>15_0</span></li><li><span class='ee-k'>geometry:</span><span class='ee-v'>None</span></li><li><label class='ee-shut'>properties: Object (5 properties)<input type='checkbox' class='ee-toggle'></label><ul><li><span class='ee-k'>id:</span><span class='ee-v'>1</span></li><li><span class='ee-k'>B2:</span><span class='ee-v'>274.5</span></li><li><span class='ee-k'>B3:</span><span class='ee-v'>442.5</span></li><li><span class='ee-k'>B4:</span><span class='ee-v'>235</span></li><li><span class='ee-k'>B8:</span><span class='ee-v'>3040.5</span></li></ul></li></ul></li><li><label class='ee-shut'>16: Feature (5 properties)<input type='checkbox' class='ee-toggle'></label><ul><li><span class='ee-k'>type:</span><span class='ee-v'>Feature</span></li><li><span class='ee-k'>id:</span><span class='ee-v'>16_0</span></li><li><span class='ee-k'>geometry:</span><span class='ee-v'>None</span></li><li><label class='ee-shut'>properties: Object (5 properties)<input type='checkbox' class='ee-toggle'></label><ul><li><span class='ee-k'>id:</span><span class='ee-v'>1</span></li><li><span class='ee-k'>B2:</span><span class='ee-v'>246</span></li><li><span class='ee-k'>B3:</span><span class='ee-v'>395.5</span></li><li><span class='ee-k'>B4:</span><span class='ee-v'>226.5</span></li><li><span class='ee-k'>B8:</span><span class='ee-v'>2794.5</span></li></ul></li></ul></li><li><label class='ee-shut'>17: Feature (5 properties)<input type='checkbox' class='ee-toggle'></label><ul><li><span class='ee-k'>type:</span><span class='ee-v'>Feature</span></li><li><span class='ee-k'>id:</span><span class='ee-v'>17_0</span></li><li><span class='ee-k'>geometry:</span><span class='ee-v'>None</span></li><li><label class='ee-shut'>properties: Object (5 properties)<input type='checkbox' class='ee-toggle'></label><ul><li><span class='ee-k'>id:</span><span class='ee-v'>1</span></li><li><span class='ee-k'>B2:</span><span class='ee-v'>269</span></li><li><span class='ee-k'>B3:</span><span class='ee-v'>461.5</span></li><li><span class='ee-k'>B4:</span><span class='ee-v'>259</span></li><li><span class='ee-k'>B8:</span><span class='ee-v'>3079.5</span></li></ul></li></ul></li><li><label class='ee-shut'>18: Feature (5 properties)<input type='checkbox' class='ee-toggle'></label><ul><li><span class='ee-k'>type:</span><span class='ee-v'>Feature</span></li><li><span class='ee-k'>id:</span><span class='ee-v'>18_0</span></li><li><span class='ee-k'>geometry:</span><span class='ee-v'>None</span></li><li><label class='ee-shut'>properties: Object (5 properties)<input type='checkbox' class='ee-toggle'></label><ul><li><span class='ee-k'>id:</span><span class='ee-v'>1</span></li><li><span class='ee-k'>B2:</span><span class='ee-v'>351</span></li><li><span class='ee-k'>B3:</span><span class='ee-v'>502.5</span></li><li><span class='ee-k'>B4:</span><span class='ee-v'>312.5</span></li><li><span class='ee-k'>B8:</span><span class='ee-v'>3117.5</span></li></ul></li></ul></li><li><label class='ee-shut'>19: Feature (5 properties)<input type='checkbox' class='ee-toggle'></label><ul><li><span class='ee-k'>type:</span><span class='ee-v'>Feature</span></li><li><span class='ee-k'>id:</span><span class='ee-v'>19_0</span></li><li><span class='ee-k'>geometry:</span><span class='ee-v'>None</span></li><li><label class='ee-shut'>properties: Object (5 properties)<input type='checkbox' class='ee-toggle'></label><ul><li><span class='ee-k'>id:</span><span class='ee-v'>1</span></li><li><span class='ee-k'>B2:</span><span class='ee-v'>365.5</span></li><li><span class='ee-k'>B3:</span><span class='ee-v'>499.5</span></li><li><span class='ee-k'>B4:</span><span class='ee-v'>311</span></li><li><span class='ee-k'>B8:</span><span class='ee-v'>2989.5</span></li></ul></li></ul></li><li><label class='ee-shut'>20: Feature (5 properties)<input type='checkbox' class='ee-toggle'></label><ul><li><span class='ee-k'>type:</span><span class='ee-v'>Feature</span></li><li><span class='ee-k'>id:</span><span class='ee-v'>20_0</span></li><li><span class='ee-k'>geometry:</span><span class='ee-v'>None</span></li><li><label class='ee-shut'>properties: Object (5 properties)<input type='checkbox' class='ee-toggle'></label><ul><li><span class='ee-k'>id:</span><span class='ee-v'>1</span></li><li><span class='ee-k'>B2:</span><span class='ee-v'>283</span></li><li><span class='ee-k'>B3:</span><span class='ee-v'>419.5</span></li><li><span class='ee-k'>B4:</span><span class='ee-v'>242</span></li><li><span class='ee-k'>B8:</span><span class='ee-v'>2943.5</span></li></ul></li></ul></li><li><label class='ee-shut'>21: Feature (5 properties)<input type='checkbox' class='ee-toggle'></label><ul><li><span class='ee-k'>type:</span><span class='ee-v'>Feature</span></li><li><span class='ee-k'>id:</span><span class='ee-v'>21_0</span></li><li><span class='ee-k'>geometry:</span><span class='ee-v'>None</span></li><li><label class='ee-shut'>properties: Object (5 properties)<input type='checkbox' class='ee-toggle'></label><ul><li><span class='ee-k'>id:</span><span class='ee-v'>1</span></li><li><span class='ee-k'>B2:</span><span class='ee-v'>483</span></li><li><span class='ee-k'>B3:</span><span class='ee-v'>661.5</span></li><li><span class='ee-k'>B4:</span><span class='ee-v'>584</span></li><li><span class='ee-k'>B8:</span><span class='ee-v'>2424</span></li></ul></li></ul></li><li><label class='ee-shut'>22: Feature (5 properties)<input type='checkbox' class='ee-toggle'></label><ul><li><span class='ee-k'>type:</span><span class='ee-v'>Feature</span></li><li><span class='ee-k'>id:</span><span class='ee-v'>22_0</span></li><li><span class='ee-k'>geometry:</span><span class='ee-v'>None</span></li><li><label class='ee-shut'>properties: Object (5 properties)<input type='checkbox' class='ee-toggle'></label><ul><li><span class='ee-k'>id:</span><span class='ee-v'>1</span></li><li><span class='ee-k'>B2:</span><span class='ee-v'>356.5</span></li><li><span class='ee-k'>B3:</span><span class='ee-v'>600</span></li><li><span class='ee-k'>B4:</span><span class='ee-v'>441.5</span></li><li><span class='ee-k'>B8:</span><span class='ee-v'>3428.5</span></li></ul></li></ul></li><li><label class='ee-shut'>23: Feature (5 properties)<input type='checkbox' class='ee-toggle'></label><ul><li><span class='ee-k'>type:</span><span class='ee-v'>Feature</span></li><li><span class='ee-k'>id:</span><span class='ee-v'>23_0</span></li><li><span class='ee-k'>geometry:</span><span class='ee-v'>None</span></li><li><label class='ee-shut'>properties: Object (5 properties)<input type='checkbox' class='ee-toggle'></label><ul><li><span class='ee-k'>id:</span><span class='ee-v'>1</span></li><li><span class='ee-k'>B2:</span><span class='ee-v'>315.5</span></li><li><span class='ee-k'>B3:</span><span class='ee-v'>425</span></li><li><span class='ee-k'>B4:</span><span class='ee-v'>273</span></li><li><span class='ee-k'>B8:</span><span class='ee-v'>1989</span></li></ul></li></ul></li><li><label class='ee-shut'>24: Feature (5 properties)<input type='checkbox' class='ee-toggle'></label><ul><li><span class='ee-k'>type:</span><span class='ee-v'>Feature</span></li><li><span class='ee-k'>id:</span><span class='ee-v'>24_0</span></li><li><span class='ee-k'>geometry:</span><span class='ee-v'>None</span></li><li><label class='ee-shut'>properties: Object (5 properties)<input type='checkbox' class='ee-toggle'></label><ul><li><span class='ee-k'>id:</span><span class='ee-v'>1</span></li><li><span class='ee-k'>B2:</span><span class='ee-v'>375.5</span></li><li><span class='ee-k'>B3:</span><span class='ee-v'>661</span></li><li><span class='ee-k'>B4:</span><span class='ee-v'>327.5</span></li><li><span class='ee-k'>B8:</span><span class='ee-v'>4672</span></li></ul></li></ul></li><li><label class='ee-shut'>25: Feature (5 properties)<input type='checkbox' class='ee-toggle'></label><ul><li><span class='ee-k'>type:</span><span class='ee-v'>Feature</span></li><li><span class='ee-k'>id:</span><span class='ee-v'>25_0</span></li><li><span class='ee-k'>geometry:</span><span class='ee-v'>None</span></li><li><label class='ee-shut'>properties: Object (5 properties)<input type='checkbox' class='ee-toggle'></label><ul><li><span class='ee-k'>id:</span><span class='ee-v'>1</span></li><li><span class='ee-k'>B2:</span><span class='ee-v'>540</span></li><li><span class='ee-k'>B3:</span><span class='ee-v'>749.5</span></li><li><span class='ee-k'>B4:</span><span class='ee-v'>537</span></li><li><span class='ee-k'>B8:</span><span class='ee-v'>3286.5</span></li></ul></li></ul></li><li><label class='ee-shut'>26: Feature (5 properties)<input type='checkbox' class='ee-toggle'></label><ul><li><span class='ee-k'>type:</span><span class='ee-v'>Feature</span></li><li><span class='ee-k'>id:</span><span class='ee-v'>26_0</span></li><li><span class='ee-k'>geometry:</span><span class='ee-v'>None</span></li><li><label class='ee-shut'>properties: Object (5 properties)<input type='checkbox' class='ee-toggle'></label><ul><li><span class='ee-k'>id:</span><span class='ee-v'>1</span></li><li><span class='ee-k'>B2:</span><span class='ee-v'>387.5</span></li><li><span class='ee-k'>B3:</span><span class='ee-v'>700.5</span></li><li><span class='ee-k'>B4:</span><span class='ee-v'>336</span></li><li><span class='ee-k'>B8:</span><span class='ee-v'>4188.5</span></li></ul></li></ul></li><li><label class='ee-shut'>27: Feature (5 properties)<input type='checkbox' class='ee-toggle'></label><ul><li><span class='ee-k'>type:</span><span class='ee-v'>Feature</span></li><li><span class='ee-k'>id:</span><span class='ee-v'>27_0</span></li><li><span class='ee-k'>geometry:</span><span class='ee-v'>None</span></li><li><label class='ee-shut'>properties: Object (5 properties)<input type='checkbox' class='ee-toggle'></label><ul><li><span class='ee-k'>id:</span><span class='ee-v'>1</span></li><li><span class='ee-k'>B2:</span><span class='ee-v'>485.5</span></li><li><span class='ee-k'>B3:</span><span class='ee-v'>769</span></li><li><span class='ee-k'>B4:</span><span class='ee-v'>458.5</span></li><li><span class='ee-k'>B8:</span><span class='ee-v'>4254.5</span></li></ul></li></ul></li><li><label class='ee-shut'>28: Feature (5 properties)<input type='checkbox' class='ee-toggle'></label><ul><li><span class='ee-k'>type:</span><span class='ee-v'>Feature</span></li><li><span class='ee-k'>id:</span><span class='ee-v'>28_0</span></li><li><span class='ee-k'>geometry:</span><span class='ee-v'>None</span></li><li><label class='ee-shut'>properties: Object (5 properties)<input type='checkbox' class='ee-toggle'></label><ul><li><span class='ee-k'>id:</span><span class='ee-v'>1</span></li><li><span class='ee-k'>B2:</span><span class='ee-v'>373.5</span></li><li><span class='ee-k'>B3:</span><span class='ee-v'>576.5</span></li><li><span class='ee-k'>B4:</span><span class='ee-v'>458</span></li><li><span class='ee-k'>B8:</span><span class='ee-v'>2743.5</span></li></ul></li></ul></li><li><label class='ee-shut'>29: Feature (5 properties)<input type='checkbox' class='ee-toggle'></label><ul><li><span class='ee-k'>type:</span><span class='ee-v'>Feature</span></li><li><span class='ee-k'>id:</span><span class='ee-v'>29_0</span></li><li><span class='ee-k'>geometry:</span><span class='ee-v'>None</span></li><li><label class='ee-shut'>properties: Object (5 properties)<input type='checkbox' class='ee-toggle'></label><ul><li><span class='ee-k'>id:</span><span class='ee-v'>2</span></li><li><span class='ee-k'>B2:</span><span class='ee-v'>946.5</span></li><li><span class='ee-k'>B3:</span><span class='ee-v'>1323.5</span></li><li><span class='ee-k'>B4:</span><span class='ee-v'>1316.5</span></li><li><span class='ee-k'>B8:</span><span class='ee-v'>3386.5</span></li></ul></li></ul></li><li><label class='ee-shut'>30: Feature (5 properties)<input type='checkbox' class='ee-toggle'></label><ul><li><span class='ee-k'>type:</span><span class='ee-v'>Feature</span></li><li><span class='ee-k'>id:</span><span class='ee-v'>30_0</span></li><li><span class='ee-k'>geometry:</span><span class='ee-v'>None</span></li><li><label class='ee-shut'>properties: Object (5 properties)<input type='checkbox' class='ee-toggle'></label><ul><li><span class='ee-k'>id:</span><span class='ee-v'>2</span></li><li><span class='ee-k'>B2:</span><span class='ee-v'>1528.5</span></li><li><span class='ee-k'>B3:</span><span class='ee-v'>1790</span></li><li><span class='ee-k'>B4:</span><span class='ee-v'>1916.5</span></li><li><span class='ee-k'>B8:</span><span class='ee-v'>2951</span></li></ul></li></ul></li><li><label class='ee-shut'>31: Feature (5 properties)<input type='checkbox' class='ee-toggle'></label><ul><li><span class='ee-k'>type:</span><span class='ee-v'>Feature</span></li><li><span class='ee-k'>id:</span><span class='ee-v'>31_0</span></li><li><span class='ee-k'>geometry:</span><span class='ee-v'>None</span></li><li><label class='ee-shut'>properties: Object (5 properties)<input type='checkbox' class='ee-toggle'></label><ul><li><span class='ee-k'>id:</span><span class='ee-v'>2</span></li><li><span class='ee-k'>B2:</span><span class='ee-v'>1548</span></li><li><span class='ee-k'>B3:</span><span class='ee-v'>1558.5</span></li><li><span class='ee-k'>B4:</span><span class='ee-v'>1620</span></li><li><span class='ee-k'>B8:</span><span class='ee-v'>1750</span></li></ul></li></ul></li><li><label class='ee-shut'>32: Feature (5 properties)<input type='checkbox' class='ee-toggle'></label><ul><li><span class='ee-k'>type:</span><span class='ee-v'>Feature</span></li><li><span class='ee-k'>id:</span><span class='ee-v'>32_0</span></li><li><span class='ee-k'>geometry:</span><span class='ee-v'>None</span></li><li><label class='ee-shut'>properties: Object (5 properties)<input type='checkbox' class='ee-toggle'></label><ul><li><span class='ee-k'>id:</span><span class='ee-v'>2</span></li><li><span class='ee-k'>B2:</span><span class='ee-v'>1111</span></li><li><span class='ee-k'>B3:</span><span class='ee-v'>1224</span></li><li><span class='ee-k'>B4:</span><span class='ee-v'>1204.5</span></li><li><span class='ee-k'>B8:</span><span class='ee-v'>1731.5</span></li></ul></li></ul></li><li><label class='ee-shut'>33: Feature (5 properties)<input type='checkbox' class='ee-toggle'></label><ul><li><span class='ee-k'>type:</span><span class='ee-v'>Feature</span></li><li><span class='ee-k'>id:</span><span class='ee-v'>33_0</span></li><li><span class='ee-k'>geometry:</span><span class='ee-v'>None</span></li><li><label class='ee-shut'>properties: Object (5 properties)<input type='checkbox' class='ee-toggle'></label><ul><li><span class='ee-k'>id:</span><span class='ee-v'>2</span></li><li><span class='ee-k'>B2:</span><span class='ee-v'>929.5</span></li><li><span class='ee-k'>B3:</span><span class='ee-v'>1094.5</span></li><li><span class='ee-k'>B4:</span><span class='ee-v'>1087.5</span></li><li><span class='ee-k'>B8:</span><span class='ee-v'>2260.5</span></li></ul></li></ul></li><li><label class='ee-shut'>34: Feature (5 properties)<input type='checkbox' class='ee-toggle'></label><ul><li><span class='ee-k'>type:</span><span class='ee-v'>Feature</span></li><li><span class='ee-k'>id:</span><span class='ee-v'>34_0</span></li><li><span class='ee-k'>geometry:</span><span class='ee-v'>None</span></li><li><label class='ee-shut'>properties: Object (5 properties)<input type='checkbox' class='ee-toggle'></label><ul><li><span class='ee-k'>id:</span><span class='ee-v'>2</span></li><li><span class='ee-k'>B2:</span><span class='ee-v'>2034</span></li><li><span class='ee-k'>B3:</span><span class='ee-v'>2232</span></li><li><span class='ee-k'>B4:</span><span class='ee-v'>2336.5</span></li><li><span class='ee-k'>B8:</span><span class='ee-v'>2580</span></li></ul></li></ul></li><li><label class='ee-shut'>35: Feature (5 properties)<input type='checkbox' class='ee-toggle'></label><ul><li><span class='ee-k'>type:</span><span class='ee-v'>Feature</span></li><li><span class='ee-k'>id:</span><span class='ee-v'>35_0</span></li><li><span class='ee-k'>geometry:</span><span class='ee-v'>None</span></li><li><label class='ee-shut'>properties: Object (5 properties)<input type='checkbox' class='ee-toggle'></label><ul><li><span class='ee-k'>id:</span><span class='ee-v'>2</span></li><li><span class='ee-k'>B2:</span><span class='ee-v'>1709.5</span></li><li><span class='ee-k'>B3:</span><span class='ee-v'>2330</span></li><li><span class='ee-k'>B4:</span><span class='ee-v'>3420.5</span></li><li><span class='ee-k'>B8:</span><span class='ee-v'>3823</span></li></ul></li></ul></li><li><label class='ee-shut'>36: Feature (5 properties)<input type='checkbox' class='ee-toggle'></label><ul><li><span class='ee-k'>type:</span><span class='ee-v'>Feature</span></li><li><span class='ee-k'>id:</span><span class='ee-v'>36_0</span></li><li><span class='ee-k'>geometry:</span><span class='ee-v'>None</span></li><li><label class='ee-shut'>properties: Object (5 properties)<input type='checkbox' class='ee-toggle'></label><ul><li><span class='ee-k'>id:</span><span class='ee-v'>2</span></li><li><span class='ee-k'>B2:</span><span class='ee-v'>453.5</span></li><li><span class='ee-k'>B3:</span><span class='ee-v'>745.5</span></li><li><span class='ee-k'>B4:</span><span class='ee-v'>1018</span></li><li><span class='ee-k'>B8:</span><span class='ee-v'>2992.5</span></li></ul></li></ul></li><li><label class='ee-shut'>37: Feature (5 properties)<input type='checkbox' class='ee-toggle'></label><ul><li><span class='ee-k'>type:</span><span class='ee-v'>Feature</span></li><li><span class='ee-k'>id:</span><span class='ee-v'>37_0</span></li><li><span class='ee-k'>geometry:</span><span class='ee-v'>None</span></li><li><label class='ee-shut'>properties: Object (5 properties)<input type='checkbox' class='ee-toggle'></label><ul><li><span class='ee-k'>id:</span><span class='ee-v'>2</span></li><li><span class='ee-k'>B2:</span><span class='ee-v'>1200</span></li><li><span class='ee-k'>B3:</span><span class='ee-v'>1417</span></li><li><span class='ee-k'>B4:</span><span class='ee-v'>1583</span></li><li><span class='ee-k'>B8:</span><span class='ee-v'>2049</span></li></ul></li></ul></li><li><label class='ee-shut'>38: Feature (5 properties)<input type='checkbox' class='ee-toggle'></label><ul><li><span class='ee-k'>type:</span><span class='ee-v'>Feature</span></li><li><span class='ee-k'>id:</span><span class='ee-v'>38_0</span></li><li><span class='ee-k'>geometry:</span><span class='ee-v'>None</span></li><li><label class='ee-shut'>properties: Object (5 properties)<input type='checkbox' class='ee-toggle'></label><ul><li><span class='ee-k'>id:</span><span class='ee-v'>2</span></li><li><span class='ee-k'>B2:</span><span class='ee-v'>803.5</span></li><li><span class='ee-k'>B3:</span><span class='ee-v'>1134.5</span></li><li><span class='ee-k'>B4:</span><span class='ee-v'>1576</span></li><li><span class='ee-k'>B8:</span><span class='ee-v'>3049.5</span></li></ul></li></ul></li><li><label class='ee-shut'>39: Feature (5 properties)<input type='checkbox' class='ee-toggle'></label><ul><li><span class='ee-k'>type:</span><span class='ee-v'>Feature</span></li><li><span class='ee-k'>id:</span><span class='ee-v'>39_0</span></li><li><span class='ee-k'>geometry:</span><span class='ee-v'>None</span></li><li><label class='ee-shut'>properties: Object (5 properties)<input type='checkbox' class='ee-toggle'></label><ul><li><span class='ee-k'>id:</span><span class='ee-v'>2</span></li><li><span class='ee-k'>B2:</span><span class='ee-v'>733</span></li><li><span class='ee-k'>B3:</span><span class='ee-v'>1177.5</span></li><li><span class='ee-k'>B4:</span><span class='ee-v'>2195</span></li><li><span class='ee-k'>B8:</span><span class='ee-v'>3605.5</span></li></ul></li></ul></li><li><label class='ee-shut'>40: Feature (5 properties)<input type='checkbox' class='ee-toggle'></label><ul><li><span class='ee-k'>type:</span><span class='ee-v'>Feature</span></li><li><span class='ee-k'>id:</span><span class='ee-v'>40_0</span></li><li><span class='ee-k'>geometry:</span><span class='ee-v'>None</span></li><li><label class='ee-shut'>properties: Object (5 properties)<input type='checkbox' class='ee-toggle'></label><ul><li><span class='ee-k'>id:</span><span class='ee-v'>2</span></li><li><span class='ee-k'>B2:</span><span class='ee-v'>942</span></li><li><span class='ee-k'>B3:</span><span class='ee-v'>1143</span></li><li><span class='ee-k'>B4:</span><span class='ee-v'>1276.5</span></li><li><span class='ee-k'>B8:</span><span class='ee-v'>2079.5</span></li></ul></li></ul></li><li><label class='ee-shut'>41: Feature (5 properties)<input type='checkbox' class='ee-toggle'></label><ul><li><span class='ee-k'>type:</span><span class='ee-v'>Feature</span></li><li><span class='ee-k'>id:</span><span class='ee-v'>41_0</span></li><li><span class='ee-k'>geometry:</span><span class='ee-v'>None</span></li><li><label class='ee-shut'>properties: Object (5 properties)<input type='checkbox' class='ee-toggle'></label><ul><li><span class='ee-k'>id:</span><span class='ee-v'>2</span></li><li><span class='ee-k'>B2:</span><span class='ee-v'>1714.5</span></li><li><span class='ee-k'>B3:</span><span class='ee-v'>2223</span></li><li><span class='ee-k'>B4:</span><span class='ee-v'>3230.5</span></li><li><span class='ee-k'>B8:</span><span class='ee-v'>3834.5</span></li></ul></li></ul></li><li><label class='ee-shut'>42: Feature (5 properties)<input type='checkbox' class='ee-toggle'></label><ul><li><span class='ee-k'>type:</span><span class='ee-v'>Feature</span></li><li><span class='ee-k'>id:</span><span class='ee-v'>42_0</span></li><li><span class='ee-k'>geometry:</span><span class='ee-v'>None</span></li><li><label class='ee-shut'>properties: Object (5 properties)<input type='checkbox' class='ee-toggle'></label><ul><li><span class='ee-k'>id:</span><span class='ee-v'>2</span></li><li><span class='ee-k'>B2:</span><span class='ee-v'>1139.5</span></li><li><span class='ee-k'>B3:</span><span class='ee-v'>1641.5</span></li><li><span class='ee-k'>B4:</span><span class='ee-v'>2190.5</span></li><li><span class='ee-k'>B8:</span><span class='ee-v'>3566</span></li></ul></li></ul></li><li><label class='ee-shut'>43: Feature (5 properties)<input type='checkbox' class='ee-toggle'></label><ul><li><span class='ee-k'>type:</span><span class='ee-v'>Feature</span></li><li><span class='ee-k'>id:</span><span class='ee-v'>43_0</span></li><li><span class='ee-k'>geometry:</span><span class='ee-v'>None</span></li><li><label class='ee-shut'>properties: Object (5 properties)<input type='checkbox' class='ee-toggle'></label><ul><li><span class='ee-k'>id:</span><span class='ee-v'>2</span></li><li><span class='ee-k'>B2:</span><span class='ee-v'>1015</span></li><li><span class='ee-k'>B3:</span><span class='ee-v'>1523.5</span></li><li><span class='ee-k'>B4:</span><span class='ee-v'>2293</span></li><li><span class='ee-k'>B8:</span><span class='ee-v'>2912.5</span></li></ul></li></ul></li><li><label class='ee-shut'>44: Feature (5 properties)<input type='checkbox' class='ee-toggle'></label><ul><li><span class='ee-k'>type:</span><span class='ee-v'>Feature</span></li><li><span class='ee-k'>id:</span><span class='ee-v'>44_0</span></li><li><span class='ee-k'>geometry:</span><span class='ee-v'>None</span></li><li><label class='ee-shut'>properties: Object (5 properties)<input type='checkbox' class='ee-toggle'></label><ul><li><span class='ee-k'>id:</span><span class='ee-v'>2</span></li><li><span class='ee-k'>B2:</span><span class='ee-v'>1144</span></li><li><span class='ee-k'>B3:</span><span class='ee-v'>1444.5</span></li><li><span class='ee-k'>B4:</span><span class='ee-v'>1587</span></li><li><span class='ee-k'>B8:</span><span class='ee-v'>3061.5</span></li></ul></li></ul></li><li><label class='ee-shut'>45: Feature (5 properties)<input type='checkbox' class='ee-toggle'></label><ul><li><span class='ee-k'>type:</span><span class='ee-v'>Feature</span></li><li><span class='ee-k'>id:</span><span class='ee-v'>45_0</span></li><li><span class='ee-k'>geometry:</span><span class='ee-v'>None</span></li><li><label class='ee-shut'>properties: Object (5 properties)<input type='checkbox' class='ee-toggle'></label><ul><li><span class='ee-k'>id:</span><span class='ee-v'>2</span></li><li><span class='ee-k'>B2:</span><span class='ee-v'>859.5</span></li><li><span class='ee-k'>B3:</span><span class='ee-v'>1280.5</span></li><li><span class='ee-k'>B4:</span><span class='ee-v'>1417.5</span></li><li><span class='ee-k'>B8:</span><span class='ee-v'>2957</span></li></ul></li></ul></li><li><label class='ee-shut'>46: Feature (5 properties)<input type='checkbox' class='ee-toggle'></label><ul><li><span class='ee-k'>type:</span><span class='ee-v'>Feature</span></li><li><span class='ee-k'>id:</span><span class='ee-v'>46_0</span></li><li><span class='ee-k'>geometry:</span><span class='ee-v'>None</span></li><li><label class='ee-shut'>properties: Object (5 properties)<input type='checkbox' class='ee-toggle'></label><ul><li><span class='ee-k'>id:</span><span class='ee-v'>2</span></li><li><span class='ee-k'>B2:</span><span class='ee-v'>875</span></li><li><span class='ee-k'>B3:</span><span class='ee-v'>1172</span></li><li><span class='ee-k'>B4:</span><span class='ee-v'>1549.5</span></li><li><span class='ee-k'>B8:</span><span class='ee-v'>2653.5</span></li></ul></li></ul></li><li><label class='ee-shut'>47: Feature (5 properties)<input type='checkbox' class='ee-toggle'></label><ul><li><span class='ee-k'>type:</span><span class='ee-v'>Feature</span></li><li><span class='ee-k'>id:</span><span class='ee-v'>47_0</span></li><li><span class='ee-k'>geometry:</span><span class='ee-v'>None</span></li><li><label class='ee-shut'>properties: Object (5 properties)<input type='checkbox' class='ee-toggle'></label><ul><li><span class='ee-k'>id:</span><span class='ee-v'>2</span></li><li><span class='ee-k'>B2:</span><span class='ee-v'>1323.5</span></li><li><span class='ee-k'>B3:</span><span class='ee-v'>1654</span></li><li><span class='ee-k'>B4:</span><span class='ee-v'>1671.5</span></li><li><span class='ee-k'>B8:</span><span class='ee-v'>3003.5</span></li></ul></li></ul></li><li><label class='ee-shut'>48: Feature (5 properties)<input type='checkbox' class='ee-toggle'></label><ul><li><span class='ee-k'>type:</span><span class='ee-v'>Feature</span></li><li><span class='ee-k'>id:</span><span class='ee-v'>48_0</span></li><li><span class='ee-k'>geometry:</span><span class='ee-v'>None</span></li><li><label class='ee-shut'>properties: Object (5 properties)<input type='checkbox' class='ee-toggle'></label><ul><li><span class='ee-k'>id:</span><span class='ee-v'>2</span></li><li><span class='ee-k'>B2:</span><span class='ee-v'>2759.5</span></li><li><span class='ee-k'>B3:</span><span class='ee-v'>2998.5</span></li><li><span class='ee-k'>B4:</span><span class='ee-v'>2726.5</span></li><li><span class='ee-k'>B8:</span><span class='ee-v'>3861.5</span></li></ul></li></ul></li><li><label class='ee-shut'>49: Feature (5 properties)<input type='checkbox' class='ee-toggle'></label><ul><li><span class='ee-k'>type:</span><span class='ee-v'>Feature</span></li><li><span class='ee-k'>id:</span><span class='ee-v'>49_0</span></li><li><span class='ee-k'>geometry:</span><span class='ee-v'>None</span></li><li><label class='ee-shut'>properties: Object (5 properties)<input type='checkbox' class='ee-toggle'></label><ul><li><span class='ee-k'>id:</span><span class='ee-v'>2</span></li><li><span class='ee-k'>B2:</span><span class='ee-v'>1312</span></li><li><span class='ee-k'>B3:</span><span class='ee-v'>1575.5</span></li><li><span class='ee-k'>B4:</span><span class='ee-v'>1642</span></li><li><span class='ee-k'>B8:</span><span class='ee-v'>2837</span></li></ul></li></ul></li><li><label class='ee-shut'>50: Feature (5 properties)<input type='checkbox' class='ee-toggle'></label><ul><li><span class='ee-k'>type:</span><span class='ee-v'>Feature</span></li><li><span class='ee-k'>id:</span><span class='ee-v'>50_0</span></li><li><span class='ee-k'>geometry:</span><span class='ee-v'>None</span></li><li><label class='ee-shut'>properties: Object (5 properties)<input type='checkbox' class='ee-toggle'></label><ul><li><span class='ee-k'>id:</span><span class='ee-v'>2</span></li><li><span class='ee-k'>B2:</span><span class='ee-v'>2533</span></li><li><span class='ee-k'>B3:</span><span class='ee-v'>2677</span></li><li><span class='ee-k'>B4:</span><span class='ee-v'>2644.5</span></li><li><span class='ee-k'>B8:</span><span class='ee-v'>2942.5</span></li></ul></li></ul></li><li><label class='ee-shut'>51: Feature (5 properties)<input type='checkbox' class='ee-toggle'></label><ul><li><span class='ee-k'>type:</span><span class='ee-v'>Feature</span></li><li><span class='ee-k'>id:</span><span class='ee-v'>51_0</span></li><li><span class='ee-k'>geometry:</span><span class='ee-v'>None</span></li><li><label class='ee-shut'>properties: Object (5 properties)<input type='checkbox' class='ee-toggle'></label><ul><li><span class='ee-k'>id:</span><span class='ee-v'>2</span></li><li><span class='ee-k'>B2:</span><span class='ee-v'>1691.5</span></li><li><span class='ee-k'>B3:</span><span class='ee-v'>2534.5</span></li><li><span class='ee-k'>B4:</span><span class='ee-v'>3293</span></li><li><span class='ee-k'>B8:</span><span class='ee-v'>3793</span></li></ul></li></ul></li><li><label class='ee-shut'>52: Feature (5 properties)<input type='checkbox' class='ee-toggle'></label><ul><li><span class='ee-k'>type:</span><span class='ee-v'>Feature</span></li><li><span class='ee-k'>id:</span><span class='ee-v'>52_0</span></li><li><span class='ee-k'>geometry:</span><span class='ee-v'>None</span></li><li><label class='ee-shut'>properties: Object (5 properties)<input type='checkbox' class='ee-toggle'></label><ul><li><span class='ee-k'>id:</span><span class='ee-v'>2</span></li><li><span class='ee-k'>B2:</span><span class='ee-v'>1259.5</span></li><li><span class='ee-k'>B3:</span><span class='ee-v'>1593</span></li><li><span class='ee-k'>B4:</span><span class='ee-v'>1803</span></li><li><span class='ee-k'>B8:</span><span class='ee-v'>2476.5</span></li></ul></li></ul></li><li><label class='ee-shut'>53: Feature (5 properties)<input type='checkbox' class='ee-toggle'></label><ul><li><span class='ee-k'>type:</span><span class='ee-v'>Feature</span></li><li><span class='ee-k'>id:</span><span class='ee-v'>53_0</span></li><li><span class='ee-k'>geometry:</span><span class='ee-v'>None</span></li><li><label class='ee-shut'>properties: Object (5 properties)<input type='checkbox' class='ee-toggle'></label><ul><li><span class='ee-k'>id:</span><span class='ee-v'>2</span></li><li><span class='ee-k'>B2:</span><span class='ee-v'>1927.5</span></li><li><span class='ee-k'>B3:</span><span class='ee-v'>2502.5</span></li><li><span class='ee-k'>B4:</span><span class='ee-v'>2897</span></li><li><span class='ee-k'>B8:</span><span class='ee-v'>3005</span></li></ul></li></ul></li><li><label class='ee-shut'>54: Feature (5 properties)<input type='checkbox' class='ee-toggle'></label><ul><li><span class='ee-k'>type:</span><span class='ee-v'>Feature</span></li><li><span class='ee-k'>id:</span><span class='ee-v'>54_0</span></li><li><span class='ee-k'>geometry:</span><span class='ee-v'>None</span></li><li><label class='ee-shut'>properties: Object (5 properties)<input type='checkbox' class='ee-toggle'></label><ul><li><span class='ee-k'>id:</span><span class='ee-v'>2</span></li><li><span class='ee-k'>B2:</span><span class='ee-v'>670</span></li><li><span class='ee-k'>B3:</span><span class='ee-v'>894</span></li><li><span class='ee-k'>B4:</span><span class='ee-v'>904.5</span></li><li><span class='ee-k'>B8:</span><span class='ee-v'>2602</span></li></ul></li></ul></li><li><label class='ee-shut'>55: Feature (5 properties)<input type='checkbox' class='ee-toggle'></label><ul><li><span class='ee-k'>type:</span><span class='ee-v'>Feature</span></li><li><span class='ee-k'>id:</span><span class='ee-v'>55_0</span></li><li><span class='ee-k'>geometry:</span><span class='ee-v'>None</span></li><li><label class='ee-shut'>properties: Object (5 properties)<input type='checkbox' class='ee-toggle'></label><ul><li><span class='ee-k'>id:</span><span class='ee-v'>2</span></li><li><span class='ee-k'>B2:</span><span class='ee-v'>935</span></li><li><span class='ee-k'>B3:</span><span class='ee-v'>1180</span></li><li><span class='ee-k'>B4:</span><span class='ee-v'>1219</span></li><li><span class='ee-k'>B8:</span><span class='ee-v'>2588</span></li></ul></li></ul></li><li><label class='ee-shut'>56: Feature (5 properties)<input type='checkbox' class='ee-toggle'></label><ul><li><span class='ee-k'>type:</span><span class='ee-v'>Feature</span></li><li><span class='ee-k'>id:</span><span class='ee-v'>56_0</span></li><li><span class='ee-k'>geometry:</span><span class='ee-v'>None</span></li><li><label class='ee-shut'>properties: Object (5 properties)<input type='checkbox' class='ee-toggle'></label><ul><li><span class='ee-k'>id:</span><span class='ee-v'>2</span></li><li><span class='ee-k'>B2:</span><span class='ee-v'>1385.5</span></li><li><span class='ee-k'>B3:</span><span class='ee-v'>1500.5</span></li><li><span class='ee-k'>B4:</span><span class='ee-v'>1675</span></li><li><span class='ee-k'>B8:</span><span class='ee-v'>2083</span></li></ul></li></ul></li><li><label class='ee-shut'>57: Feature (5 properties)<input type='checkbox' class='ee-toggle'></label><ul><li><span class='ee-k'>type:</span><span class='ee-v'>Feature</span></li><li><span class='ee-k'>id:</span><span class='ee-v'>57_0</span></li><li><span class='ee-k'>geometry:</span><span class='ee-v'>None</span></li><li><label class='ee-shut'>properties: Object (5 properties)<input type='checkbox' class='ee-toggle'></label><ul><li><span class='ee-k'>id:</span><span class='ee-v'>2</span></li><li><span class='ee-k'>B2:</span><span class='ee-v'>2183.5</span></li><li><span class='ee-k'>B3:</span><span class='ee-v'>2958</span></li><li><span class='ee-k'>B4:</span><span class='ee-v'>3767</span></li><li><span class='ee-k'>B8:</span><span class='ee-v'>4358</span></li></ul></li></ul></li><li><label class='ee-shut'>58: Feature (5 properties)<input type='checkbox' class='ee-toggle'></label><ul><li><span class='ee-k'>type:</span><span class='ee-v'>Feature</span></li><li><span class='ee-k'>id:</span><span class='ee-v'>58_0</span></li><li><span class='ee-k'>geometry:</span><span class='ee-v'>None</span></li><li><label class='ee-shut'>properties: Object (5 properties)<input type='checkbox' class='ee-toggle'></label><ul><li><span class='ee-k'>id:</span><span class='ee-v'>2</span></li><li><span class='ee-k'>B2:</span><span class='ee-v'>2260.5</span></li><li><span class='ee-k'>B3:</span><span class='ee-v'>2971</span></li><li><span class='ee-k'>B4:</span><span class='ee-v'>3310.5</span></li><li><span class='ee-k'>B8:</span><span class='ee-v'>3812</span></li></ul></li></ul></li><li><label class='ee-shut'>59: Feature (5 properties)<input type='checkbox' class='ee-toggle'></label><ul><li><span class='ee-k'>type:</span><span class='ee-v'>Feature</span></li><li><span class='ee-k'>id:</span><span class='ee-v'>59_0</span></li><li><span class='ee-k'>geometry:</span><span class='ee-v'>None</span></li><li><label class='ee-shut'>properties: Object (5 properties)<input type='checkbox' class='ee-toggle'></label><ul><li><span class='ee-k'>id:</span><span class='ee-v'>2</span></li><li><span class='ee-k'>B2:</span><span class='ee-v'>986</span></li><li><span class='ee-k'>B3:</span><span class='ee-v'>1159.5</span></li><li><span class='ee-k'>B4:</span><span class='ee-v'>1343.5</span></li><li><span class='ee-k'>B8:</span><span class='ee-v'>1590.5</span></li></ul></li></ul></li><li><label class='ee-shut'>60: Feature (5 properties)<input type='checkbox' class='ee-toggle'></label><ul><li><span class='ee-k'>type:</span><span class='ee-v'>Feature</span></li><li><span class='ee-k'>id:</span><span class='ee-v'>60_0</span></li><li><span class='ee-k'>geometry:</span><span class='ee-v'>None</span></li><li><label class='ee-shut'>properties: Object (5 properties)<input type='checkbox' class='ee-toggle'></label><ul><li><span class='ee-k'>id:</span><span class='ee-v'>2</span></li><li><span class='ee-k'>B2:</span><span class='ee-v'>3464</span></li><li><span class='ee-k'>B3:</span><span class='ee-v'>3690.5</span></li><li><span class='ee-k'>B4:</span><span class='ee-v'>3715</span></li><li><span class='ee-k'>B8:</span><span class='ee-v'>3896</span></li></ul></li></ul></li><li><label class='ee-shut'>61: Feature (5 properties)<input type='checkbox' class='ee-toggle'></label><ul><li><span class='ee-k'>type:</span><span class='ee-v'>Feature</span></li><li><span class='ee-k'>id:</span><span class='ee-v'>61_0</span></li><li><span class='ee-k'>geometry:</span><span class='ee-v'>None</span></li><li><label class='ee-shut'>properties: Object (5 properties)<input type='checkbox' class='ee-toggle'></label><ul><li><span class='ee-k'>id:</span><span class='ee-v'>2</span></li><li><span class='ee-k'>B2:</span><span class='ee-v'>928</span></li><li><span class='ee-k'>B3:</span><span class='ee-v'>1240</span></li><li><span class='ee-k'>B4:</span><span class='ee-v'>1274.5</span></li><li><span class='ee-k'>B8:</span><span class='ee-v'>3482.5</span></li></ul></li></ul></li><li><label class='ee-shut'>62: Feature (5 properties)<input type='checkbox' class='ee-toggle'></label><ul><li><span class='ee-k'>type:</span><span class='ee-v'>Feature</span></li><li><span class='ee-k'>id:</span><span class='ee-v'>62_0</span></li><li><span class='ee-k'>geometry:</span><span class='ee-v'>None</span></li><li><label class='ee-shut'>properties: Object (5 properties)<input type='checkbox' class='ee-toggle'></label><ul><li><span class='ee-k'>id:</span><span class='ee-v'>2</span></li><li><span class='ee-k'>B2:</span><span class='ee-v'>1378</span></li><li><span class='ee-k'>B3:</span><span class='ee-v'>1567</span></li><li><span class='ee-k'>B4:</span><span class='ee-v'>1728.5</span></li><li><span class='ee-k'>B8:</span><span class='ee-v'>2086</span></li></ul></li></ul></li><li><label class='ee-shut'>63: Feature (5 properties)<input type='checkbox' class='ee-toggle'></label><ul><li><span class='ee-k'>type:</span><span class='ee-v'>Feature</span></li><li><span class='ee-k'>id:</span><span class='ee-v'>63_0</span></li><li><span class='ee-k'>geometry:</span><span class='ee-v'>None</span></li><li><label class='ee-shut'>properties: Object (5 properties)<input type='checkbox' class='ee-toggle'></label><ul><li><span class='ee-k'>id:</span><span class='ee-v'>2</span></li><li><span class='ee-k'>B2:</span><span class='ee-v'>1941.5</span></li><li><span class='ee-k'>B3:</span><span class='ee-v'>2195</span></li><li><span class='ee-k'>B4:</span><span class='ee-v'>2413</span></li><li><span class='ee-k'>B8:</span><span class='ee-v'>2634</span></li></ul></li></ul></li><li><label class='ee-shut'>64: Feature (5 properties)<input type='checkbox' class='ee-toggle'></label><ul><li><span class='ee-k'>type:</span><span class='ee-v'>Feature</span></li><li><span class='ee-k'>id:</span><span class='ee-v'>64_0</span></li><li><span class='ee-k'>geometry:</span><span class='ee-v'>None</span></li><li><label class='ee-shut'>properties: Object (5 properties)<input type='checkbox' class='ee-toggle'></label><ul><li><span class='ee-k'>id:</span><span class='ee-v'>2</span></li><li><span class='ee-k'>B2:</span><span class='ee-v'>827</span></li><li><span class='ee-k'>B3:</span><span class='ee-v'>1024.5</span></li><li><span class='ee-k'>B4:</span><span class='ee-v'>1987</span></li><li><span class='ee-k'>B8:</span><span class='ee-v'>2552</span></li></ul></li></ul></li><li><label class='ee-shut'>65: Feature (5 properties)<input type='checkbox' class='ee-toggle'></label><ul><li><span class='ee-k'>type:</span><span class='ee-v'>Feature</span></li><li><span class='ee-k'>id:</span><span class='ee-v'>65_0</span></li><li><span class='ee-k'>geometry:</span><span class='ee-v'>None</span></li><li><label class='ee-shut'>properties: Object (5 properties)<input type='checkbox' class='ee-toggle'></label><ul><li><span class='ee-k'>id:</span><span class='ee-v'>2</span></li><li><span class='ee-k'>B2:</span><span class='ee-v'>669</span></li><li><span class='ee-k'>B3:</span><span class='ee-v'>1024.5</span></li><li><span class='ee-k'>B4:</span><span class='ee-v'>1838</span></li><li><span class='ee-k'>B8:</span><span class='ee-v'>2832.5</span></li></ul></li></ul></li><li><label class='ee-shut'>66: Feature (5 properties)<input type='checkbox' class='ee-toggle'></label><ul><li><span class='ee-k'>type:</span><span class='ee-v'>Feature</span></li><li><span class='ee-k'>id:</span><span class='ee-v'>66_0</span></li><li><span class='ee-k'>geometry:</span><span class='ee-v'>None</span></li><li><label class='ee-shut'>properties: Object (5 properties)<input type='checkbox' class='ee-toggle'></label><ul><li><span class='ee-k'>id:</span><span class='ee-v'>2</span></li><li><span class='ee-k'>B2:</span><span class='ee-v'>1206.5</span></li><li><span class='ee-k'>B3:</span><span class='ee-v'>1524.5</span></li><li><span class='ee-k'>B4:</span><span class='ee-v'>1866.5</span></li><li><span class='ee-k'>B8:</span><span class='ee-v'>2356</span></li></ul></li></ul></li><li><label class='ee-shut'>67: Feature (5 properties)<input type='checkbox' class='ee-toggle'></label><ul><li><span class='ee-k'>type:</span><span class='ee-v'>Feature</span></li><li><span class='ee-k'>id:</span><span class='ee-v'>67_0</span></li><li><span class='ee-k'>geometry:</span><span class='ee-v'>None</span></li><li><label class='ee-shut'>properties: Object (5 properties)<input type='checkbox' class='ee-toggle'></label><ul><li><span class='ee-k'>id:</span><span class='ee-v'>2</span></li><li><span class='ee-k'>B2:</span><span class='ee-v'>1448.5</span></li><li><span class='ee-k'>B3:</span><span class='ee-v'>1710</span></li><li><span class='ee-k'>B4:</span><span class='ee-v'>1285.5</span></li><li><span class='ee-k'>B8:</span><span class='ee-v'>1338</span></li></ul></li></ul></li><li><label class='ee-shut'>68: Feature (5 properties)<input type='checkbox' class='ee-toggle'></label><ul><li><span class='ee-k'>type:</span><span class='ee-v'>Feature</span></li><li><span class='ee-k'>id:</span><span class='ee-v'>68_0</span></li><li><span class='ee-k'>geometry:</span><span class='ee-v'>None</span></li><li><label class='ee-shut'>properties: Object (5 properties)<input type='checkbox' class='ee-toggle'></label><ul><li><span class='ee-k'>id:</span><span class='ee-v'>2</span></li><li><span class='ee-k'>B2:</span><span class='ee-v'>1117</span></li><li><span class='ee-k'>B3:</span><span class='ee-v'>1293</span></li><li><span class='ee-k'>B4:</span><span class='ee-v'>1374.5</span></li><li><span class='ee-k'>B8:</span><span class='ee-v'>1939.5</span></li></ul></li></ul></li><li><label class='ee-shut'>69: Feature (5 properties)<input type='checkbox' class='ee-toggle'></label><ul><li><span class='ee-k'>type:</span><span class='ee-v'>Feature</span></li><li><span class='ee-k'>id:</span><span class='ee-v'>69_0</span></li><li><span class='ee-k'>geometry:</span><span class='ee-v'>None</span></li><li><label class='ee-shut'>properties: Object (5 properties)<input type='checkbox' class='ee-toggle'></label><ul><li><span class='ee-k'>id:</span><span class='ee-v'>2</span></li><li><span class='ee-k'>B2:</span><span class='ee-v'>2308</span></li><li><span class='ee-k'>B3:</span><span class='ee-v'>1838</span></li><li><span class='ee-k'>B4:</span><span class='ee-v'>1920</span></li><li><span class='ee-k'>B8:</span><span class='ee-v'>2748.5</span></li></ul></li></ul></li><li><label class='ee-shut'>70: Feature (5 properties)<input type='checkbox' class='ee-toggle'></label><ul><li><span class='ee-k'>type:</span><span class='ee-v'>Feature</span></li><li><span class='ee-k'>id:</span><span class='ee-v'>70_0</span></li><li><span class='ee-k'>geometry:</span><span class='ee-v'>None</span></li><li><label class='ee-shut'>properties: Object (5 properties)<input type='checkbox' class='ee-toggle'></label><ul><li><span class='ee-k'>id:</span><span class='ee-v'>2</span></li><li><span class='ee-k'>B2:</span><span class='ee-v'>3367.5</span></li><li><span class='ee-k'>B3:</span><span class='ee-v'>3705</span></li><li><span class='ee-k'>B4:</span><span class='ee-v'>3842.5</span></li><li><span class='ee-k'>B8:</span><span class='ee-v'>4213</span></li></ul></li></ul></li><li><label class='ee-shut'>71: Feature (5 properties)<input type='checkbox' class='ee-toggle'></label><ul><li><span class='ee-k'>type:</span><span class='ee-v'>Feature</span></li><li><span class='ee-k'>id:</span><span class='ee-v'>71_0</span></li><li><span class='ee-k'>geometry:</span><span class='ee-v'>None</span></li><li><label class='ee-shut'>properties: Object (5 properties)<input type='checkbox' class='ee-toggle'></label><ul><li><span class='ee-k'>id:</span><span class='ee-v'>2</span></li><li><span class='ee-k'>B2:</span><span class='ee-v'>1623.5</span></li><li><span class='ee-k'>B3:</span><span class='ee-v'>2052.5</span></li><li><span class='ee-k'>B4:</span><span class='ee-v'>2295</span></li><li><span class='ee-k'>B8:</span><span class='ee-v'>3029.5</span></li></ul></li></ul></li><li><label class='ee-shut'>72: Feature (5 properties)<input type='checkbox' class='ee-toggle'></label><ul><li><span class='ee-k'>type:</span><span class='ee-v'>Feature</span></li><li><span class='ee-k'>id:</span><span class='ee-v'>72_0</span></li><li><span class='ee-k'>geometry:</span><span class='ee-v'>None</span></li><li><label class='ee-shut'>properties: Object (5 properties)<input type='checkbox' class='ee-toggle'></label><ul><li><span class='ee-k'>id:</span><span class='ee-v'>2</span></li><li><span class='ee-k'>B2:</span><span class='ee-v'>985</span></li><li><span class='ee-k'>B3:</span><span class='ee-v'>1234.5</span></li><li><span class='ee-k'>B4:</span><span class='ee-v'>1307.5</span></li><li><span class='ee-k'>B8:</span><span class='ee-v'>2326.5</span></li></ul></li></ul></li><li><label class='ee-shut'>73: Feature (5 properties)<input type='checkbox' class='ee-toggle'></label><ul><li><span class='ee-k'>type:</span><span class='ee-v'>Feature</span></li><li><span class='ee-k'>id:</span><span class='ee-v'>73_0</span></li><li><span class='ee-k'>geometry:</span><span class='ee-v'>None</span></li><li><label class='ee-shut'>properties: Object (5 properties)<input type='checkbox' class='ee-toggle'></label><ul><li><span class='ee-k'>id:</span><span class='ee-v'>2</span></li><li><span class='ee-k'>B2:</span><span class='ee-v'>973</span></li><li><span class='ee-k'>B3:</span><span class='ee-v'>1143.5</span></li><li><span class='ee-k'>B4:</span><span class='ee-v'>1191</span></li><li><span class='ee-k'>B8:</span><span class='ee-v'>2340</span></li></ul></li></ul></li><li><label class='ee-shut'>74: Feature (5 properties)<input type='checkbox' class='ee-toggle'></label><ul><li><span class='ee-k'>type:</span><span class='ee-v'>Feature</span></li><li><span class='ee-k'>id:</span><span class='ee-v'>74_0</span></li><li><span class='ee-k'>geometry:</span><span class='ee-v'>None</span></li><li><label class='ee-shut'>properties: Object (5 properties)<input type='checkbox' class='ee-toggle'></label><ul><li><span class='ee-k'>id:</span><span class='ee-v'>2</span></li><li><span class='ee-k'>B2:</span><span class='ee-v'>941.5</span></li><li><span class='ee-k'>B3:</span><span class='ee-v'>1177.5</span></li><li><span class='ee-k'>B4:</span><span class='ee-v'>1224.5</span></li><li><span class='ee-k'>B8:</span><span class='ee-v'>2452</span></li></ul></li></ul></li><li><label class='ee-shut'>75: Feature (5 properties)<input type='checkbox' class='ee-toggle'></label><ul><li><span class='ee-k'>type:</span><span class='ee-v'>Feature</span></li><li><span class='ee-k'>id:</span><span class='ee-v'>75_0</span></li><li><span class='ee-k'>geometry:</span><span class='ee-v'>None</span></li><li><label class='ee-shut'>properties: Object (5 properties)<input type='checkbox' class='ee-toggle'></label><ul><li><span class='ee-k'>id:</span><span class='ee-v'>2</span></li><li><span class='ee-k'>B2:</span><span class='ee-v'>1274</span></li><li><span class='ee-k'>B3:</span><span class='ee-v'>1429.5</span></li><li><span class='ee-k'>B4:</span><span class='ee-v'>1620.5</span></li><li><span class='ee-k'>B8:</span><span class='ee-v'>2225.5</span></li></ul></li></ul></li><li><label class='ee-shut'>76: Feature (5 properties)<input type='checkbox' class='ee-toggle'></label><ul><li><span class='ee-k'>type:</span><span class='ee-v'>Feature</span></li><li><span class='ee-k'>id:</span><span class='ee-v'>76_0</span></li><li><span class='ee-k'>geometry:</span><span class='ee-v'>None</span></li><li><label class='ee-shut'>properties: Object (5 properties)<input type='checkbox' class='ee-toggle'></label><ul><li><span class='ee-k'>id:</span><span class='ee-v'>2</span></li><li><span class='ee-k'>B2:</span><span class='ee-v'>1557.5</span></li><li><span class='ee-k'>B3:</span><span class='ee-v'>1780</span></li><li><span class='ee-k'>B4:</span><span class='ee-v'>1885</span></li><li><span class='ee-k'>B8:</span><span class='ee-v'>2562</span></li></ul></li></ul></li><li><label class='ee-shut'>77: Feature (5 properties)<input type='checkbox' class='ee-toggle'></label><ul><li><span class='ee-k'>type:</span><span class='ee-v'>Feature</span></li><li><span class='ee-k'>id:</span><span class='ee-v'>77_0</span></li><li><span class='ee-k'>geometry:</span><span class='ee-v'>None</span></li><li><label class='ee-shut'>properties: Object (5 properties)<input type='checkbox' class='ee-toggle'></label><ul><li><span class='ee-k'>id:</span><span class='ee-v'>2</span></li><li><span class='ee-k'>B2:</span><span class='ee-v'>1095.5</span></li><li><span class='ee-k'>B3:</span><span class='ee-v'>1195.5</span></li><li><span class='ee-k'>B4:</span><span class='ee-v'>1257.5</span></li><li><span class='ee-k'>B8:</span><span class='ee-v'>1680.5</span></li></ul></li></ul></li><li><label class='ee-shut'>78: Feature (5 properties)<input type='checkbox' class='ee-toggle'></label><ul><li><span class='ee-k'>type:</span><span class='ee-v'>Feature</span></li><li><span class='ee-k'>id:</span><span class='ee-v'>78_0</span></li><li><span class='ee-k'>geometry:</span><span class='ee-v'>None</span></li><li><label class='ee-shut'>properties: Object (5 properties)<input type='checkbox' class='ee-toggle'></label><ul><li><span class='ee-k'>id:</span><span class='ee-v'>2</span></li><li><span class='ee-k'>B2:</span><span class='ee-v'>673.5</span></li><li><span class='ee-k'>B3:</span><span class='ee-v'>834</span></li><li><span class='ee-k'>B4:</span><span class='ee-v'>976</span></li><li><span class='ee-k'>B8:</span><span class='ee-v'>2926</span></li></ul></li></ul></li><li><label class='ee-shut'>79: Feature (5 properties)<input type='checkbox' class='ee-toggle'></label><ul><li><span class='ee-k'>type:</span><span class='ee-v'>Feature</span></li><li><span class='ee-k'>id:</span><span class='ee-v'>79_0</span></li><li><span class='ee-k'>geometry:</span><span class='ee-v'>None</span></li><li><label class='ee-shut'>properties: Object (5 properties)<input type='checkbox' class='ee-toggle'></label><ul><li><span class='ee-k'>id:</span><span class='ee-v'>2</span></li><li><span class='ee-k'>B2:</span><span class='ee-v'>816.5</span></li><li><span class='ee-k'>B3:</span><span class='ee-v'>1088.5</span></li><li><span class='ee-k'>B4:</span><span class='ee-v'>1381</span></li><li><span class='ee-k'>B8:</span><span class='ee-v'>3224</span></li></ul></li></ul></li><li><label class='ee-shut'>80: Feature (5 properties)<input type='checkbox' class='ee-toggle'></label><ul><li><span class='ee-k'>type:</span><span class='ee-v'>Feature</span></li><li><span class='ee-k'>id:</span><span class='ee-v'>80_0</span></li><li><span class='ee-k'>geometry:</span><span class='ee-v'>None</span></li><li><label class='ee-shut'>properties: Object (5 properties)<input type='checkbox' class='ee-toggle'></label><ul><li><span class='ee-k'>id:</span><span class='ee-v'>2</span></li><li><span class='ee-k'>B2:</span><span class='ee-v'>1338.5</span></li><li><span class='ee-k'>B3:</span><span class='ee-v'>1631.5</span></li><li><span class='ee-k'>B4:</span><span class='ee-v'>1888</span></li><li><span class='ee-k'>B8:</span><span class='ee-v'>3712</span></li></ul></li></ul></li><li><label class='ee-shut'>81: Feature (5 properties)<input type='checkbox' class='ee-toggle'></label><ul><li><span class='ee-k'>type:</span><span class='ee-v'>Feature</span></li><li><span class='ee-k'>id:</span><span class='ee-v'>81_0</span></li><li><span class='ee-k'>geometry:</span><span class='ee-v'>None</span></li><li><label class='ee-shut'>properties: Object (5 properties)<input type='checkbox' class='ee-toggle'></label><ul><li><span class='ee-k'>id:</span><span class='ee-v'>2</span></li><li><span class='ee-k'>B2:</span><span class='ee-v'>1206</span></li><li><span class='ee-k'>B3:</span><span class='ee-v'>1603</span></li><li><span class='ee-k'>B4:</span><span class='ee-v'>1736.5</span></li><li><span class='ee-k'>B8:</span><span class='ee-v'>3386.5</span></li></ul></li></ul></li><li><label class='ee-shut'>82: Feature (5 properties)<input type='checkbox' class='ee-toggle'></label><ul><li><span class='ee-k'>type:</span><span class='ee-v'>Feature</span></li><li><span class='ee-k'>id:</span><span class='ee-v'>82_0</span></li><li><span class='ee-k'>geometry:</span><span class='ee-v'>None</span></li><li><label class='ee-shut'>properties: Object (5 properties)<input type='checkbox' class='ee-toggle'></label><ul><li><span class='ee-k'>id:</span><span class='ee-v'>2</span></li><li><span class='ee-k'>B2:</span><span class='ee-v'>590</span></li><li><span class='ee-k'>B3:</span><span class='ee-v'>946.5</span></li><li><span class='ee-k'>B4:</span><span class='ee-v'>1755</span></li><li><span class='ee-k'>B8:</span><span class='ee-v'>2548.5</span></li></ul></li></ul></li><li><label class='ee-shut'>83: Feature (5 properties)<input type='checkbox' class='ee-toggle'></label><ul><li><span class='ee-k'>type:</span><span class='ee-v'>Feature</span></li><li><span class='ee-k'>id:</span><span class='ee-v'>83_0</span></li><li><span class='ee-k'>geometry:</span><span class='ee-v'>None</span></li><li><label class='ee-shut'>properties: Object (5 properties)<input type='checkbox' class='ee-toggle'></label><ul><li><span class='ee-k'>id:</span><span class='ee-v'>2</span></li><li><span class='ee-k'>B2:</span><span class='ee-v'>1184.5</span></li><li><span class='ee-k'>B3:</span><span class='ee-v'>1455.5</span></li><li><span class='ee-k'>B4:</span><span class='ee-v'>1705</span></li><li><span class='ee-k'>B8:</span><span class='ee-v'>2524.5</span></li></ul></li></ul></li><li><label class='ee-shut'>84: Feature (5 properties)<input type='checkbox' class='ee-toggle'></label><ul><li><span class='ee-k'>type:</span><span class='ee-v'>Feature</span></li><li><span class='ee-k'>id:</span><span class='ee-v'>84_0</span></li><li><span class='ee-k'>geometry:</span><span class='ee-v'>None</span></li><li><label class='ee-shut'>properties: Object (5 properties)<input type='checkbox' class='ee-toggle'></label><ul><li><span class='ee-k'>id:</span><span class='ee-v'>2</span></li><li><span class='ee-k'>B2:</span><span class='ee-v'>1248</span></li><li><span class='ee-k'>B3:</span><span class='ee-v'>1500</span></li><li><span class='ee-k'>B4:</span><span class='ee-v'>1638</span></li><li><span class='ee-k'>B8:</span><span class='ee-v'>2574.5</span></li></ul></li></ul></li><li><label class='ee-shut'>85: Feature (5 properties)<input type='checkbox' class='ee-toggle'></label><ul><li><span class='ee-k'>type:</span><span class='ee-v'>Feature</span></li><li><span class='ee-k'>id:</span><span class='ee-v'>85_0</span></li><li><span class='ee-k'>geometry:</span><span class='ee-v'>None</span></li><li><label class='ee-shut'>properties: Object (5 properties)<input type='checkbox' class='ee-toggle'></label><ul><li><span class='ee-k'>id:</span><span class='ee-v'>1</span></li><li><span class='ee-k'>B2:</span><span class='ee-v'>426</span></li><li><span class='ee-k'>B3:</span><span class='ee-v'>673.5</span></li><li><span class='ee-k'>B4:</span><span class='ee-v'>458</span></li><li><span class='ee-k'>B8:</span><span class='ee-v'>3322.5</span></li></ul></li></ul></li><li><label class='ee-shut'>86: Feature (5 properties)<input type='checkbox' class='ee-toggle'></label><ul><li><span class='ee-k'>type:</span><span class='ee-v'>Feature</span></li><li><span class='ee-k'>id:</span><span class='ee-v'>86_0</span></li><li><span class='ee-k'>geometry:</span><span class='ee-v'>None</span></li><li><label class='ee-shut'>properties: Object (5 properties)<input type='checkbox' class='ee-toggle'></label><ul><li><span class='ee-k'>id:</span><span class='ee-v'>1</span></li><li><span class='ee-k'>B2:</span><span class='ee-v'>333</span></li><li><span class='ee-k'>B3:</span><span class='ee-v'>553.5</span></li><li><span class='ee-k'>B4:</span><span class='ee-v'>330.5</span></li><li><span class='ee-k'>B8:</span><span class='ee-v'>3451</span></li></ul></li></ul></li><li><label class='ee-shut'>87: Feature (5 properties)<input type='checkbox' class='ee-toggle'></label><ul><li><span class='ee-k'>type:</span><span class='ee-v'>Feature</span></li><li><span class='ee-k'>id:</span><span class='ee-v'>87_0</span></li><li><span class='ee-k'>geometry:</span><span class='ee-v'>None</span></li><li><label class='ee-shut'>properties: Object (5 properties)<input type='checkbox' class='ee-toggle'></label><ul><li><span class='ee-k'>id:</span><span class='ee-v'>1</span></li><li><span class='ee-k'>B2:</span><span class='ee-v'>477</span></li><li><span class='ee-k'>B3:</span><span class='ee-v'>721</span></li><li><span class='ee-k'>B4:</span><span class='ee-v'>502.5</span></li><li><span class='ee-k'>B8:</span><span class='ee-v'>3849.5</span></li></ul></li></ul></li><li><label class='ee-shut'>88: Feature (5 properties)<input type='checkbox' class='ee-toggle'></label><ul><li><span class='ee-k'>type:</span><span class='ee-v'>Feature</span></li><li><span class='ee-k'>id:</span><span class='ee-v'>88_0</span></li><li><span class='ee-k'>geometry:</span><span class='ee-v'>None</span></li><li><label class='ee-shut'>properties: Object (5 properties)<input type='checkbox' class='ee-toggle'></label><ul><li><span class='ee-k'>id:</span><span class='ee-v'>1</span></li><li><span class='ee-k'>B2:</span><span class='ee-v'>430</span></li><li><span class='ee-k'>B3:</span><span class='ee-v'>591</span></li><li><span class='ee-k'>B4:</span><span class='ee-v'>361.5</span></li><li><span class='ee-k'>B8:</span><span class='ee-v'>4294</span></li></ul></li></ul></li><li><label class='ee-shut'>89: Feature (5 properties)<input type='checkbox' class='ee-toggle'></label><ul><li><span class='ee-k'>type:</span><span class='ee-v'>Feature</span></li><li><span class='ee-k'>id:</span><span class='ee-v'>89_0</span></li><li><span class='ee-k'>geometry:</span><span class='ee-v'>None</span></li><li><label class='ee-shut'>properties: Object (5 properties)<input type='checkbox' class='ee-toggle'></label><ul><li><span class='ee-k'>id:</span><span class='ee-v'>2</span></li><li><span class='ee-k'>B2:</span><span class='ee-v'>810</span></li><li><span class='ee-k'>B3:</span><span class='ee-v'>1134</span></li><li><span class='ee-k'>B4:</span><span class='ee-v'>1183.5</span></li><li><span class='ee-k'>B8:</span><span class='ee-v'>3229.5</span></li></ul></li></ul></li><li><label class='ee-shut'>90: Feature (5 properties)<input type='checkbox' class='ee-toggle'></label><ul><li><span class='ee-k'>type:</span><span class='ee-v'>Feature</span></li><li><span class='ee-k'>id:</span><span class='ee-v'>90_0</span></li><li><span class='ee-k'>geometry:</span><span class='ee-v'>None</span></li><li><label class='ee-shut'>properties: Object (5 properties)<input type='checkbox' class='ee-toggle'></label><ul><li><span class='ee-k'>id:</span><span class='ee-v'>2</span></li><li><span class='ee-k'>B2:</span><span class='ee-v'>1445</span></li><li><span class='ee-k'>B3:</span><span class='ee-v'>1694</span></li><li><span class='ee-k'>B4:</span><span class='ee-v'>1742</span></li><li><span class='ee-k'>B8:</span><span class='ee-v'>2603.5</span></li></ul></li></ul></li><li><label class='ee-shut'>91: Feature (5 properties)<input type='checkbox' class='ee-toggle'></label><ul><li><span class='ee-k'>type:</span><span class='ee-v'>Feature</span></li><li><span class='ee-k'>id:</span><span class='ee-v'>91_0</span></li><li><span class='ee-k'>geometry:</span><span class='ee-v'>None</span></li><li><label class='ee-shut'>properties: Object (5 properties)<input type='checkbox' class='ee-toggle'></label><ul><li><span class='ee-k'>id:</span><span class='ee-v'>2</span></li><li><span class='ee-k'>B2:</span><span class='ee-v'>1392.5</span></li><li><span class='ee-k'>B3:</span><span class='ee-v'>1966</span></li><li><span class='ee-k'>B4:</span><span class='ee-v'>2537</span></li><li><span class='ee-k'>B8:</span><span class='ee-v'>3887.5</span></li></ul></li></ul></li><li><label class='ee-shut'>92: Feature (5 properties)<input type='checkbox' class='ee-toggle'></label><ul><li><span class='ee-k'>type:</span><span class='ee-v'>Feature</span></li><li><span class='ee-k'>id:</span><span class='ee-v'>92_0</span></li><li><span class='ee-k'>geometry:</span><span class='ee-v'>None</span></li><li><label class='ee-shut'>properties: Object (5 properties)<input type='checkbox' class='ee-toggle'></label><ul><li><span class='ee-k'>id:</span><span class='ee-v'>2</span></li><li><span class='ee-k'>B2:</span><span class='ee-v'>1314.5</span></li><li><span class='ee-k'>B3:</span><span class='ee-v'>1510</span></li><li><span class='ee-k'>B4:</span><span class='ee-v'>1743</span></li><li><span class='ee-k'>B8:</span><span class='ee-v'>2414.5</span></li></ul></li></ul></li><li><label class='ee-shut'>93: Feature (5 properties)<input type='checkbox' class='ee-toggle'></label><ul><li><span class='ee-k'>type:</span><span class='ee-v'>Feature</span></li><li><span class='ee-k'>id:</span><span class='ee-v'>93_0</span></li><li><span class='ee-k'>geometry:</span><span class='ee-v'>None</span></li><li><label class='ee-shut'>properties: Object (5 properties)<input type='checkbox' class='ee-toggle'></label><ul><li><span class='ee-k'>id:</span><span class='ee-v'>2</span></li><li><span class='ee-k'>B2:</span><span class='ee-v'>969.5</span></li><li><span class='ee-k'>B3:</span><span class='ee-v'>1168</span></li><li><span class='ee-k'>B4:</span><span class='ee-v'>1266.5</span></li><li><span class='ee-k'>B8:</span><span class='ee-v'>2296</span></li></ul></li></ul></li><li><label class='ee-shut'>94: Feature (5 properties)<input type='checkbox' class='ee-toggle'></label><ul><li><span class='ee-k'>type:</span><span class='ee-v'>Feature</span></li><li><span class='ee-k'>id:</span><span class='ee-v'>94_0</span></li><li><span class='ee-k'>geometry:</span><span class='ee-v'>None</span></li><li><label class='ee-shut'>properties: Object (5 properties)<input type='checkbox' class='ee-toggle'></label><ul><li><span class='ee-k'>id:</span><span class='ee-v'>2</span></li><li><span class='ee-k'>B2:</span><span class='ee-v'>1461.5</span></li><li><span class='ee-k'>B3:</span><span class='ee-v'>1787.5</span></li><li><span class='ee-k'>B4:</span><span class='ee-v'>2072</span></li><li><span class='ee-k'>B8:</span><span class='ee-v'>2831.5</span></li></ul></li></ul></li><li><label class='ee-shut'>95: Feature (5 properties)<input type='checkbox' class='ee-toggle'></label><ul><li><span class='ee-k'>type:</span><span class='ee-v'>Feature</span></li><li><span class='ee-k'>id:</span><span class='ee-v'>95_0</span></li><li><span class='ee-k'>geometry:</span><span class='ee-v'>None</span></li><li><label class='ee-shut'>properties: Object (5 properties)<input type='checkbox' class='ee-toggle'></label><ul><li><span class='ee-k'>id:</span><span class='ee-v'>2</span></li><li><span class='ee-k'>B2:</span><span class='ee-v'>822</span></li><li><span class='ee-k'>B3:</span><span class='ee-v'>1091.5</span></li><li><span class='ee-k'>B4:</span><span class='ee-v'>1471.5</span></li><li><span class='ee-k'>B8:</span><span class='ee-v'>3081</span></li></ul></li></ul></li><li><label class='ee-shut'>96: Feature (5 properties)<input type='checkbox' class='ee-toggle'></label><ul><li><span class='ee-k'>type:</span><span class='ee-v'>Feature</span></li><li><span class='ee-k'>id:</span><span class='ee-v'>96_0</span></li><li><span class='ee-k'>geometry:</span><span class='ee-v'>None</span></li><li><label class='ee-shut'>properties: Object (5 properties)<input type='checkbox' class='ee-toggle'></label><ul><li><span class='ee-k'>id:</span><span class='ee-v'>2</span></li><li><span class='ee-k'>B2:</span><span class='ee-v'>4137.5</span></li><li><span class='ee-k'>B3:</span><span class='ee-v'>4222</span></li><li><span class='ee-k'>B4:</span><span class='ee-v'>4018</span></li><li><span class='ee-k'>B8:</span><span class='ee-v'>4509.5</span></li></ul></li></ul></li><li><label class='ee-shut'>97: Feature (5 properties)<input type='checkbox' class='ee-toggle'></label><ul><li><span class='ee-k'>type:</span><span class='ee-v'>Feature</span></li><li><span class='ee-k'>id:</span><span class='ee-v'>97_0</span></li><li><span class='ee-k'>geometry:</span><span class='ee-v'>None</span></li><li><label class='ee-shut'>properties: Object (5 properties)<input type='checkbox' class='ee-toggle'></label><ul><li><span class='ee-k'>id:</span><span class='ee-v'>2</span></li><li><span class='ee-k'>B2:</span><span class='ee-v'>1684.5</span></li><li><span class='ee-k'>B3:</span><span class='ee-v'>2035.5</span></li><li><span class='ee-k'>B4:</span><span class='ee-v'>2108</span></li><li><span class='ee-k'>B8:</span><span class='ee-v'>3835</span></li></ul></li></ul></li><li><label class='ee-shut'>98: Feature (5 properties)<input type='checkbox' class='ee-toggle'></label><ul><li><span class='ee-k'>type:</span><span class='ee-v'>Feature</span></li><li><span class='ee-k'>id:</span><span class='ee-v'>98_0</span></li><li><span class='ee-k'>geometry:</span><span class='ee-v'>None</span></li><li><label class='ee-shut'>properties: Object (5 properties)<input type='checkbox' class='ee-toggle'></label><ul><li><span class='ee-k'>id:</span><span class='ee-v'>2</span></li><li><span class='ee-k'>B2:</span><span class='ee-v'>1310.5</span></li><li><span class='ee-k'>B3:</span><span class='ee-v'>1738.5</span></li><li><span class='ee-k'>B4:</span><span class='ee-v'>2261</span></li><li><span class='ee-k'>B8:</span><span class='ee-v'>3277.5</span></li></ul></li></ul></li><li><label class='ee-shut'>99: Feature (5 properties)<input type='checkbox' class='ee-toggle'></label><ul><li><span class='ee-k'>type:</span><span class='ee-v'>Feature</span></li><li><span class='ee-k'>id:</span><span class='ee-v'>99_0</span></li><li><span class='ee-k'>geometry:</span><span class='ee-v'>None</span></li><li><label class='ee-shut'>properties: Object (5 properties)<input type='checkbox' class='ee-toggle'></label><ul><li><span class='ee-k'>id:</span><span class='ee-v'>2</span></li><li><span class='ee-k'>B2:</span><span class='ee-v'>1590.5</span></li><li><span class='ee-k'>B3:</span><span class='ee-v'>1857.5</span></li><li><span class='ee-k'>B4:</span><span class='ee-v'>1943.5</span></li><li><span class='ee-k'>B8:</span><span class='ee-v'>2734.5</span></li></ul></li></ul></li><li><label class='ee-shut'>100: Feature (5 properties)<input type='checkbox' class='ee-toggle'></label><ul><li><span class='ee-k'>type:</span><span class='ee-v'>Feature</span></li><li><span class='ee-k'>id:</span><span class='ee-v'>100_0</span></li><li><span class='ee-k'>geometry:</span><span class='ee-v'>None</span></li><li><label class='ee-shut'>properties: Object (5 properties)<input type='checkbox' class='ee-toggle'></label><ul><li><span class='ee-k'>id:</span><span class='ee-v'>2</span></li><li><span class='ee-k'>B2:</span><span class='ee-v'>1009.5</span></li><li><span class='ee-k'>B3:</span><span class='ee-v'>1262</span></li><li><span class='ee-k'>B4:</span><span class='ee-v'>1165.5</span></li><li><span class='ee-k'>B8:</span><span class='ee-v'>3170.5</span></li></ul></li></ul></li><li><label class='ee-shut'>101: Feature (5 properties)<input type='checkbox' class='ee-toggle'></label><ul><li><span class='ee-k'>type:</span><span class='ee-v'>Feature</span></li><li><span class='ee-k'>id:</span><span class='ee-v'>101_0</span></li><li><span class='ee-k'>geometry:</span><span class='ee-v'>None</span></li><li><label class='ee-shut'>properties: Object (5 properties)<input type='checkbox' class='ee-toggle'></label><ul><li><span class='ee-k'>id:</span><span class='ee-v'>2</span></li><li><span class='ee-k'>B2:</span><span class='ee-v'>700.5</span></li><li><span class='ee-k'>B3:</span><span class='ee-v'>993.5</span></li><li><span class='ee-k'>B4:</span><span class='ee-v'>1102.5</span></li><li><span class='ee-k'>B8:</span><span class='ee-v'>2957.5</span></li></ul></li></ul></li><li><label class='ee-shut'>102: Feature (5 properties)<input type='checkbox' class='ee-toggle'></label><ul><li><span class='ee-k'>type:</span><span class='ee-v'>Feature</span></li><li><span class='ee-k'>id:</span><span class='ee-v'>102_0</span></li><li><span class='ee-k'>geometry:</span><span class='ee-v'>None</span></li><li><label class='ee-shut'>properties: Object (5 properties)<input type='checkbox' class='ee-toggle'></label><ul><li><span class='ee-k'>id:</span><span class='ee-v'>2</span></li><li><span class='ee-k'>B2:</span><span class='ee-v'>1856.5</span></li><li><span class='ee-k'>B3:</span><span class='ee-v'>2331</span></li><li><span class='ee-k'>B4:</span><span class='ee-v'>2603.5</span></li><li><span class='ee-k'>B8:</span><span class='ee-v'>4376</span></li></ul></li></ul></li><li><label class='ee-shut'>103: Feature (5 properties)<input type='checkbox' class='ee-toggle'></label><ul><li><span class='ee-k'>type:</span><span class='ee-v'>Feature</span></li><li><span class='ee-k'>id:</span><span class='ee-v'>103_0</span></li><li><span class='ee-k'>geometry:</span><span class='ee-v'>None</span></li><li><label class='ee-shut'>properties: Object (5 properties)<input type='checkbox' class='ee-toggle'></label><ul><li><span class='ee-k'>id:</span><span class='ee-v'>2</span></li><li><span class='ee-k'>B2:</span><span class='ee-v'>1199.5</span></li><li><span class='ee-k'>B3:</span><span class='ee-v'>1425</span></li><li><span class='ee-k'>B4:</span><span class='ee-v'>1474</span></li><li><span class='ee-k'>B8:</span><span class='ee-v'>2428.5</span></li></ul></li></ul></li><li><label class='ee-shut'>104: Feature (5 properties)<input type='checkbox' class='ee-toggle'></label><ul><li><span class='ee-k'>type:</span><span class='ee-v'>Feature</span></li><li><span class='ee-k'>id:</span><span class='ee-v'>104_0</span></li><li><span class='ee-k'>geometry:</span><span class='ee-v'>None</span></li><li><label class='ee-shut'>properties: Object (5 properties)<input type='checkbox' class='ee-toggle'></label><ul><li><span class='ee-k'>id:</span><span class='ee-v'>2</span></li><li><span class='ee-k'>B2:</span><span class='ee-v'>2460</span></li><li><span class='ee-k'>B3:</span><span class='ee-v'>2966.5</span></li><li><span class='ee-k'>B4:</span><span class='ee-v'>3373</span></li><li><span class='ee-k'>B8:</span><span class='ee-v'>3937</span></li></ul></li></ul></li><li><label class='ee-shut'>105: Feature (5 properties)<input type='checkbox' class='ee-toggle'></label><ul><li><span class='ee-k'>type:</span><span class='ee-v'>Feature</span></li><li><span class='ee-k'>id:</span><span class='ee-v'>105_0</span></li><li><span class='ee-k'>geometry:</span><span class='ee-v'>None</span></li><li><label class='ee-shut'>properties: Object (5 properties)<input type='checkbox' class='ee-toggle'></label><ul><li><span class='ee-k'>id:</span><span class='ee-v'>2</span></li><li><span class='ee-k'>B2:</span><span class='ee-v'>1917</span></li><li><span class='ee-k'>B3:</span><span class='ee-v'>2095</span></li><li><span class='ee-k'>B4:</span><span class='ee-v'>2227</span></li><li><span class='ee-k'>B8:</span><span class='ee-v'>2522.5</span></li></ul></li></ul></li><li><label class='ee-shut'>106: Feature (5 properties)<input type='checkbox' class='ee-toggle'></label><ul><li><span class='ee-k'>type:</span><span class='ee-v'>Feature</span></li><li><span class='ee-k'>id:</span><span class='ee-v'>106_0</span></li><li><span class='ee-k'>geometry:</span><span class='ee-v'>None</span></li><li><label class='ee-shut'>properties: Object (5 properties)<input type='checkbox' class='ee-toggle'></label><ul><li><span class='ee-k'>id:</span><span class='ee-v'>2</span></li><li><span class='ee-k'>B2:</span><span class='ee-v'>2894</span></li><li><span class='ee-k'>B3:</span><span class='ee-v'>3201</span></li><li><span class='ee-k'>B4:</span><span class='ee-v'>2769.5</span></li><li><span class='ee-k'>B8:</span><span class='ee-v'>4093.5</span></li></ul></li></ul></li><li><label class='ee-shut'>107: Feature (5 properties)<input type='checkbox' class='ee-toggle'></label><ul><li><span class='ee-k'>type:</span><span class='ee-v'>Feature</span></li><li><span class='ee-k'>id:</span><span class='ee-v'>107_0</span></li><li><span class='ee-k'>geometry:</span><span class='ee-v'>None</span></li><li><label class='ee-shut'>properties: Object (5 properties)<input type='checkbox' class='ee-toggle'></label><ul><li><span class='ee-k'>id:</span><span class='ee-v'>2</span></li><li><span class='ee-k'>B2:</span><span class='ee-v'>1332</span></li><li><span class='ee-k'>B3:</span><span class='ee-v'>1570</span></li><li><span class='ee-k'>B4:</span><span class='ee-v'>1709.5</span></li><li><span class='ee-k'>B8:</span><span class='ee-v'>2717</span></li></ul></li></ul></li><li><label class='ee-shut'>108: Feature (5 properties)<input type='checkbox' class='ee-toggle'></label><ul><li><span class='ee-k'>type:</span><span class='ee-v'>Feature</span></li><li><span class='ee-k'>id:</span><span class='ee-v'>108_0</span></li><li><span class='ee-k'>geometry:</span><span class='ee-v'>None</span></li><li><label class='ee-shut'>properties: Object (5 properties)<input type='checkbox' class='ee-toggle'></label><ul><li><span class='ee-k'>id:</span><span class='ee-v'>2</span></li><li><span class='ee-k'>B2:</span><span class='ee-v'>696.5</span></li><li><span class='ee-k'>B3:</span><span class='ee-v'>1012.5</span></li><li><span class='ee-k'>B4:</span><span class='ee-v'>1059</span></li><li><span class='ee-k'>B8:</span><span class='ee-v'>3300</span></li></ul></li></ul></li><li><label class='ee-shut'>109: Feature (5 properties)<input type='checkbox' class='ee-toggle'></label><ul><li><span class='ee-k'>type:</span><span class='ee-v'>Feature</span></li><li><span class='ee-k'>id:</span><span class='ee-v'>109_0</span></li><li><span class='ee-k'>geometry:</span><span class='ee-v'>None</span></li><li><label class='ee-shut'>properties: Object (5 properties)<input type='checkbox' class='ee-toggle'></label><ul><li><span class='ee-k'>id:</span><span class='ee-v'>2</span></li><li><span class='ee-k'>B2:</span><span class='ee-v'>1035</span></li><li><span class='ee-k'>B3:</span><span class='ee-v'>1302</span></li><li><span class='ee-k'>B4:</span><span class='ee-v'>1419.5</span></li><li><span class='ee-k'>B8:</span><span class='ee-v'>3135</span></li></ul></li></ul></li><li><label class='ee-shut'>110: Feature (5 properties)<input type='checkbox' class='ee-toggle'></label><ul><li><span class='ee-k'>type:</span><span class='ee-v'>Feature</span></li><li><span class='ee-k'>id:</span><span class='ee-v'>110_0</span></li><li><span class='ee-k'>geometry:</span><span class='ee-v'>None</span></li><li><label class='ee-shut'>properties: Object (5 properties)<input type='checkbox' class='ee-toggle'></label><ul><li><span class='ee-k'>id:</span><span class='ee-v'>2</span></li><li><span class='ee-k'>B2:</span><span class='ee-v'>1712.5</span></li><li><span class='ee-k'>B3:</span><span class='ee-v'>2129.5</span></li><li><span class='ee-k'>B4:</span><span class='ee-v'>2495</span></li><li><span class='ee-k'>B8:</span><span class='ee-v'>3906</span></li></ul></li></ul></li><li><label class='ee-shut'>111: Feature (5 properties)<input type='checkbox' class='ee-toggle'></label><ul><li><span class='ee-k'>type:</span><span class='ee-v'>Feature</span></li><li><span class='ee-k'>id:</span><span class='ee-v'>111_0</span></li><li><span class='ee-k'>geometry:</span><span class='ee-v'>None</span></li><li><label class='ee-shut'>properties: Object (5 properties)<input type='checkbox' class='ee-toggle'></label><ul><li><span class='ee-k'>id:</span><span class='ee-v'>2</span></li><li><span class='ee-k'>B2:</span><span class='ee-v'>2507.5</span></li><li><span class='ee-k'>B3:</span><span class='ee-v'>2717</span></li><li><span class='ee-k'>B4:</span><span class='ee-v'>2631.5</span></li><li><span class='ee-k'>B8:</span><span class='ee-v'>3356</span></li></ul></li></ul></li><li><label class='ee-shut'>112: Feature (5 properties)<input type='checkbox' class='ee-toggle'></label><ul><li><span class='ee-k'>type:</span><span class='ee-v'>Feature</span></li><li><span class='ee-k'>id:</span><span class='ee-v'>112_0</span></li><li><span class='ee-k'>geometry:</span><span class='ee-v'>None</span></li><li><label class='ee-shut'>properties: Object (5 properties)<input type='checkbox' class='ee-toggle'></label><ul><li><span class='ee-k'>id:</span><span class='ee-v'>2</span></li><li><span class='ee-k'>B2:</span><span class='ee-v'>1245</span></li><li><span class='ee-k'>B3:</span><span class='ee-v'>1542</span></li><li><span class='ee-k'>B4:</span><span class='ee-v'>1862</span></li><li><span class='ee-k'>B8:</span><span class='ee-v'>3234.5</span></li></ul></li></ul></li><li><label class='ee-shut'>113: Feature (5 properties)<input type='checkbox' class='ee-toggle'></label><ul><li><span class='ee-k'>type:</span><span class='ee-v'>Feature</span></li><li><span class='ee-k'>id:</span><span class='ee-v'>113_0</span></li><li><span class='ee-k'>geometry:</span><span class='ee-v'>None</span></li><li><label class='ee-shut'>properties: Object (5 properties)<input type='checkbox' class='ee-toggle'></label><ul><li><span class='ee-k'>id:</span><span class='ee-v'>2</span></li><li><span class='ee-k'>B2:</span><span class='ee-v'>771.5</span></li><li><span class='ee-k'>B3:</span><span class='ee-v'>1081.5</span></li><li><span class='ee-k'>B4:</span><span class='ee-v'>1264</span></li><li><span class='ee-k'>B8:</span><span class='ee-v'>3512</span></li></ul></li></ul></li><li><label class='ee-shut'>114: Feature (5 properties)<input type='checkbox' class='ee-toggle'></label><ul><li><span class='ee-k'>type:</span><span class='ee-v'>Feature</span></li><li><span class='ee-k'>id:</span><span class='ee-v'>114_0</span></li><li><span class='ee-k'>geometry:</span><span class='ee-v'>None</span></li><li><label class='ee-shut'>properties: Object (5 properties)<input type='checkbox' class='ee-toggle'></label><ul><li><span class='ee-k'>id:</span><span class='ee-v'>2</span></li><li><span class='ee-k'>B2:</span><span class='ee-v'>699</span></li><li><span class='ee-k'>B3:</span><span class='ee-v'>980.5</span></li><li><span class='ee-k'>B4:</span><span class='ee-v'>943</span></li><li><span class='ee-k'>B8:</span><span class='ee-v'>3360</span></li></ul></li></ul></li><li><label class='ee-shut'>115: Feature (5 properties)<input type='checkbox' class='ee-toggle'></label><ul><li><span class='ee-k'>type:</span><span class='ee-v'>Feature</span></li><li><span class='ee-k'>id:</span><span class='ee-v'>115_0</span></li><li><span class='ee-k'>geometry:</span><span class='ee-v'>None</span></li><li><label class='ee-shut'>properties: Object (5 properties)<input type='checkbox' class='ee-toggle'></label><ul><li><span class='ee-k'>id:</span><span class='ee-v'>2</span></li><li><span class='ee-k'>B2:</span><span class='ee-v'>977</span></li><li><span class='ee-k'>B3:</span><span class='ee-v'>1331</span></li><li><span class='ee-k'>B4:</span><span class='ee-v'>1450</span></li><li><span class='ee-k'>B8:</span><span class='ee-v'>3786</span></li></ul></li></ul></li><li><label class='ee-shut'>116: Feature (5 properties)<input type='checkbox' class='ee-toggle'></label><ul><li><span class='ee-k'>type:</span><span class='ee-v'>Feature</span></li><li><span class='ee-k'>id:</span><span class='ee-v'>116_0</span></li><li><span class='ee-k'>geometry:</span><span class='ee-v'>None</span></li><li><label class='ee-shut'>properties: Object (5 properties)<input type='checkbox' class='ee-toggle'></label><ul><li><span class='ee-k'>id:</span><span class='ee-v'>2</span></li><li><span class='ee-k'>B2:</span><span class='ee-v'>1039.5</span></li><li><span class='ee-k'>B3:</span><span class='ee-v'>1212.5</span></li><li><span class='ee-k'>B4:</span><span class='ee-v'>1384</span></li><li><span class='ee-k'>B8:</span><span class='ee-v'>2903</span></li></ul></li></ul></li><li><label class='ee-shut'>117: Feature (5 properties)<input type='checkbox' class='ee-toggle'></label><ul><li><span class='ee-k'>type:</span><span class='ee-v'>Feature</span></li><li><span class='ee-k'>id:</span><span class='ee-v'>117_0</span></li><li><span class='ee-k'>geometry:</span><span class='ee-v'>None</span></li><li><label class='ee-shut'>properties: Object (5 properties)<input type='checkbox' class='ee-toggle'></label><ul><li><span class='ee-k'>id:</span><span class='ee-v'>2</span></li><li><span class='ee-k'>B2:</span><span class='ee-v'>842</span></li><li><span class='ee-k'>B3:</span><span class='ee-v'>1087.5</span></li><li><span class='ee-k'>B4:</span><span class='ee-v'>1254.5</span></li><li><span class='ee-k'>B8:</span><span class='ee-v'>3193.5</span></li></ul></li></ul></li><li><label class='ee-shut'>118: Feature (5 properties)<input type='checkbox' class='ee-toggle'></label><ul><li><span class='ee-k'>type:</span><span class='ee-v'>Feature</span></li><li><span class='ee-k'>id:</span><span class='ee-v'>118_0</span></li><li><span class='ee-k'>geometry:</span><span class='ee-v'>None</span></li><li><label class='ee-shut'>properties: Object (5 properties)<input type='checkbox' class='ee-toggle'></label><ul><li><span class='ee-k'>id:</span><span class='ee-v'>3</span></li><li><span class='ee-k'>B2:</span><span class='ee-v'>634</span></li><li><span class='ee-k'>B3:</span><span class='ee-v'>731.5</span></li><li><span class='ee-k'>B4:</span><span class='ee-v'>398</span></li><li><span class='ee-k'>B8:</span><span class='ee-v'>290</span></li></ul></li></ul></li><li><label class='ee-shut'>119: Feature (5 properties)<input type='checkbox' class='ee-toggle'></label><ul><li><span class='ee-k'>type:</span><span class='ee-v'>Feature</span></li><li><span class='ee-k'>id:</span><span class='ee-v'>119_0</span></li><li><span class='ee-k'>geometry:</span><span class='ee-v'>None</span></li><li><label class='ee-shut'>properties: Object (5 properties)<input type='checkbox' class='ee-toggle'></label><ul><li><span class='ee-k'>id:</span><span class='ee-v'>3</span></li><li><span class='ee-k'>B2:</span><span class='ee-v'>562</span></li><li><span class='ee-k'>B3:</span><span class='ee-v'>661.5</span></li><li><span class='ee-k'>B4:</span><span class='ee-v'>430.5</span></li><li><span class='ee-k'>B8:</span><span class='ee-v'>331.5</span></li></ul></li></ul></li><li><label class='ee-shut'>120: Feature (5 properties)<input type='checkbox' class='ee-toggle'></label><ul><li><span class='ee-k'>type:</span><span class='ee-v'>Feature</span></li><li><span class='ee-k'>id:</span><span class='ee-v'>120_0</span></li><li><span class='ee-k'>geometry:</span><span class='ee-v'>None</span></li><li><label class='ee-shut'>properties: Object (5 properties)<input type='checkbox' class='ee-toggle'></label><ul><li><span class='ee-k'>id:</span><span class='ee-v'>3</span></li><li><span class='ee-k'>B2:</span><span class='ee-v'>634.5</span></li><li><span class='ee-k'>B3:</span><span class='ee-v'>806.5</span></li><li><span class='ee-k'>B4:</span><span class='ee-v'>655.5</span></li><li><span class='ee-k'>B8:</span><span class='ee-v'>373</span></li></ul></li></ul></li><li><label class='ee-shut'>121: Feature (5 properties)<input type='checkbox' class='ee-toggle'></label><ul><li><span class='ee-k'>type:</span><span class='ee-v'>Feature</span></li><li><span class='ee-k'>id:</span><span class='ee-v'>121_0</span></li><li><span class='ee-k'>geometry:</span><span class='ee-v'>None</span></li><li><label class='ee-shut'>properties: Object (5 properties)<input type='checkbox' class='ee-toggle'></label><ul><li><span class='ee-k'>id:</span><span class='ee-v'>3</span></li><li><span class='ee-k'>B2:</span><span class='ee-v'>631.5</span></li><li><span class='ee-k'>B3:</span><span class='ee-v'>803</span></li><li><span class='ee-k'>B4:</span><span class='ee-v'>595.5</span></li><li><span class='ee-k'>B8:</span><span class='ee-v'>306</span></li></ul></li></ul></li><li><label class='ee-shut'>122: Feature (5 properties)<input type='checkbox' class='ee-toggle'></label><ul><li><span class='ee-k'>type:</span><span class='ee-v'>Feature</span></li><li><span class='ee-k'>id:</span><span class='ee-v'>122_0</span></li><li><span class='ee-k'>geometry:</span><span class='ee-v'>None</span></li><li><label class='ee-shut'>properties: Object (5 properties)<input type='checkbox' class='ee-toggle'></label><ul><li><span class='ee-k'>id:</span><span class='ee-v'>3</span></li><li><span class='ee-k'>B2:</span><span class='ee-v'>610.5</span></li><li><span class='ee-k'>B3:</span><span class='ee-v'>792</span></li><li><span class='ee-k'>B4:</span><span class='ee-v'>643</span></li><li><span class='ee-k'>B8:</span><span class='ee-v'>346</span></li></ul></li></ul></li><li><label class='ee-shut'>123: Feature (5 properties)<input type='checkbox' class='ee-toggle'></label><ul><li><span class='ee-k'>type:</span><span class='ee-v'>Feature</span></li><li><span class='ee-k'>id:</span><span class='ee-v'>123_0</span></li><li><span class='ee-k'>geometry:</span><span class='ee-v'>None</span></li><li><label class='ee-shut'>properties: Object (5 properties)<input type='checkbox' class='ee-toggle'></label><ul><li><span class='ee-k'>id:</span><span class='ee-v'>3</span></li><li><span class='ee-k'>B2:</span><span class='ee-v'>626.5</span></li><li><span class='ee-k'>B3:</span><span class='ee-v'>754</span></li><li><span class='ee-k'>B4:</span><span class='ee-v'>438.5</span></li><li><span class='ee-k'>B8:</span><span class='ee-v'>280</span></li></ul></li></ul></li><li><label class='ee-shut'>124: Feature (5 properties)<input type='checkbox' class='ee-toggle'></label><ul><li><span class='ee-k'>type:</span><span class='ee-v'>Feature</span></li><li><span class='ee-k'>id:</span><span class='ee-v'>124_0</span></li><li><span class='ee-k'>geometry:</span><span class='ee-v'>None</span></li><li><label class='ee-shut'>properties: Object (5 properties)<input type='checkbox' class='ee-toggle'></label><ul><li><span class='ee-k'>id:</span><span class='ee-v'>3</span></li><li><span class='ee-k'>B2:</span><span class='ee-v'>594.5</span></li><li><span class='ee-k'>B3:</span><span class='ee-v'>662.5</span></li><li><span class='ee-k'>B4:</span><span class='ee-v'>286.5</span></li><li><span class='ee-k'>B8:</span><span class='ee-v'>150</span></li></ul></li></ul></li><li><label class='ee-shut'>125: Feature (5 properties)<input type='checkbox' class='ee-toggle'></label><ul><li><span class='ee-k'>type:</span><span class='ee-v'>Feature</span></li><li><span class='ee-k'>id:</span><span class='ee-v'>125_0</span></li><li><span class='ee-k'>geometry:</span><span class='ee-v'>None</span></li><li><label class='ee-shut'>properties: Object (5 properties)<input type='checkbox' class='ee-toggle'></label><ul><li><span class='ee-k'>id:</span><span class='ee-v'>3</span></li><li><span class='ee-k'>B2:</span><span class='ee-v'>394</span></li><li><span class='ee-k'>B3:</span><span class='ee-v'>475.5</span></li><li><span class='ee-k'>B4:</span><span class='ee-v'>315.5</span></li><li><span class='ee-k'>B8:</span><span class='ee-v'>168</span></li></ul></li></ul></li><li><label class='ee-shut'>126: Feature (5 properties)<input type='checkbox' class='ee-toggle'></label><ul><li><span class='ee-k'>type:</span><span class='ee-v'>Feature</span></li><li><span class='ee-k'>id:</span><span class='ee-v'>126_0</span></li><li><span class='ee-k'>geometry:</span><span class='ee-v'>None</span></li><li><label class='ee-shut'>properties: Object (5 properties)<input type='checkbox' class='ee-toggle'></label><ul><li><span class='ee-k'>id:</span><span class='ee-v'>3</span></li><li><span class='ee-k'>B2:</span><span class='ee-v'>484</span></li><li><span class='ee-k'>B3:</span><span class='ee-v'>592</span></li><li><span class='ee-k'>B4:</span><span class='ee-v'>360.5</span></li><li><span class='ee-k'>B8:</span><span class='ee-v'>198</span></li></ul></li></ul></li><li><label class='ee-shut'>127: Feature (5 properties)<input type='checkbox' class='ee-toggle'></label><ul><li><span class='ee-k'>type:</span><span class='ee-v'>Feature</span></li><li><span class='ee-k'>id:</span><span class='ee-v'>127_0</span></li><li><span class='ee-k'>geometry:</span><span class='ee-v'>None</span></li><li><label class='ee-shut'>properties: Object (5 properties)<input type='checkbox' class='ee-toggle'></label><ul><li><span class='ee-k'>id:</span><span class='ee-v'>3</span></li><li><span class='ee-k'>B2:</span><span class='ee-v'>356</span></li><li><span class='ee-k'>B3:</span><span class='ee-v'>485.5</span></li><li><span class='ee-k'>B4:</span><span class='ee-v'>341</span></li><li><span class='ee-k'>B8:</span><span class='ee-v'>210.5</span></li></ul></li></ul></li><li><label class='ee-shut'>128: Feature (5 properties)<input type='checkbox' class='ee-toggle'></label><ul><li><span class='ee-k'>type:</span><span class='ee-v'>Feature</span></li><li><span class='ee-k'>id:</span><span class='ee-v'>128_0</span></li><li><span class='ee-k'>geometry:</span><span class='ee-v'>None</span></li><li><label class='ee-shut'>properties: Object (5 properties)<input type='checkbox' class='ee-toggle'></label><ul><li><span class='ee-k'>id:</span><span class='ee-v'>3</span></li><li><span class='ee-k'>B2:</span><span class='ee-v'>443</span></li><li><span class='ee-k'>B3:</span><span class='ee-v'>529</span></li><li><span class='ee-k'>B4:</span><span class='ee-v'>397.5</span></li><li><span class='ee-k'>B8:</span><span class='ee-v'>186.5</span></li></ul></li></ul></li><li><label class='ee-shut'>129: Feature (5 properties)<input type='checkbox' class='ee-toggle'></label><ul><li><span class='ee-k'>type:</span><span class='ee-v'>Feature</span></li><li><span class='ee-k'>id:</span><span class='ee-v'>129_0</span></li><li><span class='ee-k'>geometry:</span><span class='ee-v'>None</span></li><li><label class='ee-shut'>properties: Object (5 properties)<input type='checkbox' class='ee-toggle'></label><ul><li><span class='ee-k'>id:</span><span class='ee-v'>3</span></li><li><span class='ee-k'>B2:</span><span class='ee-v'>432.5</span></li><li><span class='ee-k'>B3:</span><span class='ee-v'>517.5</span></li><li><span class='ee-k'>B4:</span><span class='ee-v'>392.5</span></li><li><span class='ee-k'>B8:</span><span class='ee-v'>311.5</span></li></ul></li></ul></li><li><label class='ee-shut'>130: Feature (5 properties)<input type='checkbox' class='ee-toggle'></label><ul><li><span class='ee-k'>type:</span><span class='ee-v'>Feature</span></li><li><span class='ee-k'>id:</span><span class='ee-v'>130_0</span></li><li><span class='ee-k'>geometry:</span><span class='ee-v'>None</span></li><li><label class='ee-shut'>properties: Object (5 properties)<input type='checkbox' class='ee-toggle'></label><ul><li><span class='ee-k'>id:</span><span class='ee-v'>3</span></li><li><span class='ee-k'>B2:</span><span class='ee-v'>334.5</span></li><li><span class='ee-k'>B3:</span><span class='ee-v'>419.5</span></li><li><span class='ee-k'>B4:</span><span class='ee-v'>327</span></li><li><span class='ee-k'>B8:</span><span class='ee-v'>527</span></li></ul></li></ul></li><li><label class='ee-shut'>131: Feature (5 properties)<input type='checkbox' class='ee-toggle'></label><ul><li><span class='ee-k'>type:</span><span class='ee-v'>Feature</span></li><li><span class='ee-k'>id:</span><span class='ee-v'>131_0</span></li><li><span class='ee-k'>geometry:</span><span class='ee-v'>None</span></li><li><label class='ee-shut'>properties: Object (5 properties)<input type='checkbox' class='ee-toggle'></label><ul><li><span class='ee-k'>id:</span><span class='ee-v'>3</span></li><li><span class='ee-k'>B2:</span><span class='ee-v'>354</span></li><li><span class='ee-k'>B3:</span><span class='ee-v'>444</span></li><li><span class='ee-k'>B4:</span><span class='ee-v'>328.5</span></li><li><span class='ee-k'>B8:</span><span class='ee-v'>307.5</span></li></ul></li></ul></li><li><label class='ee-shut'>132: Feature (5 properties)<input type='checkbox' class='ee-toggle'></label><ul><li><span class='ee-k'>type:</span><span class='ee-v'>Feature</span></li><li><span class='ee-k'>id:</span><span class='ee-v'>132_0</span></li><li><span class='ee-k'>geometry:</span><span class='ee-v'>None</span></li><li><label class='ee-shut'>properties: Object (5 properties)<input type='checkbox' class='ee-toggle'></label><ul><li><span class='ee-k'>id:</span><span class='ee-v'>3</span></li><li><span class='ee-k'>B2:</span><span class='ee-v'>333</span></li><li><span class='ee-k'>B3:</span><span class='ee-v'>395.5</span></li><li><span class='ee-k'>B4:</span><span class='ee-v'>315</span></li><li><span class='ee-k'>B8:</span><span class='ee-v'>271.5</span></li></ul></li></ul></li><li><label class='ee-shut'>133: Feature (5 properties)<input type='checkbox' class='ee-toggle'></label><ul><li><span class='ee-k'>type:</span><span class='ee-v'>Feature</span></li><li><span class='ee-k'>id:</span><span class='ee-v'>133_0</span></li><li><span class='ee-k'>geometry:</span><span class='ee-v'>None</span></li><li><label class='ee-shut'>properties: Object (5 properties)<input type='checkbox' class='ee-toggle'></label><ul><li><span class='ee-k'>id:</span><span class='ee-v'>3</span></li><li><span class='ee-k'>B2:</span><span class='ee-v'>368</span></li><li><span class='ee-k'>B3:</span><span class='ee-v'>440.5</span></li><li><span class='ee-k'>B4:</span><span class='ee-v'>333.5</span></li><li><span class='ee-k'>B8:</span><span class='ee-v'>298.5</span></li></ul></li></ul></li><li><label class='ee-shut'>134: Feature (5 properties)<input type='checkbox' class='ee-toggle'></label><ul><li><span class='ee-k'>type:</span><span class='ee-v'>Feature</span></li><li><span class='ee-k'>id:</span><span class='ee-v'>134_0</span></li><li><span class='ee-k'>geometry:</span><span class='ee-v'>None</span></li><li><label class='ee-shut'>properties: Object (5 properties)<input type='checkbox' class='ee-toggle'></label><ul><li><span class='ee-k'>id:</span><span class='ee-v'>3</span></li><li><span class='ee-k'>B2:</span><span class='ee-v'>495.5</span></li><li><span class='ee-k'>B3:</span><span class='ee-v'>628.5</span></li><li><span class='ee-k'>B4:</span><span class='ee-v'>501.5</span></li><li><span class='ee-k'>B8:</span><span class='ee-v'>258</span></li></ul></li></ul></li><li><label class='ee-shut'>135: Feature (5 properties)<input type='checkbox' class='ee-toggle'></label><ul><li><span class='ee-k'>type:</span><span class='ee-v'>Feature</span></li><li><span class='ee-k'>id:</span><span class='ee-v'>135_0</span></li><li><span class='ee-k'>geometry:</span><span class='ee-v'>None</span></li><li><label class='ee-shut'>properties: Object (5 properties)<input type='checkbox' class='ee-toggle'></label><ul><li><span class='ee-k'>id:</span><span class='ee-v'>3</span></li><li><span class='ee-k'>B2:</span><span class='ee-v'>556</span></li><li><span class='ee-k'>B3:</span><span class='ee-v'>696</span></li><li><span class='ee-k'>B4:</span><span class='ee-v'>520.5</span></li><li><span class='ee-k'>B8:</span><span class='ee-v'>274.5</span></li></ul></li></ul></li><li><label class='ee-shut'>136: Feature (5 properties)<input type='checkbox' class='ee-toggle'></label><ul><li><span class='ee-k'>type:</span><span class='ee-v'>Feature</span></li><li><span class='ee-k'>id:</span><span class='ee-v'>136_0</span></li><li><span class='ee-k'>geometry:</span><span class='ee-v'>None</span></li><li><label class='ee-shut'>properties: Object (5 properties)<input type='checkbox' class='ee-toggle'></label><ul><li><span class='ee-k'>id:</span><span class='ee-v'>3</span></li><li><span class='ee-k'>B2:</span><span class='ee-v'>556.5</span></li><li><span class='ee-k'>B3:</span><span class='ee-v'>611</span></li><li><span class='ee-k'>B4:</span><span class='ee-v'>471</span></li><li><span class='ee-k'>B8:</span><span class='ee-v'>414.5</span></li></ul></li></ul></li><li><label class='ee-shut'>137: Feature (5 properties)<input type='checkbox' class='ee-toggle'></label><ul><li><span class='ee-k'>type:</span><span class='ee-v'>Feature</span></li><li><span class='ee-k'>id:</span><span class='ee-v'>137_0</span></li><li><span class='ee-k'>geometry:</span><span class='ee-v'>None</span></li><li><label class='ee-shut'>properties: Object (5 properties)<input type='checkbox' class='ee-toggle'></label><ul><li><span class='ee-k'>id:</span><span class='ee-v'>3</span></li><li><span class='ee-k'>B2:</span><span class='ee-v'>271.5</span></li><li><span class='ee-k'>B3:</span><span class='ee-v'>357</span></li><li><span class='ee-k'>B4:</span><span class='ee-v'>242</span></li><li><span class='ee-k'>B8:</span><span class='ee-v'>302</span></li></ul></li></ul></li><li><label class='ee-shut'>138: Feature (5 properties)<input type='checkbox' class='ee-toggle'></label><ul><li><span class='ee-k'>type:</span><span class='ee-v'>Feature</span></li><li><span class='ee-k'>id:</span><span class='ee-v'>138_0</span></li><li><span class='ee-k'>geometry:</span><span class='ee-v'>None</span></li><li><label class='ee-shut'>properties: Object (5 properties)<input type='checkbox' class='ee-toggle'></label><ul><li><span class='ee-k'>id:</span><span class='ee-v'>3</span></li><li><span class='ee-k'>B2:</span><span class='ee-v'>455</span></li><li><span class='ee-k'>B3:</span><span class='ee-v'>613</span></li><li><span class='ee-k'>B4:</span><span class='ee-v'>468.5</span></li><li><span class='ee-k'>B8:</span><span class='ee-v'>306</span></li></ul></li></ul></li><li><label class='ee-shut'>139: Feature (5 properties)<input type='checkbox' class='ee-toggle'></label><ul><li><span class='ee-k'>type:</span><span class='ee-v'>Feature</span></li><li><span class='ee-k'>id:</span><span class='ee-v'>139_0</span></li><li><span class='ee-k'>geometry:</span><span class='ee-v'>None</span></li><li><label class='ee-shut'>properties: Object (5 properties)<input type='checkbox' class='ee-toggle'></label><ul><li><span class='ee-k'>id:</span><span class='ee-v'>3</span></li><li><span class='ee-k'>B2:</span><span class='ee-v'>438.5</span></li><li><span class='ee-k'>B3:</span><span class='ee-v'>614.5</span></li><li><span class='ee-k'>B4:</span><span class='ee-v'>444</span></li><li><span class='ee-k'>B8:</span><span class='ee-v'>226</span></li></ul></li></ul></li><li><label class='ee-shut'>140: Feature (5 properties)<input type='checkbox' class='ee-toggle'></label><ul><li><span class='ee-k'>type:</span><span class='ee-v'>Feature</span></li><li><span class='ee-k'>id:</span><span class='ee-v'>140_0</span></li><li><span class='ee-k'>geometry:</span><span class='ee-v'>None</span></li><li><label class='ee-shut'>properties: Object (5 properties)<input type='checkbox' class='ee-toggle'></label><ul><li><span class='ee-k'>id:</span><span class='ee-v'>3</span></li><li><span class='ee-k'>B2:</span><span class='ee-v'>503</span></li><li><span class='ee-k'>B3:</span><span class='ee-v'>713</span></li><li><span class='ee-k'>B4:</span><span class='ee-v'>577.5</span></li><li><span class='ee-k'>B8:</span><span class='ee-v'>432.5</span></li></ul></li></ul></li><li><label class='ee-shut'>141: Feature (5 properties)<input type='checkbox' class='ee-toggle'></label><ul><li><span class='ee-k'>type:</span><span class='ee-v'>Feature</span></li><li><span class='ee-k'>id:</span><span class='ee-v'>141_0</span></li><li><span class='ee-k'>geometry:</span><span class='ee-v'>None</span></li><li><label class='ee-shut'>properties: Object (5 properties)<input type='checkbox' class='ee-toggle'></label><ul><li><span class='ee-k'>id:</span><span class='ee-v'>3</span></li><li><span class='ee-k'>B2:</span><span class='ee-v'>408</span></li><li><span class='ee-k'>B3:</span><span class='ee-v'>509</span></li><li><span class='ee-k'>B4:</span><span class='ee-v'>397</span></li><li><span class='ee-k'>B8:</span><span class='ee-v'>216</span></li></ul></li></ul></li><li><label class='ee-shut'>142: Feature (5 properties)<input type='checkbox' class='ee-toggle'></label><ul><li><span class='ee-k'>type:</span><span class='ee-v'>Feature</span></li><li><span class='ee-k'>id:</span><span class='ee-v'>142_0</span></li><li><span class='ee-k'>geometry:</span><span class='ee-v'>None</span></li><li><label class='ee-shut'>properties: Object (5 properties)<input type='checkbox' class='ee-toggle'></label><ul><li><span class='ee-k'>id:</span><span class='ee-v'>3</span></li><li><span class='ee-k'>B2:</span><span class='ee-v'>483</span></li><li><span class='ee-k'>B3:</span><span class='ee-v'>637</span></li><li><span class='ee-k'>B4:</span><span class='ee-v'>440.5</span></li><li><span class='ee-k'>B8:</span><span class='ee-v'>200.5</span></li></ul></li></ul></li><li><label class='ee-shut'>143: Feature (5 properties)<input type='checkbox' class='ee-toggle'></label><ul><li><span class='ee-k'>type:</span><span class='ee-v'>Feature</span></li><li><span class='ee-k'>id:</span><span class='ee-v'>143_0</span></li><li><span class='ee-k'>geometry:</span><span class='ee-v'>None</span></li><li><label class='ee-shut'>properties: Object (5 properties)<input type='checkbox' class='ee-toggle'></label><ul><li><span class='ee-k'>id:</span><span class='ee-v'>3</span></li><li><span class='ee-k'>B2:</span><span class='ee-v'>405</span></li><li><span class='ee-k'>B3:</span><span class='ee-v'>451</span></li><li><span class='ee-k'>B4:</span><span class='ee-v'>308.5</span></li><li><span class='ee-k'>B8:</span><span class='ee-v'>176</span></li></ul></li></ul></li><li><label class='ee-shut'>144: Feature (5 properties)<input type='checkbox' class='ee-toggle'></label><ul><li><span class='ee-k'>type:</span><span class='ee-v'>Feature</span></li><li><span class='ee-k'>id:</span><span class='ee-v'>144_0</span></li><li><span class='ee-k'>geometry:</span><span class='ee-v'>None</span></li><li><label class='ee-shut'>properties: Object (5 properties)<input type='checkbox' class='ee-toggle'></label><ul><li><span class='ee-k'>id:</span><span class='ee-v'>3</span></li><li><span class='ee-k'>B2:</span><span class='ee-v'>359.5</span></li><li><span class='ee-k'>B3:</span><span class='ee-v'>428</span></li><li><span class='ee-k'>B4:</span><span class='ee-v'>304.5</span></li><li><span class='ee-k'>B8:</span><span class='ee-v'>218</span></li></ul></li></ul></li><li><label class='ee-shut'>145: Feature (5 properties)<input type='checkbox' class='ee-toggle'></label><ul><li><span class='ee-k'>type:</span><span class='ee-v'>Feature</span></li><li><span class='ee-k'>id:</span><span class='ee-v'>145_0</span></li><li><span class='ee-k'>geometry:</span><span class='ee-v'>None</span></li><li><label class='ee-shut'>properties: Object (5 properties)<input type='checkbox' class='ee-toggle'></label><ul><li><span class='ee-k'>id:</span><span class='ee-v'>3</span></li><li><span class='ee-k'>B2:</span><span class='ee-v'>383.5</span></li><li><span class='ee-k'>B3:</span><span class='ee-v'>443.5</span></li><li><span class='ee-k'>B4:</span><span class='ee-v'>327</span></li><li><span class='ee-k'>B8:</span><span class='ee-v'>225.5</span></li></ul></li></ul></li><li><label class='ee-shut'>146: Feature (5 properties)<input type='checkbox' class='ee-toggle'></label><ul><li><span class='ee-k'>type:</span><span class='ee-v'>Feature</span></li><li><span class='ee-k'>id:</span><span class='ee-v'>146_0</span></li><li><span class='ee-k'>geometry:</span><span class='ee-v'>None</span></li><li><label class='ee-shut'>properties: Object (5 properties)<input type='checkbox' class='ee-toggle'></label><ul><li><span class='ee-k'>id:</span><span class='ee-v'>3</span></li><li><span class='ee-k'>B2:</span><span class='ee-v'>410.5</span></li><li><span class='ee-k'>B3:</span><span class='ee-v'>474</span></li><li><span class='ee-k'>B4:</span><span class='ee-v'>350</span></li><li><span class='ee-k'>B8:</span><span class='ee-v'>279</span></li></ul></li></ul></li><li><label class='ee-shut'>147: Feature (5 properties)<input type='checkbox' class='ee-toggle'></label><ul><li><span class='ee-k'>type:</span><span class='ee-v'>Feature</span></li><li><span class='ee-k'>id:</span><span class='ee-v'>147_0</span></li><li><span class='ee-k'>geometry:</span><span class='ee-v'>None</span></li><li><label class='ee-shut'>properties: Object (5 properties)<input type='checkbox' class='ee-toggle'></label><ul><li><span class='ee-k'>id:</span><span class='ee-v'>3</span></li><li><span class='ee-k'>B2:</span><span class='ee-v'>464.5</span></li><li><span class='ee-k'>B3:</span><span class='ee-v'>576</span></li><li><span class='ee-k'>B4:</span><span class='ee-v'>449.5</span></li><li><span class='ee-k'>B8:</span><span class='ee-v'>476.5</span></li></ul></li></ul></li><li><label class='ee-shut'>148: Feature (5 properties)<input type='checkbox' class='ee-toggle'></label><ul><li><span class='ee-k'>type:</span><span class='ee-v'>Feature</span></li><li><span class='ee-k'>id:</span><span class='ee-v'>148_0</span></li><li><span class='ee-k'>geometry:</span><span class='ee-v'>None</span></li><li><label class='ee-shut'>properties: Object (5 properties)<input type='checkbox' class='ee-toggle'></label><ul><li><span class='ee-k'>id:</span><span class='ee-v'>3</span></li><li><span class='ee-k'>B2:</span><span class='ee-v'>416</span></li><li><span class='ee-k'>B3:</span><span class='ee-v'>543.5</span></li><li><span class='ee-k'>B4:</span><span class='ee-v'>457</span></li><li><span class='ee-k'>B8:</span><span class='ee-v'>394.5</span></li></ul></li></ul></li><li><label class='ee-shut'>149: Feature (5 properties)<input type='checkbox' class='ee-toggle'></label><ul><li><span class='ee-k'>type:</span><span class='ee-v'>Feature</span></li><li><span class='ee-k'>id:</span><span class='ee-v'>149_0</span></li><li><span class='ee-k'>geometry:</span><span class='ee-v'>None</span></li><li><label class='ee-shut'>properties: Object (5 properties)<input type='checkbox' class='ee-toggle'></label><ul><li><span class='ee-k'>id:</span><span class='ee-v'>3</span></li><li><span class='ee-k'>B2:</span><span class='ee-v'>362</span></li><li><span class='ee-k'>B3:</span><span class='ee-v'>457.5</span></li><li><span class='ee-k'>B4:</span><span class='ee-v'>351.5</span></li><li><span class='ee-k'>B8:</span><span class='ee-v'>258</span></li></ul></li></ul></li><li><label class='ee-shut'>150: Feature (5 properties)<input type='checkbox' class='ee-toggle'></label><ul><li><span class='ee-k'>type:</span><span class='ee-v'>Feature</span></li><li><span class='ee-k'>id:</span><span class='ee-v'>150_0</span></li><li><span class='ee-k'>geometry:</span><span class='ee-v'>None</span></li><li><label class='ee-shut'>properties: Object (5 properties)<input type='checkbox' class='ee-toggle'></label><ul><li><span class='ee-k'>id:</span><span class='ee-v'>3</span></li><li><span class='ee-k'>B2:</span><span class='ee-v'>411.5</span></li><li><span class='ee-k'>B3:</span><span class='ee-v'>450.5</span></li><li><span class='ee-k'>B4:</span><span class='ee-v'>317.5</span></li><li><span class='ee-k'>B8:</span><span class='ee-v'>217.5</span></li></ul></li></ul></li><li><label class='ee-shut'>151: Feature (5 properties)<input type='checkbox' class='ee-toggle'></label><ul><li><span class='ee-k'>type:</span><span class='ee-v'>Feature</span></li><li><span class='ee-k'>id:</span><span class='ee-v'>151_0</span></li><li><span class='ee-k'>geometry:</span><span class='ee-v'>None</span></li><li><label class='ee-shut'>properties: Object (5 properties)<input type='checkbox' class='ee-toggle'></label><ul><li><span class='ee-k'>id:</span><span class='ee-v'>3</span></li><li><span class='ee-k'>B2:</span><span class='ee-v'>461</span></li><li><span class='ee-k'>B3:</span><span class='ee-v'>523</span></li><li><span class='ee-k'>B4:</span><span class='ee-v'>322.5</span></li><li><span class='ee-k'>B8:</span><span class='ee-v'>265.5</span></li></ul></li></ul></li><li><label class='ee-shut'>152: Feature (5 properties)<input type='checkbox' class='ee-toggle'></label><ul><li><span class='ee-k'>type:</span><span class='ee-v'>Feature</span></li><li><span class='ee-k'>id:</span><span class='ee-v'>152_0</span></li><li><span class='ee-k'>geometry:</span><span class='ee-v'>None</span></li><li><label class='ee-shut'>properties: Object (5 properties)<input type='checkbox' class='ee-toggle'></label><ul><li><span class='ee-k'>id:</span><span class='ee-v'>3</span></li><li><span class='ee-k'>B2:</span><span class='ee-v'>418</span></li><li><span class='ee-k'>B3:</span><span class='ee-v'>499.5</span></li><li><span class='ee-k'>B4:</span><span class='ee-v'>301.5</span></li><li><span class='ee-k'>B8:</span><span class='ee-v'>241</span></li></ul></li></ul></li><li><label class='ee-shut'>153: Feature (5 properties)<input type='checkbox' class='ee-toggle'></label><ul><li><span class='ee-k'>type:</span><span class='ee-v'>Feature</span></li><li><span class='ee-k'>id:</span><span class='ee-v'>153_0</span></li><li><span class='ee-k'>geometry:</span><span class='ee-v'>None</span></li><li><label class='ee-shut'>properties: Object (5 properties)<input type='checkbox' class='ee-toggle'></label><ul><li><span class='ee-k'>id:</span><span class='ee-v'>3</span></li><li><span class='ee-k'>B2:</span><span class='ee-v'>422</span></li><li><span class='ee-k'>B3:</span><span class='ee-v'>509</span></li><li><span class='ee-k'>B4:</span><span class='ee-v'>416.5</span></li><li><span class='ee-k'>B8:</span><span class='ee-v'>455.5</span></li></ul></li></ul></li><li><label class='ee-shut'>154: Feature (5 properties)<input type='checkbox' class='ee-toggle'></label><ul><li><span class='ee-k'>type:</span><span class='ee-v'>Feature</span></li><li><span class='ee-k'>id:</span><span class='ee-v'>154_0</span></li><li><span class='ee-k'>geometry:</span><span class='ee-v'>None</span></li><li><label class='ee-shut'>properties: Object (5 properties)<input type='checkbox' class='ee-toggle'></label><ul><li><span class='ee-k'>id:</span><span class='ee-v'>3</span></li><li><span class='ee-k'>B2:</span><span class='ee-v'>344.5</span></li><li><span class='ee-k'>B3:</span><span class='ee-v'>453.5</span></li><li><span class='ee-k'>B4:</span><span class='ee-v'>326.5</span></li><li><span class='ee-k'>B8:</span><span class='ee-v'>186</span></li></ul></li></ul></li><li><label class='ee-shut'>155: Feature (5 properties)<input type='checkbox' class='ee-toggle'></label><ul><li><span class='ee-k'>type:</span><span class='ee-v'>Feature</span></li><li><span class='ee-k'>id:</span><span class='ee-v'>155_0</span></li><li><span class='ee-k'>geometry:</span><span class='ee-v'>None</span></li><li><label class='ee-shut'>properties: Object (5 properties)<input type='checkbox' class='ee-toggle'></label><ul><li><span class='ee-k'>id:</span><span class='ee-v'>3</span></li><li><span class='ee-k'>B2:</span><span class='ee-v'>416.5</span></li><li><span class='ee-k'>B3:</span><span class='ee-v'>508.5</span></li><li><span class='ee-k'>B4:</span><span class='ee-v'>378.5</span></li><li><span class='ee-k'>B8:</span><span class='ee-v'>459.5</span></li></ul></li></ul></li><li><label class='ee-shut'>156: Feature (5 properties)<input type='checkbox' class='ee-toggle'></label><ul><li><span class='ee-k'>type:</span><span class='ee-v'>Feature</span></li><li><span class='ee-k'>id:</span><span class='ee-v'>156_0</span></li><li><span class='ee-k'>geometry:</span><span class='ee-v'>None</span></li><li><label class='ee-shut'>properties: Object (5 properties)<input type='checkbox' class='ee-toggle'></label><ul><li><span class='ee-k'>id:</span><span class='ee-v'>3</span></li><li><span class='ee-k'>B2:</span><span class='ee-v'>302.5</span></li><li><span class='ee-k'>B3:</span><span class='ee-v'>434</span></li><li><span class='ee-k'>B4:</span><span class='ee-v'>293.5</span></li><li><span class='ee-k'>B8:</span><span class='ee-v'>305.5</span></li></ul></li></ul></li><li><label class='ee-shut'>157: Feature (5 properties)<input type='checkbox' class='ee-toggle'></label><ul><li><span class='ee-k'>type:</span><span class='ee-v'>Feature</span></li><li><span class='ee-k'>id:</span><span class='ee-v'>157_0</span></li><li><span class='ee-k'>geometry:</span><span class='ee-v'>None</span></li><li><label class='ee-shut'>properties: Object (5 properties)<input type='checkbox' class='ee-toggle'></label><ul><li><span class='ee-k'>id:</span><span class='ee-v'>3</span></li><li><span class='ee-k'>B2:</span><span class='ee-v'>428</span></li><li><span class='ee-k'>B3:</span><span class='ee-v'>472.5</span></li><li><span class='ee-k'>B4:</span><span class='ee-v'>349</span></li><li><span class='ee-k'>B8:</span><span class='ee-v'>260.5</span></li></ul></li></ul></li><li><label class='ee-shut'>158: Feature (5 properties)<input type='checkbox' class='ee-toggle'></label><ul><li><span class='ee-k'>type:</span><span class='ee-v'>Feature</span></li><li><span class='ee-k'>id:</span><span class='ee-v'>158_0</span></li><li><span class='ee-k'>geometry:</span><span class='ee-v'>None</span></li><li><label class='ee-shut'>properties: Object (5 properties)<input type='checkbox' class='ee-toggle'></label><ul><li><span class='ee-k'>id:</span><span class='ee-v'>3</span></li><li><span class='ee-k'>B2:</span><span class='ee-v'>301</span></li><li><span class='ee-k'>B3:</span><span class='ee-v'>400</span></li><li><span class='ee-k'>B4:</span><span class='ee-v'>301.5</span></li><li><span class='ee-k'>B8:</span><span class='ee-v'>188</span></li></ul></li></ul></li><li><label class='ee-shut'>159: Feature (5 properties)<input type='checkbox' class='ee-toggle'></label><ul><li><span class='ee-k'>type:</span><span class='ee-v'>Feature</span></li><li><span class='ee-k'>id:</span><span class='ee-v'>159_0</span></li><li><span class='ee-k'>geometry:</span><span class='ee-v'>None</span></li><li><label class='ee-shut'>properties: Object (5 properties)<input type='checkbox' class='ee-toggle'></label><ul><li><span class='ee-k'>id:</span><span class='ee-v'>3</span></li><li><span class='ee-k'>B2:</span><span class='ee-v'>346.5</span></li><li><span class='ee-k'>B3:</span><span class='ee-v'>369.5</span></li><li><span class='ee-k'>B4:</span><span class='ee-v'>219</span></li><li><span class='ee-k'>B8:</span><span class='ee-v'>119</span></li></ul></li></ul></li><li><label class='ee-shut'>160: Feature (5 properties)<input type='checkbox' class='ee-toggle'></label><ul><li><span class='ee-k'>type:</span><span class='ee-v'>Feature</span></li><li><span class='ee-k'>id:</span><span class='ee-v'>160_0</span></li><li><span class='ee-k'>geometry:</span><span class='ee-v'>None</span></li><li><label class='ee-shut'>properties: Object (5 properties)<input type='checkbox' class='ee-toggle'></label><ul><li><span class='ee-k'>id:</span><span class='ee-v'>3</span></li><li><span class='ee-k'>B2:</span><span class='ee-v'>452.5</span></li><li><span class='ee-k'>B3:</span><span class='ee-v'>503.5</span></li><li><span class='ee-k'>B4:</span><span class='ee-v'>315.5</span></li><li><span class='ee-k'>B8:</span><span class='ee-v'>169</span></li></ul></li></ul></li><li><label class='ee-shut'>161: Feature (5 properties)<input type='checkbox' class='ee-toggle'></label><ul><li><span class='ee-k'>type:</span><span class='ee-v'>Feature</span></li><li><span class='ee-k'>id:</span><span class='ee-v'>161_0</span></li><li><span class='ee-k'>geometry:</span><span class='ee-v'>None</span></li><li><label class='ee-shut'>properties: Object (5 properties)<input type='checkbox' class='ee-toggle'></label><ul><li><span class='ee-k'>id:</span><span class='ee-v'>3</span></li><li><span class='ee-k'>B2:</span><span class='ee-v'>584.5</span></li><li><span class='ee-k'>B3:</span><span class='ee-v'>694</span></li><li><span class='ee-k'>B4:</span><span class='ee-v'>487.5</span></li><li><span class='ee-k'>B8:</span><span class='ee-v'>390.5</span></li></ul></li></ul></li><li><label class='ee-shut'>162: Feature (5 properties)<input type='checkbox' class='ee-toggle'></label><ul><li><span class='ee-k'>type:</span><span class='ee-v'>Feature</span></li><li><span class='ee-k'>id:</span><span class='ee-v'>162_0</span></li><li><span class='ee-k'>geometry:</span><span class='ee-v'>None</span></li><li><label class='ee-shut'>properties: Object (5 properties)<input type='checkbox' class='ee-toggle'></label><ul><li><span class='ee-k'>id:</span><span class='ee-v'>3</span></li><li><span class='ee-k'>B2:</span><span class='ee-v'>578</span></li><li><span class='ee-k'>B3:</span><span class='ee-v'>1003</span></li><li><span class='ee-k'>B4:</span><span class='ee-v'>609.5</span></li><li><span class='ee-k'>B8:</span><span class='ee-v'>244</span></li></ul></li></ul></li><li><label class='ee-shut'>163: Feature (5 properties)<input type='checkbox' class='ee-toggle'></label><ul><li><span class='ee-k'>type:</span><span class='ee-v'>Feature</span></li><li><span class='ee-k'>id:</span><span class='ee-v'>163_0</span></li><li><span class='ee-k'>geometry:</span><span class='ee-v'>None</span></li><li><label class='ee-shut'>properties: Object (5 properties)<input type='checkbox' class='ee-toggle'></label><ul><li><span class='ee-k'>id:</span><span class='ee-v'>3</span></li><li><span class='ee-k'>B2:</span><span class='ee-v'>591</span></li><li><span class='ee-k'>B3:</span><span class='ee-v'>1047.5</span></li><li><span class='ee-k'>B4:</span><span class='ee-v'>641</span></li><li><span class='ee-k'>B8:</span><span class='ee-v'>487</span></li></ul></li></ul></li><li><label class='ee-shut'>164: Feature (5 properties)<input type='checkbox' class='ee-toggle'></label><ul><li><span class='ee-k'>type:</span><span class='ee-v'>Feature</span></li><li><span class='ee-k'>id:</span><span class='ee-v'>164_0</span></li><li><span class='ee-k'>geometry:</span><span class='ee-v'>None</span></li><li><label class='ee-shut'>properties: Object (5 properties)<input type='checkbox' class='ee-toggle'></label><ul><li><span class='ee-k'>id:</span><span class='ee-v'>4</span></li><li><span class='ee-k'>B2:</span><span class='ee-v'>623</span></li><li><span class='ee-k'>B3:</span><span class='ee-v'>1051</span></li><li><span class='ee-k'>B4:</span><span class='ee-v'>1342</span></li><li><span class='ee-k'>B8:</span><span class='ee-v'>3315.5</span></li></ul></li></ul></li><li><label class='ee-shut'>165: Feature (5 properties)<input type='checkbox' class='ee-toggle'></label><ul><li><span class='ee-k'>type:</span><span class='ee-v'>Feature</span></li><li><span class='ee-k'>id:</span><span class='ee-v'>165_0</span></li><li><span class='ee-k'>geometry:</span><span class='ee-v'>None</span></li><li><label class='ee-shut'>properties: Object (5 properties)<input type='checkbox' class='ee-toggle'></label><ul><li><span class='ee-k'>id:</span><span class='ee-v'>4</span></li><li><span class='ee-k'>B2:</span><span class='ee-v'>383</span></li><li><span class='ee-k'>B3:</span><span class='ee-v'>631.5</span></li><li><span class='ee-k'>B4:</span><span class='ee-v'>428.5</span></li><li><span class='ee-k'>B8:</span><span class='ee-v'>4012.5</span></li></ul></li></ul></li><li><label class='ee-shut'>166: Feature (5 properties)<input type='checkbox' class='ee-toggle'></label><ul><li><span class='ee-k'>type:</span><span class='ee-v'>Feature</span></li><li><span class='ee-k'>id:</span><span class='ee-v'>166_0</span></li><li><span class='ee-k'>geometry:</span><span class='ee-v'>None</span></li><li><label class='ee-shut'>properties: Object (5 properties)<input type='checkbox' class='ee-toggle'></label><ul><li><span class='ee-k'>id:</span><span class='ee-v'>4</span></li><li><span class='ee-k'>B2:</span><span class='ee-v'>365.5</span></li><li><span class='ee-k'>B3:</span><span class='ee-v'>695.5</span></li><li><span class='ee-k'>B4:</span><span class='ee-v'>356</span></li><li><span class='ee-k'>B8:</span><span class='ee-v'>5229.5</span></li></ul></li></ul></li><li><label class='ee-shut'>167: Feature (5 properties)<input type='checkbox' class='ee-toggle'></label><ul><li><span class='ee-k'>type:</span><span class='ee-v'>Feature</span></li><li><span class='ee-k'>id:</span><span class='ee-v'>167_0</span></li><li><span class='ee-k'>geometry:</span><span class='ee-v'>None</span></li><li><label class='ee-shut'>properties: Object (5 properties)<input type='checkbox' class='ee-toggle'></label><ul><li><span class='ee-k'>id:</span><span class='ee-v'>4</span></li><li><span class='ee-k'>B2:</span><span class='ee-v'>419.5</span></li><li><span class='ee-k'>B3:</span><span class='ee-v'>802</span></li><li><span class='ee-k'>B4:</span><span class='ee-v'>559</span></li><li><span class='ee-k'>B8:</span><span class='ee-v'>3568</span></li></ul></li></ul></li><li><label class='ee-shut'>168: Feature (5 properties)<input type='checkbox' class='ee-toggle'></label><ul><li><span class='ee-k'>type:</span><span class='ee-v'>Feature</span></li><li><span class='ee-k'>id:</span><span class='ee-v'>168_0</span></li><li><span class='ee-k'>geometry:</span><span class='ee-v'>None</span></li><li><label class='ee-shut'>properties: Object (5 properties)<input type='checkbox' class='ee-toggle'></label><ul><li><span class='ee-k'>id:</span><span class='ee-v'>4</span></li><li><span class='ee-k'>B2:</span><span class='ee-v'>377</span></li><li><span class='ee-k'>B3:</span><span class='ee-v'>719.5</span></li><li><span class='ee-k'>B4:</span><span class='ee-v'>392.5</span></li><li><span class='ee-k'>B8:</span><span class='ee-v'>4013.5</span></li></ul></li></ul></li><li><label class='ee-shut'>169: Feature (5 properties)<input type='checkbox' class='ee-toggle'></label><ul><li><span class='ee-k'>type:</span><span class='ee-v'>Feature</span></li><li><span class='ee-k'>id:</span><span class='ee-v'>169_0</span></li><li><span class='ee-k'>geometry:</span><span class='ee-v'>None</span></li><li><label class='ee-shut'>properties: Object (5 properties)<input type='checkbox' class='ee-toggle'></label><ul><li><span class='ee-k'>id:</span><span class='ee-v'>4</span></li><li><span class='ee-k'>B2:</span><span class='ee-v'>351</span></li><li><span class='ee-k'>B3:</span><span class='ee-v'>622</span></li><li><span class='ee-k'>B4:</span><span class='ee-v'>342.5</span></li><li><span class='ee-k'>B8:</span><span class='ee-v'>4543</span></li></ul></li></ul></li><li><label class='ee-shut'>170: Feature (5 properties)<input type='checkbox' class='ee-toggle'></label><ul><li><span class='ee-k'>type:</span><span class='ee-v'>Feature</span></li><li><span class='ee-k'>id:</span><span class='ee-v'>170_0</span></li><li><span class='ee-k'>geometry:</span><span class='ee-v'>None</span></li><li><label class='ee-shut'>properties: Object (5 properties)<input type='checkbox' class='ee-toggle'></label><ul><li><span class='ee-k'>id:</span><span class='ee-v'>4</span></li><li><span class='ee-k'>B2:</span><span class='ee-v'>402.5</span></li><li><span class='ee-k'>B3:</span><span class='ee-v'>681</span></li><li><span class='ee-k'>B4:</span><span class='ee-v'>463</span></li><li><span class='ee-k'>B8:</span><span class='ee-v'>4035.5</span></li></ul></li></ul></li><li><label class='ee-shut'>171: Feature (5 properties)<input type='checkbox' class='ee-toggle'></label><ul><li><span class='ee-k'>type:</span><span class='ee-v'>Feature</span></li><li><span class='ee-k'>id:</span><span class='ee-v'>171_0</span></li><li><span class='ee-k'>geometry:</span><span class='ee-v'>None</span></li><li><label class='ee-shut'>properties: Object (5 properties)<input type='checkbox' class='ee-toggle'></label><ul><li><span class='ee-k'>id:</span><span class='ee-v'>4</span></li><li><span class='ee-k'>B2:</span><span class='ee-v'>630.5</span></li><li><span class='ee-k'>B3:</span><span class='ee-v'>1155</span></li><li><span class='ee-k'>B4:</span><span class='ee-v'>1674.5</span></li><li><span class='ee-k'>B8:</span><span class='ee-v'>3302.5</span></li></ul></li></ul></li><li><label class='ee-shut'>172: Feature (5 properties)<input type='checkbox' class='ee-toggle'></label><ul><li><span class='ee-k'>type:</span><span class='ee-v'>Feature</span></li><li><span class='ee-k'>id:</span><span class='ee-v'>172_0</span></li><li><span class='ee-k'>geometry:</span><span class='ee-v'>None</span></li><li><label class='ee-shut'>properties: Object (5 properties)<input type='checkbox' class='ee-toggle'></label><ul><li><span class='ee-k'>id:</span><span class='ee-v'>4</span></li><li><span class='ee-k'>B2:</span><span class='ee-v'>470</span></li><li><span class='ee-k'>B3:</span><span class='ee-v'>739</span></li><li><span class='ee-k'>B4:</span><span class='ee-v'>1015</span></li><li><span class='ee-k'>B8:</span><span class='ee-v'>3219</span></li></ul></li></ul></li><li><label class='ee-shut'>173: Feature (5 properties)<input type='checkbox' class='ee-toggle'></label><ul><li><span class='ee-k'>type:</span><span class='ee-v'>Feature</span></li><li><span class='ee-k'>id:</span><span class='ee-v'>173_0</span></li><li><span class='ee-k'>geometry:</span><span class='ee-v'>None</span></li><li><label class='ee-shut'>properties: Object (5 properties)<input type='checkbox' class='ee-toggle'></label><ul><li><span class='ee-k'>id:</span><span class='ee-v'>4</span></li><li><span class='ee-k'>B2:</span><span class='ee-v'>421.5</span></li><li><span class='ee-k'>B3:</span><span class='ee-v'>752</span></li><li><span class='ee-k'>B4:</span><span class='ee-v'>507.5</span></li><li><span class='ee-k'>B8:</span><span class='ee-v'>3873</span></li></ul></li></ul></li><li><label class='ee-shut'>174: Feature (5 properties)<input type='checkbox' class='ee-toggle'></label><ul><li><span class='ee-k'>type:</span><span class='ee-v'>Feature</span></li><li><span class='ee-k'>id:</span><span class='ee-v'>174_0</span></li><li><span class='ee-k'>geometry:</span><span class='ee-v'>None</span></li><li><label class='ee-shut'>properties: Object (5 properties)<input type='checkbox' class='ee-toggle'></label><ul><li><span class='ee-k'>id:</span><span class='ee-v'>4</span></li><li><span class='ee-k'>B2:</span><span class='ee-v'>477.5</span></li><li><span class='ee-k'>B3:</span><span class='ee-v'>951</span></li><li><span class='ee-k'>B4:</span><span class='ee-v'>1009.5</span></li><li><span class='ee-k'>B8:</span><span class='ee-v'>4311.5</span></li></ul></li></ul></li><li><label class='ee-shut'>175: Feature (5 properties)<input type='checkbox' class='ee-toggle'></label><ul><li><span class='ee-k'>type:</span><span class='ee-v'>Feature</span></li><li><span class='ee-k'>id:</span><span class='ee-v'>175_0</span></li><li><span class='ee-k'>geometry:</span><span class='ee-v'>None</span></li><li><label class='ee-shut'>properties: Object (5 properties)<input type='checkbox' class='ee-toggle'></label><ul><li><span class='ee-k'>id:</span><span class='ee-v'>4</span></li><li><span class='ee-k'>B2:</span><span class='ee-v'>635.5</span></li><li><span class='ee-k'>B3:</span><span class='ee-v'>1131</span></li><li><span class='ee-k'>B4:</span><span class='ee-v'>1249.5</span></li><li><span class='ee-k'>B8:</span><span class='ee-v'>3850</span></li></ul></li></ul></li><li><label class='ee-shut'>176: Feature (5 properties)<input type='checkbox' class='ee-toggle'></label><ul><li><span class='ee-k'>type:</span><span class='ee-v'>Feature</span></li><li><span class='ee-k'>id:</span><span class='ee-v'>176_0</span></li><li><span class='ee-k'>geometry:</span><span class='ee-v'>None</span></li><li><label class='ee-shut'>properties: Object (5 properties)<input type='checkbox' class='ee-toggle'></label><ul><li><span class='ee-k'>id:</span><span class='ee-v'>4</span></li><li><span class='ee-k'>B2:</span><span class='ee-v'>329</span></li><li><span class='ee-k'>B3:</span><span class='ee-v'>551.5</span></li><li><span class='ee-k'>B4:</span><span class='ee-v'>326</span></li><li><span class='ee-k'>B8:</span><span class='ee-v'>3844</span></li></ul></li></ul></li><li><label class='ee-shut'>177: Feature (5 properties)<input type='checkbox' class='ee-toggle'></label><ul><li><span class='ee-k'>type:</span><span class='ee-v'>Feature</span></li><li><span class='ee-k'>id:</span><span class='ee-v'>177_0</span></li><li><span class='ee-k'>geometry:</span><span class='ee-v'>None</span></li><li><label class='ee-shut'>properties: Object (5 properties)<input type='checkbox' class='ee-toggle'></label><ul><li><span class='ee-k'>id:</span><span class='ee-v'>4</span></li><li><span class='ee-k'>B2:</span><span class='ee-v'>644.5</span></li><li><span class='ee-k'>B3:</span><span class='ee-v'>1013</span></li><li><span class='ee-k'>B4:</span><span class='ee-v'>1319.5</span></li><li><span class='ee-k'>B8:</span><span class='ee-v'>3187.5</span></li></ul></li></ul></li><li><label class='ee-shut'>178: Feature (5 properties)<input type='checkbox' class='ee-toggle'></label><ul><li><span class='ee-k'>type:</span><span class='ee-v'>Feature</span></li><li><span class='ee-k'>id:</span><span class='ee-v'>178_0</span></li><li><span class='ee-k'>geometry:</span><span class='ee-v'>None</span></li><li><label class='ee-shut'>properties: Object (5 properties)<input type='checkbox' class='ee-toggle'></label><ul><li><span class='ee-k'>id:</span><span class='ee-v'>4</span></li><li><span class='ee-k'>B2:</span><span class='ee-v'>564.5</span></li><li><span class='ee-k'>B3:</span><span class='ee-v'>882</span></li><li><span class='ee-k'>B4:</span><span class='ee-v'>1026.5</span></li><li><span class='ee-k'>B8:</span><span class='ee-v'>3294.5</span></li></ul></li></ul></li><li><label class='ee-shut'>179: Feature (5 properties)<input type='checkbox' class='ee-toggle'></label><ul><li><span class='ee-k'>type:</span><span class='ee-v'>Feature</span></li><li><span class='ee-k'>id:</span><span class='ee-v'>179_0</span></li><li><span class='ee-k'>geometry:</span><span class='ee-v'>None</span></li><li><label class='ee-shut'>properties: Object (5 properties)<input type='checkbox' class='ee-toggle'></label><ul><li><span class='ee-k'>id:</span><span class='ee-v'>4</span></li><li><span class='ee-k'>B2:</span><span class='ee-v'>450</span></li><li><span class='ee-k'>B3:</span><span class='ee-v'>841.5</span></li><li><span class='ee-k'>B4:</span><span class='ee-v'>971</span></li><li><span class='ee-k'>B8:</span><span class='ee-v'>3894</span></li></ul></li></ul></li><li><label class='ee-shut'>180: Feature (5 properties)<input type='checkbox' class='ee-toggle'></label><ul><li><span class='ee-k'>type:</span><span class='ee-v'>Feature</span></li><li><span class='ee-k'>id:</span><span class='ee-v'>180_0</span></li><li><span class='ee-k'>geometry:</span><span class='ee-v'>None</span></li><li><label class='ee-shut'>properties: Object (5 properties)<input type='checkbox' class='ee-toggle'></label><ul><li><span class='ee-k'>id:</span><span class='ee-v'>4</span></li><li><span class='ee-k'>B2:</span><span class='ee-v'>350</span></li><li><span class='ee-k'>B3:</span><span class='ee-v'>590</span></li><li><span class='ee-k'>B4:</span><span class='ee-v'>529.5</span></li><li><span class='ee-k'>B8:</span><span class='ee-v'>3193.5</span></li></ul></li></ul></li><li><label class='ee-shut'>181: Feature (5 properties)<input type='checkbox' class='ee-toggle'></label><ul><li><span class='ee-k'>type:</span><span class='ee-v'>Feature</span></li><li><span class='ee-k'>id:</span><span class='ee-v'>181_0</span></li><li><span class='ee-k'>geometry:</span><span class='ee-v'>None</span></li><li><label class='ee-shut'>properties: Object (5 properties)<input type='checkbox' class='ee-toggle'></label><ul><li><span class='ee-k'>id:</span><span class='ee-v'>4</span></li><li><span class='ee-k'>B2:</span><span class='ee-v'>365</span></li><li><span class='ee-k'>B3:</span><span class='ee-v'>625</span></li><li><span class='ee-k'>B4:</span><span class='ee-v'>555.5</span></li><li><span class='ee-k'>B8:</span><span class='ee-v'>3423.5</span></li></ul></li></ul></li><li><label class='ee-shut'>182: Feature (5 properties)<input type='checkbox' class='ee-toggle'></label><ul><li><span class='ee-k'>type:</span><span class='ee-v'>Feature</span></li><li><span class='ee-k'>id:</span><span class='ee-v'>182_0</span></li><li><span class='ee-k'>geometry:</span><span class='ee-v'>None</span></li><li><label class='ee-shut'>properties: Object (5 properties)<input type='checkbox' class='ee-toggle'></label><ul><li><span class='ee-k'>id:</span><span class='ee-v'>4</span></li><li><span class='ee-k'>B2:</span><span class='ee-v'>481</span></li><li><span class='ee-k'>B3:</span><span class='ee-v'>790</span></li><li><span class='ee-k'>B4:</span><span class='ee-v'>550</span></li><li><span class='ee-k'>B8:</span><span class='ee-v'>3868</span></li></ul></li></ul></li><li><label class='ee-shut'>183: Feature (5 properties)<input type='checkbox' class='ee-toggle'></label><ul><li><span class='ee-k'>type:</span><span class='ee-v'>Feature</span></li><li><span class='ee-k'>id:</span><span class='ee-v'>183_0</span></li><li><span class='ee-k'>geometry:</span><span class='ee-v'>None</span></li><li><label class='ee-shut'>properties: Object (5 properties)<input type='checkbox' class='ee-toggle'></label><ul><li><span class='ee-k'>id:</span><span class='ee-v'>4</span></li><li><span class='ee-k'>B2:</span><span class='ee-v'>454.5</span></li><li><span class='ee-k'>B3:</span><span class='ee-v'>740</span></li><li><span class='ee-k'>B4:</span><span class='ee-v'>437</span></li><li><span class='ee-k'>B8:</span><span class='ee-v'>3785.5</span></li></ul></li></ul></li><li><label class='ee-shut'>184: Feature (5 properties)<input type='checkbox' class='ee-toggle'></label><ul><li><span class='ee-k'>type:</span><span class='ee-v'>Feature</span></li><li><span class='ee-k'>id:</span><span class='ee-v'>184_0</span></li><li><span class='ee-k'>geometry:</span><span class='ee-v'>None</span></li><li><label class='ee-shut'>properties: Object (5 properties)<input type='checkbox' class='ee-toggle'></label><ul><li><span class='ee-k'>id:</span><span class='ee-v'>4</span></li><li><span class='ee-k'>B2:</span><span class='ee-v'>599.5</span></li><li><span class='ee-k'>B3:</span><span class='ee-v'>917.5</span></li><li><span class='ee-k'>B4:</span><span class='ee-v'>876</span></li><li><span class='ee-k'>B8:</span><span class='ee-v'>3613.5</span></li></ul></li></ul></li><li><label class='ee-shut'>185: Feature (5 properties)<input type='checkbox' class='ee-toggle'></label><ul><li><span class='ee-k'>type:</span><span class='ee-v'>Feature</span></li><li><span class='ee-k'>id:</span><span class='ee-v'>185_0</span></li><li><span class='ee-k'>geometry:</span><span class='ee-v'>None</span></li><li><label class='ee-shut'>properties: Object (5 properties)<input type='checkbox' class='ee-toggle'></label><ul><li><span class='ee-k'>id:</span><span class='ee-v'>4</span></li><li><span class='ee-k'>B2:</span><span class='ee-v'>411</span></li><li><span class='ee-k'>B3:</span><span class='ee-v'>760.5</span></li><li><span class='ee-k'>B4:</span><span class='ee-v'>478</span></li><li><span class='ee-k'>B8:</span><span class='ee-v'>3773.5</span></li></ul></li></ul></li><li><label class='ee-shut'>186: Feature (5 properties)<input type='checkbox' class='ee-toggle'></label><ul><li><span class='ee-k'>type:</span><span class='ee-v'>Feature</span></li><li><span class='ee-k'>id:</span><span class='ee-v'>186_0</span></li><li><span class='ee-k'>geometry:</span><span class='ee-v'>None</span></li><li><label class='ee-shut'>properties: Object (5 properties)<input type='checkbox' class='ee-toggle'></label><ul><li><span class='ee-k'>id:</span><span class='ee-v'>4</span></li><li><span class='ee-k'>B2:</span><span class='ee-v'>594</span></li><li><span class='ee-k'>B3:</span><span class='ee-v'>949.5</span></li><li><span class='ee-k'>B4:</span><span class='ee-v'>631</span></li><li><span class='ee-k'>B8:</span><span class='ee-v'>3936</span></li></ul></li></ul></li><li><label class='ee-shut'>187: Feature (5 properties)<input type='checkbox' class='ee-toggle'></label><ul><li><span class='ee-k'>type:</span><span class='ee-v'>Feature</span></li><li><span class='ee-k'>id:</span><span class='ee-v'>187_0</span></li><li><span class='ee-k'>geometry:</span><span class='ee-v'>None</span></li><li><label class='ee-shut'>properties: Object (5 properties)<input type='checkbox' class='ee-toggle'></label><ul><li><span class='ee-k'>id:</span><span class='ee-v'>4</span></li><li><span class='ee-k'>B2:</span><span class='ee-v'>415.5</span></li><li><span class='ee-k'>B3:</span><span class='ee-v'>745.5</span></li><li><span class='ee-k'>B4:</span><span class='ee-v'>465</span></li><li><span class='ee-k'>B8:</span><span class='ee-v'>4260.5</span></li></ul></li></ul></li><li><label class='ee-shut'>188: Feature (5 properties)<input type='checkbox' class='ee-toggle'></label><ul><li><span class='ee-k'>type:</span><span class='ee-v'>Feature</span></li><li><span class='ee-k'>id:</span><span class='ee-v'>188_0</span></li><li><span class='ee-k'>geometry:</span><span class='ee-v'>None</span></li><li><label class='ee-shut'>properties: Object (5 properties)<input type='checkbox' class='ee-toggle'></label><ul><li><span class='ee-k'>id:</span><span class='ee-v'>4</span></li><li><span class='ee-k'>B2:</span><span class='ee-v'>351</span></li><li><span class='ee-k'>B3:</span><span class='ee-v'>698</span></li><li><span class='ee-k'>B4:</span><span class='ee-v'>352</span></li><li><span class='ee-k'>B8:</span><span class='ee-v'>4440</span></li></ul></li></ul></li><li><label class='ee-shut'>189: Feature (5 properties)<input type='checkbox' class='ee-toggle'></label><ul><li><span class='ee-k'>type:</span><span class='ee-v'>Feature</span></li><li><span class='ee-k'>id:</span><span class='ee-v'>189_0</span></li><li><span class='ee-k'>geometry:</span><span class='ee-v'>None</span></li><li><label class='ee-shut'>properties: Object (5 properties)<input type='checkbox' class='ee-toggle'></label><ul><li><span class='ee-k'>id:</span><span class='ee-v'>4</span></li><li><span class='ee-k'>B2:</span><span class='ee-v'>472.5</span></li><li><span class='ee-k'>B3:</span><span class='ee-v'>839</span></li><li><span class='ee-k'>B4:</span><span class='ee-v'>671.5</span></li><li><span class='ee-k'>B8:</span><span class='ee-v'>3760</span></li></ul></li></ul></li><li><label class='ee-shut'>190: Feature (5 properties)<input type='checkbox' class='ee-toggle'></label><ul><li><span class='ee-k'>type:</span><span class='ee-v'>Feature</span></li><li><span class='ee-k'>id:</span><span class='ee-v'>190_0</span></li><li><span class='ee-k'>geometry:</span><span class='ee-v'>None</span></li><li><label class='ee-shut'>properties: Object (5 properties)<input type='checkbox' class='ee-toggle'></label><ul><li><span class='ee-k'>id:</span><span class='ee-v'>4</span></li><li><span class='ee-k'>B2:</span><span class='ee-v'>543.5</span></li><li><span class='ee-k'>B3:</span><span class='ee-v'>881.5</span></li><li><span class='ee-k'>B4:</span><span class='ee-v'>556.5</span></li><li><span class='ee-k'>B8:</span><span class='ee-v'>4158</span></li></ul></li></ul></li><li><label class='ee-shut'>191: Feature (5 properties)<input type='checkbox' class='ee-toggle'></label><ul><li><span class='ee-k'>type:</span><span class='ee-v'>Feature</span></li><li><span class='ee-k'>id:</span><span class='ee-v'>191_0</span></li><li><span class='ee-k'>geometry:</span><span class='ee-v'>None</span></li><li><label class='ee-shut'>properties: Object (5 properties)<input type='checkbox' class='ee-toggle'></label><ul><li><span class='ee-k'>id:</span><span class='ee-v'>4</span></li><li><span class='ee-k'>B2:</span><span class='ee-v'>546.5</span></li><li><span class='ee-k'>B3:</span><span class='ee-v'>819.5</span></li><li><span class='ee-k'>B4:</span><span class='ee-v'>515</span></li><li><span class='ee-k'>B8:</span><span class='ee-v'>4211.5</span></li></ul></li></ul></li><li><label class='ee-shut'>192: Feature (5 properties)<input type='checkbox' class='ee-toggle'></label><ul><li><span class='ee-k'>type:</span><span class='ee-v'>Feature</span></li><li><span class='ee-k'>id:</span><span class='ee-v'>192_0</span></li><li><span class='ee-k'>geometry:</span><span class='ee-v'>None</span></li><li><label class='ee-shut'>properties: Object (5 properties)<input type='checkbox' class='ee-toggle'></label><ul><li><span class='ee-k'>id:</span><span class='ee-v'>4</span></li><li><span class='ee-k'>B2:</span><span class='ee-v'>515.5</span></li><li><span class='ee-k'>B3:</span><span class='ee-v'>771.5</span></li><li><span class='ee-k'>B4:</span><span class='ee-v'>655.5</span></li><li><span class='ee-k'>B8:</span><span class='ee-v'>3479.5</span></li></ul></li></ul></li><li><label class='ee-shut'>193: Feature (5 properties)<input type='checkbox' class='ee-toggle'></label><ul><li><span class='ee-k'>type:</span><span class='ee-v'>Feature</span></li><li><span class='ee-k'>id:</span><span class='ee-v'>193_0</span></li><li><span class='ee-k'>geometry:</span><span class='ee-v'>None</span></li><li><label class='ee-shut'>properties: Object (5 properties)<input type='checkbox' class='ee-toggle'></label><ul><li><span class='ee-k'>id:</span><span class='ee-v'>4</span></li><li><span class='ee-k'>B2:</span><span class='ee-v'>522</span></li><li><span class='ee-k'>B3:</span><span class='ee-v'>807</span></li><li><span class='ee-k'>B4:</span><span class='ee-v'>613.5</span></li><li><span class='ee-k'>B8:</span><span class='ee-v'>3994.5</span></li></ul></li></ul></li><li><label class='ee-shut'>194: Feature (5 properties)<input type='checkbox' class='ee-toggle'></label><ul><li><span class='ee-k'>type:</span><span class='ee-v'>Feature</span></li><li><span class='ee-k'>id:</span><span class='ee-v'>194_0</span></li><li><span class='ee-k'>geometry:</span><span class='ee-v'>None</span></li><li><label class='ee-shut'>properties: Object (5 properties)<input type='checkbox' class='ee-toggle'></label><ul><li><span class='ee-k'>id:</span><span class='ee-v'>4</span></li><li><span class='ee-k'>B2:</span><span class='ee-v'>368.5</span></li><li><span class='ee-k'>B3:</span><span class='ee-v'>828.5</span></li><li><span class='ee-k'>B4:</span><span class='ee-v'>443.5</span></li><li><span class='ee-k'>B8:</span><span class='ee-v'>4521</span></li></ul></li></ul></li><li><label class='ee-shut'>195: Feature (5 properties)<input type='checkbox' class='ee-toggle'></label><ul><li><span class='ee-k'>type:</span><span class='ee-v'>Feature</span></li><li><span class='ee-k'>id:</span><span class='ee-v'>195_0</span></li><li><span class='ee-k'>geometry:</span><span class='ee-v'>None</span></li><li><label class='ee-shut'>properties: Object (5 properties)<input type='checkbox' class='ee-toggle'></label><ul><li><span class='ee-k'>id:</span><span class='ee-v'>4</span></li><li><span class='ee-k'>B2:</span><span class='ee-v'>419.5</span></li><li><span class='ee-k'>B3:</span><span class='ee-v'>750</span></li><li><span class='ee-k'>B4:</span><span class='ee-v'>522.5</span></li><li><span class='ee-k'>B8:</span><span class='ee-v'>4304</span></li></ul></li></ul></li><li><label class='ee-shut'>196: Feature (5 properties)<input type='checkbox' class='ee-toggle'></label><ul><li><span class='ee-k'>type:</span><span class='ee-v'>Feature</span></li><li><span class='ee-k'>id:</span><span class='ee-v'>196_0</span></li><li><span class='ee-k'>geometry:</span><span class='ee-v'>None</span></li><li><label class='ee-shut'>properties: Object (5 properties)<input type='checkbox' class='ee-toggle'></label><ul><li><span class='ee-k'>id:</span><span class='ee-v'>4</span></li><li><span class='ee-k'>B2:</span><span class='ee-v'>460</span></li><li><span class='ee-k'>B3:</span><span class='ee-v'>849</span></li><li><span class='ee-k'>B4:</span><span class='ee-v'>543.5</span></li><li><span class='ee-k'>B8:</span><span class='ee-v'>4395</span></li></ul></li></ul></li><li><label class='ee-shut'>197: Feature (5 properties)<input type='checkbox' class='ee-toggle'></label><ul><li><span class='ee-k'>type:</span><span class='ee-v'>Feature</span></li><li><span class='ee-k'>id:</span><span class='ee-v'>197_0</span></li><li><span class='ee-k'>geometry:</span><span class='ee-v'>None</span></li><li><label class='ee-shut'>properties: Object (5 properties)<input type='checkbox' class='ee-toggle'></label><ul><li><span class='ee-k'>id:</span><span class='ee-v'>4</span></li><li><span class='ee-k'>B2:</span><span class='ee-v'>438</span></li><li><span class='ee-k'>B3:</span><span class='ee-v'>906</span></li><li><span class='ee-k'>B4:</span><span class='ee-v'>508.5</span></li><li><span class='ee-k'>B8:</span><span class='ee-v'>4034.5</span></li></ul></li></ul></li><li><label class='ee-shut'>198: Feature (5 properties)<input type='checkbox' class='ee-toggle'></label><ul><li><span class='ee-k'>type:</span><span class='ee-v'>Feature</span></li><li><span class='ee-k'>id:</span><span class='ee-v'>198_0</span></li><li><span class='ee-k'>geometry:</span><span class='ee-v'>None</span></li><li><label class='ee-shut'>properties: Object (5 properties)<input type='checkbox' class='ee-toggle'></label><ul><li><span class='ee-k'>id:</span><span class='ee-v'>4</span></li><li><span class='ee-k'>B2:</span><span class='ee-v'>468.5</span></li><li><span class='ee-k'>B3:</span><span class='ee-v'>907</span></li><li><span class='ee-k'>B4:</span><span class='ee-v'>681</span></li><li><span class='ee-k'>B8:</span><span class='ee-v'>3498</span></li></ul></li></ul></li><li><label class='ee-shut'>199: Feature (5 properties)<input type='checkbox' class='ee-toggle'></label><ul><li><span class='ee-k'>type:</span><span class='ee-v'>Feature</span></li><li><span class='ee-k'>id:</span><span class='ee-v'>199_0</span></li><li><span class='ee-k'>geometry:</span><span class='ee-v'>None</span></li><li><label class='ee-shut'>properties: Object (5 properties)<input type='checkbox' class='ee-toggle'></label><ul><li><span class='ee-k'>id:</span><span class='ee-v'>4</span></li><li><span class='ee-k'>B2:</span><span class='ee-v'>536</span></li><li><span class='ee-k'>B3:</span><span class='ee-v'>1040</span></li><li><span class='ee-k'>B4:</span><span class='ee-v'>523</span></li><li><span class='ee-k'>B8:</span><span class='ee-v'>4343.5</span></li></ul></li></ul></li><li><label class='ee-shut'>200: Feature (5 properties)<input type='checkbox' class='ee-toggle'></label><ul><li><span class='ee-k'>type:</span><span class='ee-v'>Feature</span></li><li><span class='ee-k'>id:</span><span class='ee-v'>200_0</span></li><li><span class='ee-k'>geometry:</span><span class='ee-v'>None</span></li><li><label class='ee-shut'>properties: Object (5 properties)<input type='checkbox' class='ee-toggle'></label><ul><li><span class='ee-k'>id:</span><span class='ee-v'>4</span></li><li><span class='ee-k'>B2:</span><span class='ee-v'>586.5</span></li><li><span class='ee-k'>B3:</span><span class='ee-v'>1016.5</span></li><li><span class='ee-k'>B4:</span><span class='ee-v'>805</span></li><li><span class='ee-k'>B8:</span><span class='ee-v'>3581.5</span></li></ul></li></ul></li><li><label class='ee-shut'>201: Feature (5 properties)<input type='checkbox' class='ee-toggle'></label><ul><li><span class='ee-k'>type:</span><span class='ee-v'>Feature</span></li><li><span class='ee-k'>id:</span><span class='ee-v'>201_0</span></li><li><span class='ee-k'>geometry:</span><span class='ee-v'>None</span></li><li><label class='ee-shut'>properties: Object (5 properties)<input type='checkbox' class='ee-toggle'></label><ul><li><span class='ee-k'>id:</span><span class='ee-v'>4</span></li><li><span class='ee-k'>B2:</span><span class='ee-v'>527</span></li><li><span class='ee-k'>B3:</span><span class='ee-v'>802.5</span></li><li><span class='ee-k'>B4:</span><span class='ee-v'>458</span></li><li><span class='ee-k'>B8:</span><span class='ee-v'>4161</span></li></ul></li></ul></li><li><label class='ee-shut'>202: Feature (5 properties)<input type='checkbox' class='ee-toggle'></label><ul><li><span class='ee-k'>type:</span><span class='ee-v'>Feature</span></li><li><span class='ee-k'>id:</span><span class='ee-v'>202_0</span></li><li><span class='ee-k'>geometry:</span><span class='ee-v'>None</span></li><li><label class='ee-shut'>properties: Object (5 properties)<input type='checkbox' class='ee-toggle'></label><ul><li><span class='ee-k'>id:</span><span class='ee-v'>4</span></li><li><span class='ee-k'>B2:</span><span class='ee-v'>457</span></li><li><span class='ee-k'>B3:</span><span class='ee-v'>816.5</span></li><li><span class='ee-k'>B4:</span><span class='ee-v'>488.5</span></li><li><span class='ee-k'>B8:</span><span class='ee-v'>4144.5</span></li></ul></li></ul></li><li><label class='ee-shut'>203: Feature (5 properties)<input type='checkbox' class='ee-toggle'></label><ul><li><span class='ee-k'>type:</span><span class='ee-v'>Feature</span></li><li><span class='ee-k'>id:</span><span class='ee-v'>203_0</span></li><li><span class='ee-k'>geometry:</span><span class='ee-v'>None</span></li><li><label class='ee-shut'>properties: Object (5 properties)<input type='checkbox' class='ee-toggle'></label><ul><li><span class='ee-k'>id:</span><span class='ee-v'>4</span></li><li><span class='ee-k'>B2:</span><span class='ee-v'>409.9</span></li><li><span class='ee-k'>B3:</span><span class='ee-v'>673</span></li><li><span class='ee-k'>B4:</span><span class='ee-v'>423.1</span></li><li><span class='ee-k'>B8:</span><span class='ee-v'>4073.5</span></li></ul></li></ul></li><li><label class='ee-shut'>204: Feature (5 properties)<input type='checkbox' class='ee-toggle'></label><ul><li><span class='ee-k'>type:</span><span class='ee-v'>Feature</span></li><li><span class='ee-k'>id:</span><span class='ee-v'>204_0</span></li><li><span class='ee-k'>geometry:</span><span class='ee-v'>None</span></li><li><label class='ee-shut'>properties: Object (5 properties)<input type='checkbox' class='ee-toggle'></label><ul><li><span class='ee-k'>id:</span><span class='ee-v'>4</span></li><li><span class='ee-k'>B2:</span><span class='ee-v'>504</span></li><li><span class='ee-k'>B3:</span><span class='ee-v'>831</span></li><li><span class='ee-k'>B4:</span><span class='ee-v'>550</span></li><li><span class='ee-k'>B8:</span><span class='ee-v'>4069</span></li></ul></li></ul></li><li><label class='ee-shut'>205: Feature (5 properties)<input type='checkbox' class='ee-toggle'></label><ul><li><span class='ee-k'>type:</span><span class='ee-v'>Feature</span></li><li><span class='ee-k'>id:</span><span class='ee-v'>205_0</span></li><li><span class='ee-k'>geometry:</span><span class='ee-v'>None</span></li><li><label class='ee-shut'>properties: Object (5 properties)<input type='checkbox' class='ee-toggle'></label><ul><li><span class='ee-k'>id:</span><span class='ee-v'>4</span></li><li><span class='ee-k'>B2:</span><span class='ee-v'>486.5</span></li><li><span class='ee-k'>B3:</span><span class='ee-v'>811.5</span></li><li><span class='ee-k'>B4:</span><span class='ee-v'>615.5</span></li><li><span class='ee-k'>B8:</span><span class='ee-v'>3287</span></li></ul></li></ul></li><li><label class='ee-shut'>206: Feature (5 properties)<input type='checkbox' class='ee-toggle'></label><ul><li><span class='ee-k'>type:</span><span class='ee-v'>Feature</span></li><li><span class='ee-k'>id:</span><span class='ee-v'>206_0</span></li><li><span class='ee-k'>geometry:</span><span class='ee-v'>None</span></li><li><label class='ee-shut'>properties: Object (5 properties)<input type='checkbox' class='ee-toggle'></label><ul><li><span class='ee-k'>id:</span><span class='ee-v'>4</span></li><li><span class='ee-k'>B2:</span><span class='ee-v'>619.5</span></li><li><span class='ee-k'>B3:</span><span class='ee-v'>937</span></li><li><span class='ee-k'>B4:</span><span class='ee-v'>704</span></li><li><span class='ee-k'>B8:</span><span class='ee-v'>3889</span></li></ul></li></ul></li><li><label class='ee-shut'>207: Feature (5 properties)<input type='checkbox' class='ee-toggle'></label><ul><li><span class='ee-k'>type:</span><span class='ee-v'>Feature</span></li><li><span class='ee-k'>id:</span><span class='ee-v'>207_0</span></li><li><span class='ee-k'>geometry:</span><span class='ee-v'>None</span></li><li><label class='ee-shut'>properties: Object (5 properties)<input type='checkbox' class='ee-toggle'></label><ul><li><span class='ee-k'>id:</span><span class='ee-v'>4</span></li><li><span class='ee-k'>B2:</span><span class='ee-v'>457.5</span></li><li><span class='ee-k'>B3:</span><span class='ee-v'>841.5</span></li><li><span class='ee-k'>B4:</span><span class='ee-v'>543.5</span></li><li><span class='ee-k'>B8:</span><span class='ee-v'>4181.5</span></li></ul></li></ul></li><li><label class='ee-shut'>208: Feature (5 properties)<input type='checkbox' class='ee-toggle'></label><ul><li><span class='ee-k'>type:</span><span class='ee-v'>Feature</span></li><li><span class='ee-k'>id:</span><span class='ee-v'>208_0</span></li><li><span class='ee-k'>geometry:</span><span class='ee-v'>None</span></li><li><label class='ee-shut'>properties: Object (5 properties)<input type='checkbox' class='ee-toggle'></label><ul><li><span class='ee-k'>id:</span><span class='ee-v'>4</span></li><li><span class='ee-k'>B2:</span><span class='ee-v'>607.5</span></li><li><span class='ee-k'>B3:</span><span class='ee-v'>1054.75</span></li><li><span class='ee-k'>B4:</span><span class='ee-v'>812.7083333333333</span></li><li><span class='ee-k'>B8:</span><span class='ee-v'>3581.5</span></li></ul></li></ul></li><li><label class='ee-shut'>209: Feature (5 properties)<input type='checkbox' class='ee-toggle'></label><ul><li><span class='ee-k'>type:</span><span class='ee-v'>Feature</span></li><li><span class='ee-k'>id:</span><span class='ee-v'>209_0</span></li><li><span class='ee-k'>geometry:</span><span class='ee-v'>None</span></li><li><label class='ee-shut'>properties: Object (5 properties)<input type='checkbox' class='ee-toggle'></label><ul><li><span class='ee-k'>id:</span><span class='ee-v'>4</span></li><li><span class='ee-k'>B2:</span><span class='ee-v'>639</span></li><li><span class='ee-k'>B3:</span><span class='ee-v'>920</span></li><li><span class='ee-k'>B4:</span><span class='ee-v'>813</span></li><li><span class='ee-k'>B8:</span><span class='ee-v'>3339</span></li></ul></li></ul></li><li><label class='ee-shut'>210: Feature (5 properties)<input type='checkbox' class='ee-toggle'></label><ul><li><span class='ee-k'>type:</span><span class='ee-v'>Feature</span></li><li><span class='ee-k'>id:</span><span class='ee-v'>210_0</span></li><li><span class='ee-k'>geometry:</span><span class='ee-v'>None</span></li><li><label class='ee-shut'>properties: Object (5 properties)<input type='checkbox' class='ee-toggle'></label><ul><li><span class='ee-k'>id:</span><span class='ee-v'>4</span></li><li><span class='ee-k'>B2:</span><span class='ee-v'>413</span></li><li><span class='ee-k'>B3:</span><span class='ee-v'>798.5</span></li><li><span class='ee-k'>B4:</span><span class='ee-v'>518</span></li><li><span class='ee-k'>B8:</span><span class='ee-v'>4286</span></li></ul></li></ul></li><li><label class='ee-shut'>211: Feature (5 properties)<input type='checkbox' class='ee-toggle'></label><ul><li><span class='ee-k'>type:</span><span class='ee-v'>Feature</span></li><li><span class='ee-k'>id:</span><span class='ee-v'>211_0</span></li><li><span class='ee-k'>geometry:</span><span class='ee-v'>None</span></li><li><label class='ee-shut'>properties: Object (5 properties)<input type='checkbox' class='ee-toggle'></label><ul><li><span class='ee-k'>id:</span><span class='ee-v'>4</span></li><li><span class='ee-k'>B2:</span><span class='ee-v'>406</span></li><li><span class='ee-k'>B3:</span><span class='ee-v'>736</span></li><li><span class='ee-k'>B4:</span><span class='ee-v'>495.5</span></li><li><span class='ee-k'>B8:</span><span class='ee-v'>3825</span></li></ul></li></ul></li><li><label class='ee-shut'>212: Feature (5 properties)<input type='checkbox' class='ee-toggle'></label><ul><li><span class='ee-k'>type:</span><span class='ee-v'>Feature</span></li><li><span class='ee-k'>id:</span><span class='ee-v'>212_0</span></li><li><span class='ee-k'>geometry:</span><span class='ee-v'>None</span></li><li><label class='ee-shut'>properties: Object (5 properties)<input type='checkbox' class='ee-toggle'></label><ul><li><span class='ee-k'>id:</span><span class='ee-v'>4</span></li><li><span class='ee-k'>B2:</span><span class='ee-v'>598.6666666666666</span></li><li><span class='ee-k'>B3:</span><span class='ee-v'>927</span></li><li><span class='ee-k'>B4:</span><span class='ee-v'>724.1666666666666</span></li><li><span class='ee-k'>B8:</span><span class='ee-v'>4453.2</span></li></ul></li></ul></li><li><label class='ee-shut'>213: Feature (5 properties)<input type='checkbox' class='ee-toggle'></label><ul><li><span class='ee-k'>type:</span><span class='ee-v'>Feature</span></li><li><span class='ee-k'>id:</span><span class='ee-v'>213_0</span></li><li><span class='ee-k'>geometry:</span><span class='ee-v'>None</span></li><li><label class='ee-shut'>properties: Object (5 properties)<input type='checkbox' class='ee-toggle'></label><ul><li><span class='ee-k'>id:</span><span class='ee-v'>4</span></li><li><span class='ee-k'>B2:</span><span class='ee-v'>500.67857142857144</span></li><li><span class='ee-k'>B3:</span><span class='ee-v'>796.9090909090909</span></li><li><span class='ee-k'>B4:</span><span class='ee-v'>502.83333333333337</span></li><li><span class='ee-k'>B8:</span><span class='ee-v'>4441.714285714285</span></li></ul></li></ul></li><li><label class='ee-shut'>214: Feature (5 properties)<input type='checkbox' class='ee-toggle'></label><ul><li><span class='ee-k'>type:</span><span class='ee-v'>Feature</span></li><li><span class='ee-k'>id:</span><span class='ee-v'>214_0</span></li><li><span class='ee-k'>geometry:</span><span class='ee-v'>None</span></li><li><label class='ee-shut'>properties: Object (5 properties)<input type='checkbox' class='ee-toggle'></label><ul><li><span class='ee-k'>id:</span><span class='ee-v'>4</span></li><li><span class='ee-k'>B2:</span><span class='ee-v'>484.6923076923077</span></li><li><span class='ee-k'>B3:</span><span class='ee-v'>792.9375</span></li><li><span class='ee-k'>B4:</span><span class='ee-v'>545</span></li><li><span class='ee-k'>B8:</span><span class='ee-v'>4156.416666666666</span></li></ul></li></ul></li><li><label class='ee-shut'>215: Feature (5 properties)<input type='checkbox' class='ee-toggle'></label><ul><li><span class='ee-k'>type:</span><span class='ee-v'>Feature</span></li><li><span class='ee-k'>id:</span><span class='ee-v'>215_0</span></li><li><span class='ee-k'>geometry:</span><span class='ee-v'>None</span></li><li><label class='ee-shut'>properties: Object (5 properties)<input type='checkbox' class='ee-toggle'></label><ul><li><span class='ee-k'>id:</span><span class='ee-v'>4</span></li><li><span class='ee-k'>B2:</span><span class='ee-v'>596.7272727272727</span></li><li><span class='ee-k'>B3:</span><span class='ee-v'>905.125</span></li><li><span class='ee-k'>B4:</span><span class='ee-v'>736.8235294117648</span></li><li><span class='ee-k'>B8:</span><span class='ee-v'>3673</span></li></ul></li></ul></li><li><label class='ee-shut'>216: Feature (5 properties)<input type='checkbox' class='ee-toggle'></label><ul><li><span class='ee-k'>type:</span><span class='ee-v'>Feature</span></li><li><span class='ee-k'>id:</span><span class='ee-v'>216_0</span></li><li><span class='ee-k'>geometry:</span><span class='ee-v'>None</span></li><li><label class='ee-shut'>properties: Object (5 properties)<input type='checkbox' class='ee-toggle'></label><ul><li><span class='ee-k'>id:</span><span class='ee-v'>4</span></li><li><span class='ee-k'>B2:</span><span class='ee-v'>543.6666666666666</span></li><li><span class='ee-k'>B3:</span><span class='ee-v'>859</span></li><li><span class='ee-k'>B4:</span><span class='ee-v'>656</span></li><li><span class='ee-k'>B8:</span><span class='ee-v'>4362.5</span></li></ul></li></ul></li><li><label class='ee-shut'>217: Feature (5 properties)<input type='checkbox' class='ee-toggle'></label><ul><li><span class='ee-k'>type:</span><span class='ee-v'>Feature</span></li><li><span class='ee-k'>id:</span><span class='ee-v'>217_0</span></li><li><span class='ee-k'>geometry:</span><span class='ee-v'>None</span></li><li><label class='ee-shut'>properties: Object (5 properties)<input type='checkbox' class='ee-toggle'></label><ul><li><span class='ee-k'>id:</span><span class='ee-v'>4</span></li><li><span class='ee-k'>B2:</span><span class='ee-v'>476.375</span></li><li><span class='ee-k'>B3:</span><span class='ee-v'>861.9</span></li><li><span class='ee-k'>B4:</span><span class='ee-v'>540.4666666666667</span></li><li><span class='ee-k'>B8:</span><span class='ee-v'>3645.4</span></li></ul></li></ul></li><li><label class='ee-shut'>218: Feature (5 properties)<input type='checkbox' class='ee-toggle'></label><ul><li><span class='ee-k'>type:</span><span class='ee-v'>Feature</span></li><li><span class='ee-k'>id:</span><span class='ee-v'>218_0</span></li><li><span class='ee-k'>geometry:</span><span class='ee-v'>None</span></li><li><label class='ee-shut'>properties: Object (5 properties)<input type='checkbox' class='ee-toggle'></label><ul><li><span class='ee-k'>id:</span><span class='ee-v'>4</span></li><li><span class='ee-k'>B2:</span><span class='ee-v'>476.5</span></li><li><span class='ee-k'>B3:</span><span class='ee-v'>890</span></li><li><span class='ee-k'>B4:</span><span class='ee-v'>493</span></li><li><span class='ee-k'>B8:</span><span class='ee-v'>4732</span></li></ul></li></ul></li><li><label class='ee-shut'>219: Feature (5 properties)<input type='checkbox' class='ee-toggle'></label><ul><li><span class='ee-k'>type:</span><span class='ee-v'>Feature</span></li><li><span class='ee-k'>id:</span><span class='ee-v'>219_0</span></li><li><span class='ee-k'>geometry:</span><span class='ee-v'>None</span></li><li><label class='ee-shut'>properties: Object (5 properties)<input type='checkbox' class='ee-toggle'></label><ul><li><span class='ee-k'>id:</span><span class='ee-v'>4</span></li><li><span class='ee-k'>B2:</span><span class='ee-v'>370</span></li><li><span class='ee-k'>B3:</span><span class='ee-v'>701.5</span></li><li><span class='ee-k'>B4:</span><span class='ee-v'>394</span></li><li><span class='ee-k'>B8:</span><span class='ee-v'>4567.5</span></li></ul></li></ul></li><li><label class='ee-shut'>220: Feature (5 properties)<input type='checkbox' class='ee-toggle'></label><ul><li><span class='ee-k'>type:</span><span class='ee-v'>Feature</span></li><li><span class='ee-k'>id:</span><span class='ee-v'>220_0</span></li><li><span class='ee-k'>geometry:</span><span class='ee-v'>None</span></li><li><label class='ee-shut'>properties: Object (5 properties)<input type='checkbox' class='ee-toggle'></label><ul><li><span class='ee-k'>id:</span><span class='ee-v'>4</span></li><li><span class='ee-k'>B2:</span><span class='ee-v'>464.5</span></li><li><span class='ee-k'>B3:</span><span class='ee-v'>908</span></li><li><span class='ee-k'>B4:</span><span class='ee-v'>661.5</span></li><li><span class='ee-k'>B8:</span><span class='ee-v'>4248</span></li></ul></li></ul></li><li><label class='ee-shut'>221: Feature (5 properties)<input type='checkbox' class='ee-toggle'></label><ul><li><span class='ee-k'>type:</span><span class='ee-v'>Feature</span></li><li><span class='ee-k'>id:</span><span class='ee-v'>221_0</span></li><li><span class='ee-k'>geometry:</span><span class='ee-v'>None</span></li><li><label class='ee-shut'>properties: Object (5 properties)<input type='checkbox' class='ee-toggle'></label><ul><li><span class='ee-k'>id:</span><span class='ee-v'>4</span></li><li><span class='ee-k'>B2:</span><span class='ee-v'>436</span></li><li><span class='ee-k'>B3:</span><span class='ee-v'>681.5</span></li><li><span class='ee-k'>B4:</span><span class='ee-v'>463.5</span></li><li><span class='ee-k'>B8:</span><span class='ee-v'>3973.5</span></li></ul></li></ul></li><li><label class='ee-shut'>222: Feature (5 properties)<input type='checkbox' class='ee-toggle'></label><ul><li><span class='ee-k'>type:</span><span class='ee-v'>Feature</span></li><li><span class='ee-k'>id:</span><span class='ee-v'>222_0</span></li><li><span class='ee-k'>geometry:</span><span class='ee-v'>None</span></li><li><label class='ee-shut'>properties: Object (5 properties)<input type='checkbox' class='ee-toggle'></label><ul><li><span class='ee-k'>id:</span><span class='ee-v'>4</span></li><li><span class='ee-k'>B2:</span><span class='ee-v'>425</span></li><li><span class='ee-k'>B3:</span><span class='ee-v'>691</span></li><li><span class='ee-k'>B4:</span><span class='ee-v'>434</span></li><li><span class='ee-k'>B8:</span><span class='ee-v'>3152.5</span></li></ul></li></ul></li><li><label class='ee-shut'>223: Feature (5 properties)<input type='checkbox' class='ee-toggle'></label><ul><li><span class='ee-k'>type:</span><span class='ee-v'>Feature</span></li><li><span class='ee-k'>id:</span><span class='ee-v'>223_0</span></li><li><span class='ee-k'>geometry:</span><span class='ee-v'>None</span></li><li><label class='ee-shut'>properties: Object (5 properties)<input type='checkbox' class='ee-toggle'></label><ul><li><span class='ee-k'>id:</span><span class='ee-v'>4</span></li><li><span class='ee-k'>B2:</span><span class='ee-v'>551.4285714285714</span></li><li><span class='ee-k'>B3:</span><span class='ee-v'>789.75</span></li><li><span class='ee-k'>B4:</span><span class='ee-v'>550</span></li><li><span class='ee-k'>B8:</span><span class='ee-v'>3902</span></li></ul></li></ul></li><li><label class='ee-shut'>224: Feature (5 properties)<input type='checkbox' class='ee-toggle'></label><ul><li><span class='ee-k'>type:</span><span class='ee-v'>Feature</span></li><li><span class='ee-k'>id:</span><span class='ee-v'>224_0</span></li><li><span class='ee-k'>geometry:</span><span class='ee-v'>None</span></li><li><label class='ee-shut'>properties: Object (5 properties)<input type='checkbox' class='ee-toggle'></label><ul><li><span class='ee-k'>id:</span><span class='ee-v'>4</span></li><li><span class='ee-k'>B2:</span><span class='ee-v'>473</span></li><li><span class='ee-k'>B3:</span><span class='ee-v'>833.9166666666667</span></li><li><span class='ee-k'>B4:</span><span class='ee-v'>597.6666666666666</span></li><li><span class='ee-k'>B8:</span><span class='ee-v'>3553.3333333333335</span></li></ul></li></ul></li><li><label class='ee-shut'>225: Feature (5 properties)<input type='checkbox' class='ee-toggle'></label><ul><li><span class='ee-k'>type:</span><span class='ee-v'>Feature</span></li><li><span class='ee-k'>id:</span><span class='ee-v'>225_0</span></li><li><span class='ee-k'>geometry:</span><span class='ee-v'>None</span></li><li><label class='ee-shut'>properties: Object (5 properties)<input type='checkbox' class='ee-toggle'></label><ul><li><span class='ee-k'>id:</span><span class='ee-v'>4</span></li><li><span class='ee-k'>B2:</span><span class='ee-v'>579</span></li><li><span class='ee-k'>B3:</span><span class='ee-v'>908.5</span></li><li><span class='ee-k'>B4:</span><span class='ee-v'>719.5</span></li><li><span class='ee-k'>B8:</span><span class='ee-v'>3918.5</span></li></ul></li></ul></li><li><label class='ee-shut'>226: Feature (5 properties)<input type='checkbox' class='ee-toggle'></label><ul><li><span class='ee-k'>type:</span><span class='ee-v'>Feature</span></li><li><span class='ee-k'>id:</span><span class='ee-v'>226_0</span></li><li><span class='ee-k'>geometry:</span><span class='ee-v'>None</span></li><li><label class='ee-shut'>properties: Object (5 properties)<input type='checkbox' class='ee-toggle'></label><ul><li><span class='ee-k'>id:</span><span class='ee-v'>4</span></li><li><span class='ee-k'>B2:</span><span class='ee-v'>594.5</span></li><li><span class='ee-k'>B3:</span><span class='ee-v'>974.5</span></li><li><span class='ee-k'>B4:</span><span class='ee-v'>809</span></li><li><span class='ee-k'>B8:</span><span class='ee-v'>4471.5</span></li></ul></li></ul></li><li><label class='ee-shut'>227: Feature (5 properties)<input type='checkbox' class='ee-toggle'></label><ul><li><span class='ee-k'>type:</span><span class='ee-v'>Feature</span></li><li><span class='ee-k'>id:</span><span class='ee-v'>227_0</span></li><li><span class='ee-k'>geometry:</span><span class='ee-v'>None</span></li><li><label class='ee-shut'>properties: Object (5 properties)<input type='checkbox' class='ee-toggle'></label><ul><li><span class='ee-k'>id:</span><span class='ee-v'>4</span></li><li><span class='ee-k'>B2:</span><span class='ee-v'>676.5</span></li><li><span class='ee-k'>B3:</span><span class='ee-v'>956</span></li><li><span class='ee-k'>B4:</span><span class='ee-v'>975.5</span></li><li><span class='ee-k'>B8:</span><span class='ee-v'>3429</span></li></ul></li></ul></li><li><label class='ee-shut'>228: Feature (5 properties)<input type='checkbox' class='ee-toggle'></label><ul><li><span class='ee-k'>type:</span><span class='ee-v'>Feature</span></li><li><span class='ee-k'>id:</span><span class='ee-v'>228_0</span></li><li><span class='ee-k'>geometry:</span><span class='ee-v'>None</span></li><li><label class='ee-shut'>properties: Object (5 properties)<input type='checkbox' class='ee-toggle'></label><ul><li><span class='ee-k'>id:</span><span class='ee-v'>4</span></li><li><span class='ee-k'>B2:</span><span class='ee-v'>603.5</span></li><li><span class='ee-k'>B3:</span><span class='ee-v'>917.5</span></li><li><span class='ee-k'>B4:</span><span class='ee-v'>939.5</span></li><li><span class='ee-k'>B8:</span><span class='ee-v'>4032.5</span></li></ul></li></ul></li><li><label class='ee-shut'>229: Feature (5 properties)<input type='checkbox' class='ee-toggle'></label><ul><li><span class='ee-k'>type:</span><span class='ee-v'>Feature</span></li><li><span class='ee-k'>id:</span><span class='ee-v'>229_0</span></li><li><span class='ee-k'>geometry:</span><span class='ee-v'>None</span></li><li><label class='ee-shut'>properties: Object (5 properties)<input type='checkbox' class='ee-toggle'></label><ul><li><span class='ee-k'>id:</span><span class='ee-v'>4</span></li><li><span class='ee-k'>B2:</span><span class='ee-v'>405</span></li><li><span class='ee-k'>B3:</span><span class='ee-v'>662</span></li><li><span class='ee-k'>B4:</span><span class='ee-v'>441</span></li><li><span class='ee-k'>B8:</span><span class='ee-v'>3742.5</span></li></ul></li></ul></li><li><label class='ee-shut'>230: Feature (5 properties)<input type='checkbox' class='ee-toggle'></label><ul><li><span class='ee-k'>type:</span><span class='ee-v'>Feature</span></li><li><span class='ee-k'>id:</span><span class='ee-v'>230_0</span></li><li><span class='ee-k'>geometry:</span><span class='ee-v'>None</span></li><li><label class='ee-shut'>properties: Object (5 properties)<input type='checkbox' class='ee-toggle'></label><ul><li><span class='ee-k'>id:</span><span class='ee-v'>4</span></li><li><span class='ee-k'>B2:</span><span class='ee-v'>451</span></li><li><span class='ee-k'>B3:</span><span class='ee-v'>662.5</span></li><li><span class='ee-k'>B4:</span><span class='ee-v'>529</span></li><li><span class='ee-k'>B8:</span><span class='ee-v'>4057</span></li></ul></li></ul></li><li><label class='ee-shut'>231: Feature (5 properties)<input type='checkbox' class='ee-toggle'></label><ul><li><span class='ee-k'>type:</span><span class='ee-v'>Feature</span></li><li><span class='ee-k'>id:</span><span class='ee-v'>231_0</span></li><li><span class='ee-k'>geometry:</span><span class='ee-v'>None</span></li><li><label class='ee-shut'>properties: Object (5 properties)<input type='checkbox' class='ee-toggle'></label><ul><li><span class='ee-k'>id:</span><span class='ee-v'>4</span></li><li><span class='ee-k'>B2:</span><span class='ee-v'>683.5</span></li><li><span class='ee-k'>B3:</span><span class='ee-v'>1042.5</span></li><li><span class='ee-k'>B4:</span><span class='ee-v'>1097</span></li><li><span class='ee-k'>B8:</span><span class='ee-v'>3345.5</span></li></ul></li></ul></li><li><label class='ee-shut'>232: Feature (5 properties)<input type='checkbox' class='ee-toggle'></label><ul><li><span class='ee-k'>type:</span><span class='ee-v'>Feature</span></li><li><span class='ee-k'>id:</span><span class='ee-v'>232_0</span></li><li><span class='ee-k'>geometry:</span><span class='ee-v'>None</span></li><li><label class='ee-shut'>properties: Object (5 properties)<input type='checkbox' class='ee-toggle'></label><ul><li><span class='ee-k'>id:</span><span class='ee-v'>4</span></li><li><span class='ee-k'>B2:</span><span class='ee-v'>553</span></li><li><span class='ee-k'>B3:</span><span class='ee-v'>906.5</span></li><li><span class='ee-k'>B4:</span><span class='ee-v'>723</span></li><li><span class='ee-k'>B8:</span><span class='ee-v'>3966</span></li></ul></li></ul></li><li><label class='ee-shut'>233: Feature (5 properties)<input type='checkbox' class='ee-toggle'></label><ul><li><span class='ee-k'>type:</span><span class='ee-v'>Feature</span></li><li><span class='ee-k'>id:</span><span class='ee-v'>233_0</span></li><li><span class='ee-k'>geometry:</span><span class='ee-v'>None</span></li><li><label class='ee-shut'>properties: Object (5 properties)<input type='checkbox' class='ee-toggle'></label><ul><li><span class='ee-k'>id:</span><span class='ee-v'>4</span></li><li><span class='ee-k'>B2:</span><span class='ee-v'>396.5</span></li><li><span class='ee-k'>B3:</span><span class='ee-v'>661</span></li><li><span class='ee-k'>B4:</span><span class='ee-v'>395</span></li><li><span class='ee-k'>B8:</span><span class='ee-v'>4379.5</span></li></ul></li></ul></li><li><label class='ee-shut'>234: Feature (5 properties)<input type='checkbox' class='ee-toggle'></label><ul><li><span class='ee-k'>type:</span><span class='ee-v'>Feature</span></li><li><span class='ee-k'>id:</span><span class='ee-v'>234_0</span></li><li><span class='ee-k'>geometry:</span><span class='ee-v'>None</span></li><li><label class='ee-shut'>properties: Object (5 properties)<input type='checkbox' class='ee-toggle'></label><ul><li><span class='ee-k'>id:</span><span class='ee-v'>4</span></li><li><span class='ee-k'>B2:</span><span class='ee-v'>431</span></li><li><span class='ee-k'>B3:</span><span class='ee-v'>703.5</span></li><li><span class='ee-k'>B4:</span><span class='ee-v'>434</span></li><li><span class='ee-k'>B8:</span><span class='ee-v'>4259.5</span></li></ul></li></ul></li><li><label class='ee-shut'>235: Feature (5 properties)<input type='checkbox' class='ee-toggle'></label><ul><li><span class='ee-k'>type:</span><span class='ee-v'>Feature</span></li><li><span class='ee-k'>id:</span><span class='ee-v'>235_0</span></li><li><span class='ee-k'>geometry:</span><span class='ee-v'>None</span></li><li><label class='ee-shut'>properties: Object (5 properties)<input type='checkbox' class='ee-toggle'></label><ul><li><span class='ee-k'>id:</span><span class='ee-v'>4</span></li><li><span class='ee-k'>B2:</span><span class='ee-v'>540.5</span></li><li><span class='ee-k'>B3:</span><span class='ee-v'>862.5</span></li><li><span class='ee-k'>B4:</span><span class='ee-v'>639</span></li><li><span class='ee-k'>B8:</span><span class='ee-v'>3929.5</span></li></ul></li></ul></li><li><label class='ee-shut'>236: Feature (5 properties)<input type='checkbox' class='ee-toggle'></label><ul><li><span class='ee-k'>type:</span><span class='ee-v'>Feature</span></li><li><span class='ee-k'>id:</span><span class='ee-v'>236_0</span></li><li><span class='ee-k'>geometry:</span><span class='ee-v'>None</span></li><li><label class='ee-shut'>properties: Object (5 properties)<input type='checkbox' class='ee-toggle'></label><ul><li><span class='ee-k'>id:</span><span class='ee-v'>4</span></li><li><span class='ee-k'>B2:</span><span class='ee-v'>537</span></li><li><span class='ee-k'>B3:</span><span class='ee-v'>867.5</span></li><li><span class='ee-k'>B4:</span><span class='ee-v'>621.5</span></li><li><span class='ee-k'>B8:</span><span class='ee-v'>4253.5</span></li></ul></li></ul></li><li><label class='ee-shut'>237: Feature (5 properties)<input type='checkbox' class='ee-toggle'></label><ul><li><span class='ee-k'>type:</span><span class='ee-v'>Feature</span></li><li><span class='ee-k'>id:</span><span class='ee-v'>237_0</span></li><li><span class='ee-k'>geometry:</span><span class='ee-v'>None</span></li><li><label class='ee-shut'>properties: Object (5 properties)<input type='checkbox' class='ee-toggle'></label><ul><li><span class='ee-k'>id:</span><span class='ee-v'>4</span></li><li><span class='ee-k'>B2:</span><span class='ee-v'>538.5</span></li><li><span class='ee-k'>B3:</span><span class='ee-v'>983.5</span></li><li><span class='ee-k'>B4:</span><span class='ee-v'>644.5</span></li><li><span class='ee-k'>B8:</span><span class='ee-v'>3791</span></li></ul></li></ul></li><li><label class='ee-shut'>238: Feature (5 properties)<input type='checkbox' class='ee-toggle'></label><ul><li><span class='ee-k'>type:</span><span class='ee-v'>Feature</span></li><li><span class='ee-k'>id:</span><span class='ee-v'>238_0</span></li><li><span class='ee-k'>geometry:</span><span class='ee-v'>None</span></li><li><label class='ee-shut'>properties: Object (5 properties)<input type='checkbox' class='ee-toggle'></label><ul><li><span class='ee-k'>id:</span><span class='ee-v'>4</span></li><li><span class='ee-k'>B2:</span><span class='ee-v'>458</span></li><li><span class='ee-k'>B3:</span><span class='ee-v'>732.5</span></li><li><span class='ee-k'>B4:</span><span class='ee-v'>484.5</span></li><li><span class='ee-k'>B8:</span><span class='ee-v'>3913.5</span></li></ul></li></ul></li><li><label class='ee-shut'>239: Feature (5 properties)<input type='checkbox' class='ee-toggle'></label><ul><li><span class='ee-k'>type:</span><span class='ee-v'>Feature</span></li><li><span class='ee-k'>id:</span><span class='ee-v'>239_0</span></li><li><span class='ee-k'>geometry:</span><span class='ee-v'>None</span></li><li><label class='ee-shut'>properties: Object (5 properties)<input type='checkbox' class='ee-toggle'></label><ul><li><span class='ee-k'>id:</span><span class='ee-v'>4</span></li><li><span class='ee-k'>B2:</span><span class='ee-v'>554.5</span></li><li><span class='ee-k'>B3:</span><span class='ee-v'>916</span></li><li><span class='ee-k'>B4:</span><span class='ee-v'>672</span></li><li><span class='ee-k'>B8:</span><span class='ee-v'>3417</span></li></ul></li></ul></li><li><label class='ee-shut'>240: Feature (5 properties)<input type='checkbox' class='ee-toggle'></label><ul><li><span class='ee-k'>type:</span><span class='ee-v'>Feature</span></li><li><span class='ee-k'>id:</span><span class='ee-v'>240_0</span></li><li><span class='ee-k'>geometry:</span><span class='ee-v'>None</span></li><li><label class='ee-shut'>properties: Object (5 properties)<input type='checkbox' class='ee-toggle'></label><ul><li><span class='ee-k'>id:</span><span class='ee-v'>4</span></li><li><span class='ee-k'>B2:</span><span class='ee-v'>507</span></li><li><span class='ee-k'>B3:</span><span class='ee-v'>755.5</span></li><li><span class='ee-k'>B4:</span><span class='ee-v'>613.5</span></li><li><span class='ee-k'>B8:</span><span class='ee-v'>3415</span></li></ul></li></ul></li><li><label class='ee-shut'>241: Feature (5 properties)<input type='checkbox' class='ee-toggle'></label><ul><li><span class='ee-k'>type:</span><span class='ee-v'>Feature</span></li><li><span class='ee-k'>id:</span><span class='ee-v'>241_0</span></li><li><span class='ee-k'>geometry:</span><span class='ee-v'>None</span></li><li><label class='ee-shut'>properties: Object (5 properties)<input type='checkbox' class='ee-toggle'></label><ul><li><span class='ee-k'>id:</span><span class='ee-v'>4</span></li><li><span class='ee-k'>B2:</span><span class='ee-v'>447.5</span></li><li><span class='ee-k'>B3:</span><span class='ee-v'>750.5</span></li><li><span class='ee-k'>B4:</span><span class='ee-v'>456</span></li><li><span class='ee-k'>B8:</span><span class='ee-v'>4013</span></li></ul></li></ul></li><li><label class='ee-shut'>242: Feature (5 properties)<input type='checkbox' class='ee-toggle'></label><ul><li><span class='ee-k'>type:</span><span class='ee-v'>Feature</span></li><li><span class='ee-k'>id:</span><span class='ee-v'>242_0</span></li><li><span class='ee-k'>geometry:</span><span class='ee-v'>None</span></li><li><label class='ee-shut'>properties: Object (5 properties)<input type='checkbox' class='ee-toggle'></label><ul><li><span class='ee-k'>id:</span><span class='ee-v'>4</span></li><li><span class='ee-k'>B2:</span><span class='ee-v'>446.5</span></li><li><span class='ee-k'>B3:</span><span class='ee-v'>796</span></li><li><span class='ee-k'>B4:</span><span class='ee-v'>522.5</span></li><li><span class='ee-k'>B8:</span><span class='ee-v'>4058</span></li></ul></li></ul></li><li><label class='ee-shut'>243: Feature (5 properties)<input type='checkbox' class='ee-toggle'></label><ul><li><span class='ee-k'>type:</span><span class='ee-v'>Feature</span></li><li><span class='ee-k'>id:</span><span class='ee-v'>243_0</span></li><li><span class='ee-k'>geometry:</span><span class='ee-v'>None</span></li><li><label class='ee-shut'>properties: Object (5 properties)<input type='checkbox' class='ee-toggle'></label><ul><li><span class='ee-k'>id:</span><span class='ee-v'>4</span></li><li><span class='ee-k'>B2:</span><span class='ee-v'>505.5</span></li><li><span class='ee-k'>B3:</span><span class='ee-v'>863.5</span></li><li><span class='ee-k'>B4:</span><span class='ee-v'>573.5</span></li><li><span class='ee-k'>B8:</span><span class='ee-v'>4169</span></li></ul></li></ul></li><li><label class='ee-shut'>244: Feature (5 properties)<input type='checkbox' class='ee-toggle'></label><ul><li><span class='ee-k'>type:</span><span class='ee-v'>Feature</span></li><li><span class='ee-k'>id:</span><span class='ee-v'>244_0</span></li><li><span class='ee-k'>geometry:</span><span class='ee-v'>None</span></li><li><label class='ee-shut'>properties: Object (5 properties)<input type='checkbox' class='ee-toggle'></label><ul><li><span class='ee-k'>id:</span><span class='ee-v'>4</span></li><li><span class='ee-k'>B2:</span><span class='ee-v'>580.5</span></li><li><span class='ee-k'>B3:</span><span class='ee-v'>1033.5</span></li><li><span class='ee-k'>B4:</span><span class='ee-v'>711.5</span></li><li><span class='ee-k'>B8:</span><span class='ee-v'>4104.5</span></li></ul></li></ul></li><li><label class='ee-shut'>245: Feature (5 properties)<input type='checkbox' class='ee-toggle'></label><ul><li><span class='ee-k'>type:</span><span class='ee-v'>Feature</span></li><li><span class='ee-k'>id:</span><span class='ee-v'>245_0</span></li><li><span class='ee-k'>geometry:</span><span class='ee-v'>None</span></li><li><label class='ee-shut'>properties: Object (5 properties)<input type='checkbox' class='ee-toggle'></label><ul><li><span class='ee-k'>id:</span><span class='ee-v'>4</span></li><li><span class='ee-k'>B2:</span><span class='ee-v'>502</span></li><li><span class='ee-k'>B3:</span><span class='ee-v'>936.5</span></li><li><span class='ee-k'>B4:</span><span class='ee-v'>606.5</span></li><li><span class='ee-k'>B8:</span><span class='ee-v'>3396.5</span></li></ul></li></ul></li><li><label class='ee-shut'>246: Feature (5 properties)<input type='checkbox' class='ee-toggle'></label><ul><li><span class='ee-k'>type:</span><span class='ee-v'>Feature</span></li><li><span class='ee-k'>id:</span><span class='ee-v'>246_0</span></li><li><span class='ee-k'>geometry:</span><span class='ee-v'>None</span></li><li><label class='ee-shut'>properties: Object (5 properties)<input type='checkbox' class='ee-toggle'></label><ul><li><span class='ee-k'>id:</span><span class='ee-v'>4</span></li><li><span class='ee-k'>B2:</span><span class='ee-v'>549.5</span></li><li><span class='ee-k'>B3:</span><span class='ee-v'>878</span></li><li><span class='ee-k'>B4:</span><span class='ee-v'>735.5</span></li><li><span class='ee-k'>B8:</span><span class='ee-v'>3685</span></li></ul></li></ul></li><li><label class='ee-shut'>247: Feature (5 properties)<input type='checkbox' class='ee-toggle'></label><ul><li><span class='ee-k'>type:</span><span class='ee-v'>Feature</span></li><li><span class='ee-k'>id:</span><span class='ee-v'>247_0</span></li><li><span class='ee-k'>geometry:</span><span class='ee-v'>None</span></li><li><label class='ee-shut'>properties: Object (5 properties)<input type='checkbox' class='ee-toggle'></label><ul><li><span class='ee-k'>id:</span><span class='ee-v'>4</span></li><li><span class='ee-k'>B2:</span><span class='ee-v'>551</span></li><li><span class='ee-k'>B3:</span><span class='ee-v'>918</span></li><li><span class='ee-k'>B4:</span><span class='ee-v'>636.5</span></li><li><span class='ee-k'>B8:</span><span class='ee-v'>3910</span></li></ul></li></ul></li><li><label class='ee-shut'>248: Feature (5 properties)<input type='checkbox' class='ee-toggle'></label><ul><li><span class='ee-k'>type:</span><span class='ee-v'>Feature</span></li><li><span class='ee-k'>id:</span><span class='ee-v'>248_0</span></li><li><span class='ee-k'>geometry:</span><span class='ee-v'>None</span></li><li><label class='ee-shut'>properties: Object (5 properties)<input type='checkbox' class='ee-toggle'></label><ul><li><span class='ee-k'>id:</span><span class='ee-v'>4</span></li><li><span class='ee-k'>B2:</span><span class='ee-v'>472</span></li><li><span class='ee-k'>B3:</span><span class='ee-v'>870.5</span></li><li><span class='ee-k'>B4:</span><span class='ee-v'>481.5</span></li><li><span class='ee-k'>B8:</span><span class='ee-v'>4472</span></li></ul></li></ul></li><li><label class='ee-shut'>249: Feature (5 properties)<input type='checkbox' class='ee-toggle'></label><ul><li><span class='ee-k'>type:</span><span class='ee-v'>Feature</span></li><li><span class='ee-k'>id:</span><span class='ee-v'>249_0</span></li><li><span class='ee-k'>geometry:</span><span class='ee-v'>None</span></li><li><label class='ee-shut'>properties: Object (5 properties)<input type='checkbox' class='ee-toggle'></label><ul><li><span class='ee-k'>id:</span><span class='ee-v'>4</span></li><li><span class='ee-k'>B2:</span><span class='ee-v'>481</span></li><li><span class='ee-k'>B3:</span><span class='ee-v'>819.5</span></li><li><span class='ee-k'>B4:</span><span class='ee-v'>592.5</span></li><li><span class='ee-k'>B8:</span><span class='ee-v'>4683.5</span></li></ul></li></ul></li><li><label class='ee-shut'>250: Feature (5 properties)<input type='checkbox' class='ee-toggle'></label><ul><li><span class='ee-k'>type:</span><span class='ee-v'>Feature</span></li><li><span class='ee-k'>id:</span><span class='ee-v'>250_0</span></li><li><span class='ee-k'>geometry:</span><span class='ee-v'>None</span></li><li><label class='ee-shut'>properties: Object (5 properties)<input type='checkbox' class='ee-toggle'></label><ul><li><span class='ee-k'>id:</span><span class='ee-v'>4</span></li><li><span class='ee-k'>B2:</span><span class='ee-v'>476</span></li><li><span class='ee-k'>B3:</span><span class='ee-v'>837</span></li><li><span class='ee-k'>B4:</span><span class='ee-v'>497</span></li><li><span class='ee-k'>B8:</span><span class='ee-v'>4072.5</span></li></ul></li></ul></li><li><label class='ee-shut'>251: Feature (5 properties)<input type='checkbox' class='ee-toggle'></label><ul><li><span class='ee-k'>type:</span><span class='ee-v'>Feature</span></li><li><span class='ee-k'>id:</span><span class='ee-v'>251_0</span></li><li><span class='ee-k'>geometry:</span><span class='ee-v'>None</span></li><li><label class='ee-shut'>properties: Object (5 properties)<input type='checkbox' class='ee-toggle'></label><ul><li><span class='ee-k'>id:</span><span class='ee-v'>4</span></li><li><span class='ee-k'>B2:</span><span class='ee-v'>477.5</span></li><li><span class='ee-k'>B3:</span><span class='ee-v'>846.5</span></li><li><span class='ee-k'>B4:</span><span class='ee-v'>550</span></li><li><span class='ee-k'>B8:</span><span class='ee-v'>4115.5</span></li></ul></li></ul></li><li><label class='ee-shut'>252: Feature (5 properties)<input type='checkbox' class='ee-toggle'></label><ul><li><span class='ee-k'>type:</span><span class='ee-v'>Feature</span></li><li><span class='ee-k'>id:</span><span class='ee-v'>252_0</span></li><li><span class='ee-k'>geometry:</span><span class='ee-v'>None</span></li><li><label class='ee-shut'>properties: Object (5 properties)<input type='checkbox' class='ee-toggle'></label><ul><li><span class='ee-k'>id:</span><span class='ee-v'>4</span></li><li><span class='ee-k'>B2:</span><span class='ee-v'>384.5</span></li><li><span class='ee-k'>B3:</span><span class='ee-v'>635</span></li><li><span class='ee-k'>B4:</span><span class='ee-v'>453</span></li><li><span class='ee-k'>B8:</span><span class='ee-v'>4110</span></li></ul></li></ul></li><li><label class='ee-shut'>253: Feature (5 properties)<input type='checkbox' class='ee-toggle'></label><ul><li><span class='ee-k'>type:</span><span class='ee-v'>Feature</span></li><li><span class='ee-k'>id:</span><span class='ee-v'>253_0</span></li><li><span class='ee-k'>geometry:</span><span class='ee-v'>None</span></li><li><label class='ee-shut'>properties: Object (5 properties)<input type='checkbox' class='ee-toggle'></label><ul><li><span class='ee-k'>id:</span><span class='ee-v'>4</span></li><li><span class='ee-k'>B2:</span><span class='ee-v'>406</span></li><li><span class='ee-k'>B3:</span><span class='ee-v'>703</span></li><li><span class='ee-k'>B4:</span><span class='ee-v'>461</span></li><li><span class='ee-k'>B8:</span><span class='ee-v'>3946</span></li></ul></li></ul></li><li><label class='ee-shut'>254: Feature (5 properties)<input type='checkbox' class='ee-toggle'></label><ul><li><span class='ee-k'>type:</span><span class='ee-v'>Feature</span></li><li><span class='ee-k'>id:</span><span class='ee-v'>254_0</span></li><li><span class='ee-k'>geometry:</span><span class='ee-v'>None</span></li><li><label class='ee-shut'>properties: Object (5 properties)<input type='checkbox' class='ee-toggle'></label><ul><li><span class='ee-k'>id:</span><span class='ee-v'>4</span></li><li><span class='ee-k'>B2:</span><span class='ee-v'>416.5</span></li><li><span class='ee-k'>B3:</span><span class='ee-v'>704.5</span></li><li><span class='ee-k'>B4:</span><span class='ee-v'>472.5</span></li><li><span class='ee-k'>B8:</span><span class='ee-v'>4068</span></li></ul></li></ul></li><li><label class='ee-shut'>255: Feature (5 properties)<input type='checkbox' class='ee-toggle'></label><ul><li><span class='ee-k'>type:</span><span class='ee-v'>Feature</span></li><li><span class='ee-k'>id:</span><span class='ee-v'>255_0</span></li><li><span class='ee-k'>geometry:</span><span class='ee-v'>None</span></li><li><label class='ee-shut'>properties: Object (5 properties)<input type='checkbox' class='ee-toggle'></label><ul><li><span class='ee-k'>id:</span><span class='ee-v'>4</span></li><li><span class='ee-k'>B2:</span><span class='ee-v'>399.5</span></li><li><span class='ee-k'>B3:</span><span class='ee-v'>770</span></li><li><span class='ee-k'>B4:</span><span class='ee-v'>501</span></li><li><span class='ee-k'>B8:</span><span class='ee-v'>4241</span></li></ul></li></ul></li><li><label class='ee-shut'>256: Feature (5 properties)<input type='checkbox' class='ee-toggle'></label><ul><li><span class='ee-k'>type:</span><span class='ee-v'>Feature</span></li><li><span class='ee-k'>id:</span><span class='ee-v'>256_0</span></li><li><span class='ee-k'>geometry:</span><span class='ee-v'>None</span></li><li><label class='ee-shut'>properties: Object (5 properties)<input type='checkbox' class='ee-toggle'></label><ul><li><span class='ee-k'>id:</span><span class='ee-v'>4</span></li><li><span class='ee-k'>B2:</span><span class='ee-v'>427</span></li><li><span class='ee-k'>B3:</span><span class='ee-v'>776.5</span></li><li><span class='ee-k'>B4:</span><span class='ee-v'>497</span></li><li><span class='ee-k'>B8:</span><span class='ee-v'>3982</span></li></ul></li></ul></li><li><label class='ee-shut'>257: Feature (5 properties)<input type='checkbox' class='ee-toggle'></label><ul><li><span class='ee-k'>type:</span><span class='ee-v'>Feature</span></li><li><span class='ee-k'>id:</span><span class='ee-v'>257_0</span></li><li><span class='ee-k'>geometry:</span><span class='ee-v'>None</span></li><li><label class='ee-shut'>properties: Object (5 properties)<input type='checkbox' class='ee-toggle'></label><ul><li><span class='ee-k'>id:</span><span class='ee-v'>4</span></li><li><span class='ee-k'>B2:</span><span class='ee-v'>462</span></li><li><span class='ee-k'>B3:</span><span class='ee-v'>905.5</span></li><li><span class='ee-k'>B4:</span><span class='ee-v'>634</span></li><li><span class='ee-k'>B8:</span><span class='ee-v'>4324</span></li></ul></li></ul></li><li><label class='ee-shut'>258: Feature (5 properties)<input type='checkbox' class='ee-toggle'></label><ul><li><span class='ee-k'>type:</span><span class='ee-v'>Feature</span></li><li><span class='ee-k'>id:</span><span class='ee-v'>258_0</span></li><li><span class='ee-k'>geometry:</span><span class='ee-v'>None</span></li><li><label class='ee-shut'>properties: Object (5 properties)<input type='checkbox' class='ee-toggle'></label><ul><li><span class='ee-k'>id:</span><span class='ee-v'>4</span></li><li><span class='ee-k'>B2:</span><span class='ee-v'>419</span></li><li><span class='ee-k'>B3:</span><span class='ee-v'>706.5</span></li><li><span class='ee-k'>B4:</span><span class='ee-v'>435</span></li><li><span class='ee-k'>B8:</span><span class='ee-v'>4165</span></li></ul></li></ul></li><li><label class='ee-shut'>259: Feature (5 properties)<input type='checkbox' class='ee-toggle'></label><ul><li><span class='ee-k'>type:</span><span class='ee-v'>Feature</span></li><li><span class='ee-k'>id:</span><span class='ee-v'>259_0</span></li><li><span class='ee-k'>geometry:</span><span class='ee-v'>None</span></li><li><label class='ee-shut'>properties: Object (5 properties)<input type='checkbox' class='ee-toggle'></label><ul><li><span class='ee-k'>id:</span><span class='ee-v'>4</span></li><li><span class='ee-k'>B2:</span><span class='ee-v'>420.5</span></li><li><span class='ee-k'>B3:</span><span class='ee-v'>772.5</span></li><li><span class='ee-k'>B4:</span><span class='ee-v'>542</span></li><li><span class='ee-k'>B8:</span><span class='ee-v'>3945.5</span></li></ul></li></ul></li><li><label class='ee-shut'>260: Feature (5 properties)<input type='checkbox' class='ee-toggle'></label><ul><li><span class='ee-k'>type:</span><span class='ee-v'>Feature</span></li><li><span class='ee-k'>id:</span><span class='ee-v'>260_0</span></li><li><span class='ee-k'>geometry:</span><span class='ee-v'>None</span></li><li><label class='ee-shut'>properties: Object (5 properties)<input type='checkbox' class='ee-toggle'></label><ul><li><span class='ee-k'>id:</span><span class='ee-v'>4</span></li><li><span class='ee-k'>B2:</span><span class='ee-v'>510.5</span></li><li><span class='ee-k'>B3:</span><span class='ee-v'>838</span></li><li><span class='ee-k'>B4:</span><span class='ee-v'>587.5</span></li><li><span class='ee-k'>B8:</span><span class='ee-v'>4293.5</span></li></ul></li></ul></li><li><label class='ee-shut'>261: Feature (5 properties)<input type='checkbox' class='ee-toggle'></label><ul><li><span class='ee-k'>type:</span><span class='ee-v'>Feature</span></li><li><span class='ee-k'>id:</span><span class='ee-v'>261_0</span></li><li><span class='ee-k'>geometry:</span><span class='ee-v'>None</span></li><li><label class='ee-shut'>properties: Object (5 properties)<input type='checkbox' class='ee-toggle'></label><ul><li><span class='ee-k'>id:</span><span class='ee-v'>4</span></li><li><span class='ee-k'>B2:</span><span class='ee-v'>408.5</span></li><li><span class='ee-k'>B3:</span><span class='ee-v'>774.5</span></li><li><span class='ee-k'>B4:</span><span class='ee-v'>449.5</span></li><li><span class='ee-k'>B8:</span><span class='ee-v'>4505.5</span></li></ul></li></ul></li><li><label class='ee-shut'>262: Feature (5 properties)<input type='checkbox' class='ee-toggle'></label><ul><li><span class='ee-k'>type:</span><span class='ee-v'>Feature</span></li><li><span class='ee-k'>id:</span><span class='ee-v'>262_0</span></li><li><span class='ee-k'>geometry:</span><span class='ee-v'>None</span></li><li><label class='ee-shut'>properties: Object (5 properties)<input type='checkbox' class='ee-toggle'></label><ul><li><span class='ee-k'>id:</span><span class='ee-v'>4</span></li><li><span class='ee-k'>B2:</span><span class='ee-v'>555.5</span></li><li><span class='ee-k'>B3:</span><span class='ee-v'>845.5</span></li><li><span class='ee-k'>B4:</span><span class='ee-v'>682</span></li><li><span class='ee-k'>B8:</span><span class='ee-v'>4143.5</span></li></ul></li></ul></li><li><label class='ee-shut'>263: Feature (5 properties)<input type='checkbox' class='ee-toggle'></label><ul><li><span class='ee-k'>type:</span><span class='ee-v'>Feature</span></li><li><span class='ee-k'>id:</span><span class='ee-v'>263_0</span></li><li><span class='ee-k'>geometry:</span><span class='ee-v'>None</span></li><li><label class='ee-shut'>properties: Object (5 properties)<input type='checkbox' class='ee-toggle'></label><ul><li><span class='ee-k'>id:</span><span class='ee-v'>4</span></li><li><span class='ee-k'>B2:</span><span class='ee-v'>434</span></li><li><span class='ee-k'>B3:</span><span class='ee-v'>767.5</span></li><li><span class='ee-k'>B4:</span><span class='ee-v'>467.5</span></li><li><span class='ee-k'>B8:</span><span class='ee-v'>5239.5</span></li></ul></li></ul></li><li><label class='ee-shut'>264: Feature (5 properties)<input type='checkbox' class='ee-toggle'></label><ul><li><span class='ee-k'>type:</span><span class='ee-v'>Feature</span></li><li><span class='ee-k'>id:</span><span class='ee-v'>264_0</span></li><li><span class='ee-k'>geometry:</span><span class='ee-v'>None</span></li><li><label class='ee-shut'>properties: Object (5 properties)<input type='checkbox' class='ee-toggle'></label><ul><li><span class='ee-k'>id:</span><span class='ee-v'>4</span></li><li><span class='ee-k'>B2:</span><span class='ee-v'>576.5</span></li><li><span class='ee-k'>B3:</span><span class='ee-v'>915</span></li><li><span class='ee-k'>B4:</span><span class='ee-v'>682</span></li><li><span class='ee-k'>B8:</span><span class='ee-v'>4257.5</span></li></ul></li></ul></li><li><label class='ee-shut'>265: Feature (5 properties)<input type='checkbox' class='ee-toggle'></label><ul><li><span class='ee-k'>type:</span><span class='ee-v'>Feature</span></li><li><span class='ee-k'>id:</span><span class='ee-v'>265_0</span></li><li><span class='ee-k'>geometry:</span><span class='ee-v'>None</span></li><li><label class='ee-shut'>properties: Object (5 properties)<input type='checkbox' class='ee-toggle'></label><ul><li><span class='ee-k'>id:</span><span class='ee-v'>4</span></li><li><span class='ee-k'>B2:</span><span class='ee-v'>710.5</span></li><li><span class='ee-k'>B3:</span><span class='ee-v'>1017.5</span></li><li><span class='ee-k'>B4:</span><span class='ee-v'>1054.5</span></li><li><span class='ee-k'>B8:</span><span class='ee-v'>3408</span></li></ul></li></ul></li><li><label class='ee-shut'>266: Feature (5 properties)<input type='checkbox' class='ee-toggle'></label><ul><li><span class='ee-k'>type:</span><span class='ee-v'>Feature</span></li><li><span class='ee-k'>id:</span><span class='ee-v'>266_0</span></li><li><span class='ee-k'>geometry:</span><span class='ee-v'>None</span></li><li><label class='ee-shut'>properties: Object (5 properties)<input type='checkbox' class='ee-toggle'></label><ul><li><span class='ee-k'>id:</span><span class='ee-v'>4</span></li><li><span class='ee-k'>B2:</span><span class='ee-v'>719.5</span></li><li><span class='ee-k'>B3:</span><span class='ee-v'>1034</span></li><li><span class='ee-k'>B4:</span><span class='ee-v'>1130</span></li><li><span class='ee-k'>B8:</span><span class='ee-v'>3069.5</span></li></ul></li></ul></li><li><label class='ee-shut'>267: Feature (5 properties)<input type='checkbox' class='ee-toggle'></label><ul><li><span class='ee-k'>type:</span><span class='ee-v'>Feature</span></li><li><span class='ee-k'>id:</span><span class='ee-v'>267_0</span></li><li><span class='ee-k'>geometry:</span><span class='ee-v'>None</span></li><li><label class='ee-shut'>properties: Object (5 properties)<input type='checkbox' class='ee-toggle'></label><ul><li><span class='ee-k'>id:</span><span class='ee-v'>4</span></li><li><span class='ee-k'>B2:</span><span class='ee-v'>679.5</span></li><li><span class='ee-k'>B3:</span><span class='ee-v'>1070</span></li><li><span class='ee-k'>B4:</span><span class='ee-v'>1213.5</span></li><li><span class='ee-k'>B8:</span><span class='ee-v'>3298.5</span></li></ul></li></ul></li><li><label class='ee-shut'>268: Feature (5 properties)<input type='checkbox' class='ee-toggle'></label><ul><li><span class='ee-k'>type:</span><span class='ee-v'>Feature</span></li><li><span class='ee-k'>id:</span><span class='ee-v'>268_0</span></li><li><span class='ee-k'>geometry:</span><span class='ee-v'>None</span></li><li><label class='ee-shut'>properties: Object (5 properties)<input type='checkbox' class='ee-toggle'></label><ul><li><span class='ee-k'>id:</span><span class='ee-v'>4</span></li><li><span class='ee-k'>B2:</span><span class='ee-v'>438</span></li><li><span class='ee-k'>B3:</span><span class='ee-v'>693.5</span></li><li><span class='ee-k'>B4:</span><span class='ee-v'>508.5</span></li><li><span class='ee-k'>B8:</span><span class='ee-v'>4085.5</span></li></ul></li></ul></li><li><label class='ee-shut'>269: Feature (5 properties)<input type='checkbox' class='ee-toggle'></label><ul><li><span class='ee-k'>type:</span><span class='ee-v'>Feature</span></li><li><span class='ee-k'>id:</span><span class='ee-v'>269_0</span></li><li><span class='ee-k'>geometry:</span><span class='ee-v'>None</span></li><li><label class='ee-shut'>properties: Object (5 properties)<input type='checkbox' class='ee-toggle'></label><ul><li><span class='ee-k'>id:</span><span class='ee-v'>4</span></li><li><span class='ee-k'>B2:</span><span class='ee-v'>395</span></li><li><span class='ee-k'>B3:</span><span class='ee-v'>672.5</span></li><li><span class='ee-k'>B4:</span><span class='ee-v'>396</span></li><li><span class='ee-k'>B8:</span><span class='ee-v'>4129.5</span></li></ul></li></ul></li><li><label class='ee-shut'>270: Feature (5 properties)<input type='checkbox' class='ee-toggle'></label><ul><li><span class='ee-k'>type:</span><span class='ee-v'>Feature</span></li><li><span class='ee-k'>id:</span><span class='ee-v'>270_0</span></li><li><span class='ee-k'>geometry:</span><span class='ee-v'>None</span></li><li><label class='ee-shut'>properties: Object (5 properties)<input type='checkbox' class='ee-toggle'></label><ul><li><span class='ee-k'>id:</span><span class='ee-v'>4</span></li><li><span class='ee-k'>B2:</span><span class='ee-v'>466.5</span></li><li><span class='ee-k'>B3:</span><span class='ee-v'>832</span></li><li><span class='ee-k'>B4:</span><span class='ee-v'>521.5</span></li><li><span class='ee-k'>B8:</span><span class='ee-v'>3903.5</span></li></ul></li></ul></li><li><label class='ee-shut'>271: Feature (5 properties)<input type='checkbox' class='ee-toggle'></label><ul><li><span class='ee-k'>type:</span><span class='ee-v'>Feature</span></li><li><span class='ee-k'>id:</span><span class='ee-v'>271_0</span></li><li><span class='ee-k'>geometry:</span><span class='ee-v'>None</span></li><li><label class='ee-shut'>properties: Object (5 properties)<input type='checkbox' class='ee-toggle'></label><ul><li><span class='ee-k'>id:</span><span class='ee-v'>4</span></li><li><span class='ee-k'>B2:</span><span class='ee-v'>728</span></li><li><span class='ee-k'>B3:</span><span class='ee-v'>992.5</span></li><li><span class='ee-k'>B4:</span><span class='ee-v'>1133.5</span></li><li><span class='ee-k'>B8:</span><span class='ee-v'>3530</span></li></ul></li></ul></li><li><label class='ee-shut'>272: Feature (5 properties)<input type='checkbox' class='ee-toggle'></label><ul><li><span class='ee-k'>type:</span><span class='ee-v'>Feature</span></li><li><span class='ee-k'>id:</span><span class='ee-v'>272_0</span></li><li><span class='ee-k'>geometry:</span><span class='ee-v'>None</span></li><li><label class='ee-shut'>properties: Object (5 properties)<input type='checkbox' class='ee-toggle'></label><ul><li><span class='ee-k'>id:</span><span class='ee-v'>4</span></li><li><span class='ee-k'>B2:</span><span class='ee-v'>817</span></li><li><span class='ee-k'>B3:</span><span class='ee-v'>1110</span></li><li><span class='ee-k'>B4:</span><span class='ee-v'>1408</span></li><li><span class='ee-k'>B8:</span><span class='ee-v'>3523</span></li></ul></li></ul></li><li><label class='ee-shut'>273: Feature (5 properties)<input type='checkbox' class='ee-toggle'></label><ul><li><span class='ee-k'>type:</span><span class='ee-v'>Feature</span></li><li><span class='ee-k'>id:</span><span class='ee-v'>273_0</span></li><li><span class='ee-k'>geometry:</span><span class='ee-v'>None</span></li><li><label class='ee-shut'>properties: Object (5 properties)<input type='checkbox' class='ee-toggle'></label><ul><li><span class='ee-k'>id:</span><span class='ee-v'>4</span></li><li><span class='ee-k'>B2:</span><span class='ee-v'>439.5</span></li><li><span class='ee-k'>B3:</span><span class='ee-v'>766</span></li><li><span class='ee-k'>B4:</span><span class='ee-v'>583.5</span></li><li><span class='ee-k'>B8:</span><span class='ee-v'>3932.5</span></li></ul></li></ul></li><li><label class='ee-shut'>274: Feature (5 properties)<input type='checkbox' class='ee-toggle'></label><ul><li><span class='ee-k'>type:</span><span class='ee-v'>Feature</span></li><li><span class='ee-k'>id:</span><span class='ee-v'>274_0</span></li><li><span class='ee-k'>geometry:</span><span class='ee-v'>None</span></li><li><label class='ee-shut'>properties: Object (5 properties)<input type='checkbox' class='ee-toggle'></label><ul><li><span class='ee-k'>id:</span><span class='ee-v'>4</span></li><li><span class='ee-k'>B2:</span><span class='ee-v'>446</span></li><li><span class='ee-k'>B3:</span><span class='ee-v'>893</span></li><li><span class='ee-k'>B4:</span><span class='ee-v'>524.5</span></li><li><span class='ee-k'>B8:</span><span class='ee-v'>3667</span></li></ul></li></ul></li><li><label class='ee-shut'>275: Feature (5 properties)<input type='checkbox' class='ee-toggle'></label><ul><li><span class='ee-k'>type:</span><span class='ee-v'>Feature</span></li><li><span class='ee-k'>id:</span><span class='ee-v'>275_0</span></li><li><span class='ee-k'>geometry:</span><span class='ee-v'>None</span></li><li><label class='ee-shut'>properties: Object (5 properties)<input type='checkbox' class='ee-toggle'></label><ul><li><span class='ee-k'>id:</span><span class='ee-v'>4</span></li><li><span class='ee-k'>B2:</span><span class='ee-v'>514</span></li><li><span class='ee-k'>B3:</span><span class='ee-v'>960.5</span></li><li><span class='ee-k'>B4:</span><span class='ee-v'>526.5</span></li><li><span class='ee-k'>B8:</span><span class='ee-v'>3741.5</span></li></ul></li></ul></li><li><label class='ee-shut'>276: Feature (5 properties)<input type='checkbox' class='ee-toggle'></label><ul><li><span class='ee-k'>type:</span><span class='ee-v'>Feature</span></li><li><span class='ee-k'>id:</span><span class='ee-v'>276_0</span></li><li><span class='ee-k'>geometry:</span><span class='ee-v'>None</span></li><li><label class='ee-shut'>properties: Object (5 properties)<input type='checkbox' class='ee-toggle'></label><ul><li><span class='ee-k'>id:</span><span class='ee-v'>4</span></li><li><span class='ee-k'>B2:</span><span class='ee-v'>574</span></li><li><span class='ee-k'>B3:</span><span class='ee-v'>1058.5</span></li><li><span class='ee-k'>B4:</span><span class='ee-v'>730</span></li><li><span class='ee-k'>B8:</span><span class='ee-v'>3553</span></li></ul></li></ul></li><li><label class='ee-shut'>277: Feature (5 properties)<input type='checkbox' class='ee-toggle'></label><ul><li><span class='ee-k'>type:</span><span class='ee-v'>Feature</span></li><li><span class='ee-k'>id:</span><span class='ee-v'>277_0</span></li><li><span class='ee-k'>geometry:</span><span class='ee-v'>None</span></li><li><label class='ee-shut'>properties: Object (5 properties)<input type='checkbox' class='ee-toggle'></label><ul><li><span class='ee-k'>id:</span><span class='ee-v'>4</span></li><li><span class='ee-k'>B2:</span><span class='ee-v'>508.5</span></li><li><span class='ee-k'>B3:</span><span class='ee-v'>967</span></li><li><span class='ee-k'>B4:</span><span class='ee-v'>559</span></li><li><span class='ee-k'>B8:</span><span class='ee-v'>4161.5</span></li></ul></li></ul></li><li><label class='ee-shut'>278: Feature (5 properties)<input type='checkbox' class='ee-toggle'></label><ul><li><span class='ee-k'>type:</span><span class='ee-v'>Feature</span></li><li><span class='ee-k'>id:</span><span class='ee-v'>278_0</span></li><li><span class='ee-k'>geometry:</span><span class='ee-v'>None</span></li><li><label class='ee-shut'>properties: Object (5 properties)<input type='checkbox' class='ee-toggle'></label><ul><li><span class='ee-k'>id:</span><span class='ee-v'>4</span></li><li><span class='ee-k'>B2:</span><span class='ee-v'>471</span></li><li><span class='ee-k'>B3:</span><span class='ee-v'>807.5</span></li><li><span class='ee-k'>B4:</span><span class='ee-v'>460</span></li><li><span class='ee-k'>B8:</span><span class='ee-v'>4192.5</span></li></ul></li></ul></li><li><label class='ee-shut'>279: Feature (5 properties)<input type='checkbox' class='ee-toggle'></label><ul><li><span class='ee-k'>type:</span><span class='ee-v'>Feature</span></li><li><span class='ee-k'>id:</span><span class='ee-v'>279_0</span></li><li><span class='ee-k'>geometry:</span><span class='ee-v'>None</span></li><li><label class='ee-shut'>properties: Object (5 properties)<input type='checkbox' class='ee-toggle'></label><ul><li><span class='ee-k'>id:</span><span class='ee-v'>4</span></li><li><span class='ee-k'>B2:</span><span class='ee-v'>573.5</span></li><li><span class='ee-k'>B3:</span><span class='ee-v'>990.5</span></li><li><span class='ee-k'>B4:</span><span class='ee-v'>741.5</span></li><li><span class='ee-k'>B8:</span><span class='ee-v'>3868.5</span></li></ul></li></ul></li><li><label class='ee-shut'>280: Feature (5 properties)<input type='checkbox' class='ee-toggle'></label><ul><li><span class='ee-k'>type:</span><span class='ee-v'>Feature</span></li><li><span class='ee-k'>id:</span><span class='ee-v'>280_0</span></li><li><span class='ee-k'>geometry:</span><span class='ee-v'>None</span></li><li><label class='ee-shut'>properties: Object (5 properties)<input type='checkbox' class='ee-toggle'></label><ul><li><span class='ee-k'>id:</span><span class='ee-v'>4</span></li><li><span class='ee-k'>B2:</span><span class='ee-v'>552.5</span></li><li><span class='ee-k'>B3:</span><span class='ee-v'>916.5</span></li><li><span class='ee-k'>B4:</span><span class='ee-v'>664.5</span></li><li><span class='ee-k'>B8:</span><span class='ee-v'>4133</span></li></ul></li></ul></li><li><label class='ee-shut'>281: Feature (5 properties)<input type='checkbox' class='ee-toggle'></label><ul><li><span class='ee-k'>type:</span><span class='ee-v'>Feature</span></li><li><span class='ee-k'>id:</span><span class='ee-v'>281_0</span></li><li><span class='ee-k'>geometry:</span><span class='ee-v'>None</span></li><li><label class='ee-shut'>properties: Object (5 properties)<input type='checkbox' class='ee-toggle'></label><ul><li><span class='ee-k'>id:</span><span class='ee-v'>4</span></li><li><span class='ee-k'>B2:</span><span class='ee-v'>481.5</span></li><li><span class='ee-k'>B3:</span><span class='ee-v'>958</span></li><li><span class='ee-k'>B4:</span><span class='ee-v'>528</span></li><li><span class='ee-k'>B8:</span><span class='ee-v'>3810.5</span></li></ul></li></ul></li><li><label class='ee-shut'>282: Feature (5 properties)<input type='checkbox' class='ee-toggle'></label><ul><li><span class='ee-k'>type:</span><span class='ee-v'>Feature</span></li><li><span class='ee-k'>id:</span><span class='ee-v'>282_0</span></li><li><span class='ee-k'>geometry:</span><span class='ee-v'>None</span></li><li><label class='ee-shut'>properties: Object (5 properties)<input type='checkbox' class='ee-toggle'></label><ul><li><span class='ee-k'>id:</span><span class='ee-v'>4</span></li><li><span class='ee-k'>B2:</span><span class='ee-v'>539</span></li><li><span class='ee-k'>B3:</span><span class='ee-v'>956.5</span></li><li><span class='ee-k'>B4:</span><span class='ee-v'>633.5</span></li><li><span class='ee-k'>B8:</span><span class='ee-v'>4027</span></li></ul></li></ul></li><li><label class='ee-shut'>283: Feature (5 properties)<input type='checkbox' class='ee-toggle'></label><ul><li><span class='ee-k'>type:</span><span class='ee-v'>Feature</span></li><li><span class='ee-k'>id:</span><span class='ee-v'>283_0</span></li><li><span class='ee-k'>geometry:</span><span class='ee-v'>None</span></li><li><label class='ee-shut'>properties: Object (5 properties)<input type='checkbox' class='ee-toggle'></label><ul><li><span class='ee-k'>id:</span><span class='ee-v'>4</span></li><li><span class='ee-k'>B2:</span><span class='ee-v'>512</span></li><li><span class='ee-k'>B3:</span><span class='ee-v'>968.5</span></li><li><span class='ee-k'>B4:</span><span class='ee-v'>529.5</span></li><li><span class='ee-k'>B8:</span><span class='ee-v'>4101</span></li></ul></li></ul></li><li><label class='ee-shut'>284: Feature (5 properties)<input type='checkbox' class='ee-toggle'></label><ul><li><span class='ee-k'>type:</span><span class='ee-v'>Feature</span></li><li><span class='ee-k'>id:</span><span class='ee-v'>284_0</span></li><li><span class='ee-k'>geometry:</span><span class='ee-v'>None</span></li><li><label class='ee-shut'>properties: Object (5 properties)<input type='checkbox' class='ee-toggle'></label><ul><li><span class='ee-k'>id:</span><span class='ee-v'>4</span></li><li><span class='ee-k'>B2:</span><span class='ee-v'>453.5</span></li><li><span class='ee-k'>B3:</span><span class='ee-v'>826.5</span></li><li><span class='ee-k'>B4:</span><span class='ee-v'>555</span></li><li><span class='ee-k'>B8:</span><span class='ee-v'>3889</span></li></ul></li></ul></li></ul></li></ul></li></ul></div><script>function toggleHeader() {\n",
              "    const parent = this.parentElement;\n",
              "    parent.className = parent.className === \"ee-open\" ? \"ee-shut\" : \"ee-open\";\n",
              "}\n",
              "\n",
              "for (let c of document.getElementsByClassName(\"ee-toggle\")) {\n",
              "    c.onclick = toggleHeader;\n",
              "}</script></div>"
            ]
          },
          "metadata": {},
          "execution_count": 7
        }
      ]
    },
    {
      "cell_type": "code",
      "source": [
        "myClassifier = ee.Classifier.minimumDistance().train(example_pnts, 'id')\n",
        "KrabiClassImg= KrabiImg.classify(myClassifier)\n",
        "Map = geemap.Map(center = [8.08,98.92], zoom = 12)\n",
        "vis_Para = {'min': 1, 'max': 4, 'palette':['green', 'red', 'blue', 'yellow']}\n",
        "Map.addLayer(KrabiClassImg, vis_Para, name=\"Krabi - Landcover\")\n",
        "Map"
      ],
      "metadata": {
        "colab": {
          "base_uri": "https://localhost:8080/",
          "height": 621,
          "referenced_widgets": [
            "0dd74d1bedb24a10ae3b531109f9d734",
            "43679a4f84314502ad96baf9198d15e3",
            "54348dd9e0b443498df82e2fa64c8150",
            "b94d4b563cff4d1098538a09e09f39fa",
            "b0316ce6fe434219af1372793bb42df8",
            "3d451c18ff584c819f3eb45951c1a941",
            "b903b740d5fb4a43934f76244ec19fd4",
            "617d16b6dce648d6831732a7ed0006d0",
            "a4d27dbb5c64477983785b461266230d",
            "3d601ddfb63047e4be008ef68372b4ce",
            "375ce65f8e3342cebc6bf43e16897f39",
            "1e4c51cc3a9c41b896060ffea66116a5",
            "87f612eb9e254b91895521471c35c9e0",
            "e6faac5346c348f1a8f8c06cfb5b98ce",
            "215ae01c74594f2cbcfd81b6197e9fbb",
            "c2d98997cee74f93b1a233cdd265685a",
            "a47de3da7a344b58b216510fe5c0ef87",
            "85a9584eab1a4dd998da3e0822a90177",
            "d352cccbf43548c4bc77c0ef25d14d32",
            "b7ea80c200ff43b7af9c73463055605d",
            "00ce13f94a824d7b8c25ea6ecf56b88a",
            "91f77eb68a1a4e36a77e9520489b87ea",
            "fa8c42f0ddff4c259954bcb3b51716e9",
            "ad675c87c26b41e9bdf9a96e19ddbf1c",
            "09c885e154c742eb9bad6fe266ecaa69"
          ]
        },
        "id": "6DdgR7b2dPX6",
        "outputId": "6f0aa840-35c0-4c83-b294-61bce204c769"
      },
      "execution_count": 8,
      "outputs": [
        {
          "output_type": "display_data",
          "data": {
            "text/plain": [
              "<IPython.core.display.HTML object>"
            ],
            "text/html": [
              "\n",
              "            <style>\n",
              "                .geemap-dark {\n",
              "                    --jp-widgets-color: white;\n",
              "                    --jp-widgets-label-color: white;\n",
              "                    --jp-ui-font-color1: white;\n",
              "                    --jp-layout-color2: #454545;\n",
              "                    background-color: #383838;\n",
              "                }\n",
              "\n",
              "                .geemap-dark .jupyter-button {\n",
              "                    --jp-layout-color3: #383838;\n",
              "                }\n",
              "\n",
              "                .geemap-colab {\n",
              "                    background-color: var(--colab-primary-surface-color, white);\n",
              "                }\n",
              "\n",
              "                .geemap-colab .jupyter-button {\n",
              "                    --jp-layout-color3: var(--colab-primary-surface-color, white);\n",
              "                }\n",
              "            </style>\n",
              "            "
            ]
          },
          "metadata": {}
        },
        {
          "output_type": "display_data",
          "data": {
            "text/plain": [
              "Map(center=[8.08, 98.92], controls=(WidgetControl(options=['position', 'transparent_bg'], widget=SearchDataGUI…"
            ],
            "application/vnd.jupyter.widget-view+json": {
              "version_major": 2,
              "version_minor": 0,
              "model_id": "0dd74d1bedb24a10ae3b531109f9d734"
            }
          },
          "metadata": {
            "application/vnd.jupyter.widget-view+json": {
              "colab": {
                "custom_widget_manager": {
                  "url": "https://ssl.gstatic.com/colaboratory-static/widgets/colab-cdn-widget-manager/2b70e893a8ba7c0f/manager.min.js"
                }
              }
            }
          }
        }
      ]
    },
    {
      "cell_type": "code",
      "source": [
        "myClassifierRF = ee.Classifier.smileRandomForest(numberOfTrees=100).train(example_pnts, 'id')\n",
        "KrabiClassImg= KrabiImg.classify(myClassifierRF)\n",
        "Map = geemap.Map(center = [8.08,98.92], zoom = 12)\n",
        "vis_Para = {'min': 1, 'max': 4, 'palette':['green', 'red', 'blue', 'yellow']}\n",
        "Map.addLayer(KrabiClassImg, vis_Para, name=\"Krabi - Landcover\")\n",
        "Map"
      ],
      "metadata": {
        "colab": {
          "base_uri": "https://localhost:8080/",
          "height": 621,
          "referenced_widgets": [
            "aa4fdf17dc214b278a1e510a76f88feb",
            "21c2990216674fc6acef7b30fc5b1685",
            "88e9141ffc4f484d940c8c1aa31dcb58",
            "b1b2ae153b1d40a39ae53c358cfa26c2",
            "fdbada265fd142cdacb2c3fe3bc47bb0",
            "a32bd4b230914c4f8d8e07f9017c8a09",
            "6c5a7ec250024e8f8871afdc85d0ffdc",
            "3adc0bd5b33b4235b297f299dde9efac",
            "275bbe2adb6541ce996a8bf4832272d6",
            "0d7e26635f214b17af72d28428fc31c3",
            "a2099d8dc60a4a8dac0222c8eb4e8e94",
            "21058b300b9b4e7d847a6ea5d58a8beb",
            "da08cc11a3c2421aab1c56dc3e0c5472",
            "01748c95878c45978599c2b00675c940",
            "878f475b86e34f379c3838da5bf2c6d0",
            "85089aecfce54db3b5aef5deeeeef623",
            "5f24ae40c3564fff9cc157ed890bf764",
            "8d2c9dbfe8274fba820ac8c13b870700",
            "506f610ab4b84cbb8dabc7576491df51",
            "f7c3e3544aeb48628967292d68154f3f",
            "c1df71ef81ed4a11a5ad8fa52bafc1a5",
            "3397394703f44c58aa8bd620d1732246",
            "5b9071b8bf1a4f3b94923ae8d21fdd99",
            "68467bdaced74b8a88bd016f9bdc9b3e",
            "bfa1eb9f192248e397d53d1b01c5bc6d"
          ]
        },
        "id": "2JjO7io-eEKa",
        "outputId": "a0ae2efa-d720-4489-cbeb-c42a1f49aad3"
      },
      "execution_count": 9,
      "outputs": [
        {
          "output_type": "display_data",
          "data": {
            "text/plain": [
              "<IPython.core.display.HTML object>"
            ],
            "text/html": [
              "\n",
              "            <style>\n",
              "                .geemap-dark {\n",
              "                    --jp-widgets-color: white;\n",
              "                    --jp-widgets-label-color: white;\n",
              "                    --jp-ui-font-color1: white;\n",
              "                    --jp-layout-color2: #454545;\n",
              "                    background-color: #383838;\n",
              "                }\n",
              "\n",
              "                .geemap-dark .jupyter-button {\n",
              "                    --jp-layout-color3: #383838;\n",
              "                }\n",
              "\n",
              "                .geemap-colab {\n",
              "                    background-color: var(--colab-primary-surface-color, white);\n",
              "                }\n",
              "\n",
              "                .geemap-colab .jupyter-button {\n",
              "                    --jp-layout-color3: var(--colab-primary-surface-color, white);\n",
              "                }\n",
              "            </style>\n",
              "            "
            ]
          },
          "metadata": {}
        },
        {
          "output_type": "display_data",
          "data": {
            "text/plain": [
              "Map(center=[8.08, 98.92], controls=(WidgetControl(options=['position', 'transparent_bg'], widget=SearchDataGUI…"
            ],
            "application/vnd.jupyter.widget-view+json": {
              "version_major": 2,
              "version_minor": 0,
              "model_id": "aa4fdf17dc214b278a1e510a76f88feb"
            }
          },
          "metadata": {
            "application/vnd.jupyter.widget-view+json": {
              "colab": {
                "custom_widget_manager": {
                  "url": "https://ssl.gstatic.com/colaboratory-static/widgets/colab-cdn-widget-manager/2b70e893a8ba7c0f/manager.min.js"
                }
              }
            }
          }
        }
      ]
    },
    {
      "cell_type": "code",
      "source": [
        "lc_gt_val = geemap.shp_to_ee('/content/krabi_gt_val.shp')\n",
        "validation_pnts = KrabiImg.sampleRegions(lc_gt_val, scale=30)"
      ],
      "metadata": {
        "colab": {
          "base_uri": "https://localhost:8080/",
          "height": 17
        },
        "id": "Z4BtjITjfTHN",
        "outputId": "8a244351-82aa-4d1d-d01a-c0c95945b0f6"
      },
      "execution_count": 10,
      "outputs": [
        {
          "output_type": "display_data",
          "data": {
            "text/plain": [
              "<IPython.core.display.HTML object>"
            ],
            "text/html": [
              "\n",
              "            <style>\n",
              "                .geemap-dark {\n",
              "                    --jp-widgets-color: white;\n",
              "                    --jp-widgets-label-color: white;\n",
              "                    --jp-ui-font-color1: white;\n",
              "                    --jp-layout-color2: #454545;\n",
              "                    background-color: #383838;\n",
              "                }\n",
              "\n",
              "                .geemap-dark .jupyter-button {\n",
              "                    --jp-layout-color3: #383838;\n",
              "                }\n",
              "\n",
              "                .geemap-colab {\n",
              "                    background-color: var(--colab-primary-surface-color, white);\n",
              "                }\n",
              "\n",
              "                .geemap-colab .jupyter-button {\n",
              "                    --jp-layout-color3: var(--colab-primary-surface-color, white);\n",
              "                }\n",
              "            </style>\n",
              "            "
            ]
          },
          "metadata": {}
        }
      ]
    },
    {
      "cell_type": "code",
      "source": [
        "validation_class = validation_pnts.classify(myClassifier)\n",
        "print(validation_class.first().getInfo())"
      ],
      "metadata": {
        "colab": {
          "base_uri": "https://localhost:8080/",
          "height": 54
        },
        "id": "lj-ribUOfU94",
        "outputId": "e3d60668-356a-4301-dcfb-6c75605ce7c8"
      },
      "execution_count": 12,
      "outputs": [
        {
          "output_type": "display_data",
          "data": {
            "text/plain": [
              "<IPython.core.display.HTML object>"
            ],
            "text/html": [
              "\n",
              "            <style>\n",
              "                .geemap-dark {\n",
              "                    --jp-widgets-color: white;\n",
              "                    --jp-widgets-label-color: white;\n",
              "                    --jp-ui-font-color1: white;\n",
              "                    --jp-layout-color2: #454545;\n",
              "                    background-color: #383838;\n",
              "                }\n",
              "\n",
              "                .geemap-dark .jupyter-button {\n",
              "                    --jp-layout-color3: #383838;\n",
              "                }\n",
              "\n",
              "                .geemap-colab {\n",
              "                    background-color: var(--colab-primary-surface-color, white);\n",
              "                }\n",
              "\n",
              "                .geemap-colab .jupyter-button {\n",
              "                    --jp-layout-color3: var(--colab-primary-surface-color, white);\n",
              "                }\n",
              "            </style>\n",
              "            "
            ]
          },
          "metadata": {}
        },
        {
          "output_type": "stream",
          "name": "stdout",
          "text": [
            "{'type': 'Feature', 'geometry': None, 'id': '0_0', 'properties': {'B2': 252.5, 'B3': 438, 'B4': 250, 'B8': 3224.5, 'classification': 1, 'id': 1}}\n"
          ]
        }
      ]
    },
    {
      "cell_type": "code",
      "source": [
        "val_accuracy = validation_class.errorMatrix('id', 'classification')\n",
        "print(val_accuracy.getInfo())\n",
        "print(val_accuracy.accuracy().getInfo())\n",
        "print(val_accuracy.kappa().getInfo())"
      ],
      "metadata": {
        "colab": {
          "base_uri": "https://localhost:8080/",
          "height": 69
        },
        "id": "N94ZSdGifzmF",
        "outputId": "7c15e8b1-e4a0-4eb2-c531-a71ced3316ba"
      },
      "execution_count": 13,
      "outputs": [
        {
          "output_type": "display_data",
          "data": {
            "text/plain": [
              "<IPython.core.display.HTML object>"
            ],
            "text/html": [
              "\n",
              "            <style>\n",
              "                .geemap-dark {\n",
              "                    --jp-widgets-color: white;\n",
              "                    --jp-widgets-label-color: white;\n",
              "                    --jp-ui-font-color1: white;\n",
              "                    --jp-layout-color2: #454545;\n",
              "                    background-color: #383838;\n",
              "                }\n",
              "\n",
              "                .geemap-dark .jupyter-button {\n",
              "                    --jp-layout-color3: #383838;\n",
              "                }\n",
              "\n",
              "                .geemap-colab {\n",
              "                    background-color: var(--colab-primary-surface-color, white);\n",
              "                }\n",
              "\n",
              "                .geemap-colab .jupyter-button {\n",
              "                    --jp-layout-color3: var(--colab-primary-surface-color, white);\n",
              "                }\n",
              "            </style>\n",
              "            "
            ]
          },
          "metadata": {}
        },
        {
          "output_type": "stream",
          "name": "stdout",
          "text": [
            "[[0, 0, 0, 0, 0], [0, 25, 0, 2, 0], [0, 4, 24, 0, 2], [0, 1, 0, 20, 0], [0, 2, 1, 0, 36]]\n",
            "0.8974358974358975\n",
            "0.8614154575066626\n"
          ]
        }
      ]
    },
    {
      "cell_type": "code",
      "source": [
        "validation_class = validation_pnts.classify(myClassifierRF)\n",
        "print(validation_class.first().getInfo())\n",
        "val_accuracy = validation_class.errorMatrix('id', 'classification')\n",
        "print(val_accuracy.getInfo())\n",
        "print(val_accuracy.accuracy().getInfo())\n",
        "print(val_accuracy.kappa().getInfo())"
      ],
      "metadata": {
        "colab": {
          "base_uri": "https://localhost:8080/",
          "height": 106
        },
        "id": "dqooVF6hgRrV",
        "outputId": "ac9054c4-c68e-484c-cf97-aeb83c9f93d7"
      },
      "execution_count": 14,
      "outputs": [
        {
          "output_type": "display_data",
          "data": {
            "text/plain": [
              "<IPython.core.display.HTML object>"
            ],
            "text/html": [
              "\n",
              "            <style>\n",
              "                .geemap-dark {\n",
              "                    --jp-widgets-color: white;\n",
              "                    --jp-widgets-label-color: white;\n",
              "                    --jp-ui-font-color1: white;\n",
              "                    --jp-layout-color2: #454545;\n",
              "                    background-color: #383838;\n",
              "                }\n",
              "\n",
              "                .geemap-dark .jupyter-button {\n",
              "                    --jp-layout-color3: #383838;\n",
              "                }\n",
              "\n",
              "                .geemap-colab {\n",
              "                    background-color: var(--colab-primary-surface-color, white);\n",
              "                }\n",
              "\n",
              "                .geemap-colab .jupyter-button {\n",
              "                    --jp-layout-color3: var(--colab-primary-surface-color, white);\n",
              "                }\n",
              "            </style>\n",
              "            "
            ]
          },
          "metadata": {}
        },
        {
          "output_type": "stream",
          "name": "stdout",
          "text": [
            "{'type': 'Feature', 'geometry': None, 'id': '0_0', 'properties': {'B2': 252.5, 'B3': 438, 'B4': 250, 'B8': 3224.5, 'classification': 1, 'id': 1}}\n",
            "[[0, 0, 0, 0, 0], [0, 25, 0, 2, 0], [0, 0, 28, 0, 2], [0, 1, 0, 20, 0], [0, 0, 2, 0, 37]]\n",
            "0.9401709401709402\n",
            "0.9189429928741093\n"
          ]
        }
      ]
    }
  ]
}